{
  "nbformat": 4,
  "nbformat_minor": 0,
  "metadata": {
    "colab": {
      "name": "NLP-preprocessing.ipynb",
      "provenance": [],
      "authorship_tag": "ABX9TyPxy3OVPJ3woPJJuMn8Yx3/",
      "include_colab_link": true
    },
    "kernelspec": {
      "name": "python3",
      "display_name": "Python 3"
    }
  },
  "cells": [
    {
      "cell_type": "markdown",
      "metadata": {
        "id": "view-in-github",
        "colab_type": "text"
      },
      "source": [
        "<a href=\"https://colab.research.google.com/github/tadeze/MLAlgorithms/blob/master/NLP_preprocessing.ipynb\" target=\"_parent\"><img src=\"https://colab.research.google.com/assets/colab-badge.svg\" alt=\"Open In Colab\"/></a>"
      ]
    },
    {
      "cell_type": "code",
      "metadata": {
        "id": "yhuPBItEA1W3",
        "colab_type": "code",
        "colab": {}
      },
      "source": [
        "import numpy as np \n",
        "import nltk\n",
        "import pandas as pd \n",
        "from bokeh.io import output_notebook, output_file\n",
        "from bokeh.plotting import show, figure\n",
        "%matplotlib inline"
      ],
      "execution_count": 0,
      "outputs": []
    },
    {
      "cell_type": "code",
      "metadata": {
        "id": "rMcKPqTpBH1k",
        "colab_type": "code",
        "colab": {
          "base_uri": "https://localhost:8080/",
          "height": 143
        },
        "outputId": "e97009c5-0292-45cd-9e59-14d0bb20a8e8"
      },
      "source": [
        "from nltk import word_tokenize, sent_tokenize\n",
        "from nltk.corpus import stopwords\n",
        "from nltk.stem.porter import * \n",
        "nltk.download('gutenberg')\n",
        "nltk.download('punkt')\n",
        "nltk.download('stopwords')\n"
      ],
      "execution_count": 2,
      "outputs": [
        {
          "output_type": "stream",
          "text": [
            "[nltk_data] Downloading package gutenberg to /root/nltk_data...\n",
            "[nltk_data]   Unzipping corpora/gutenberg.zip.\n",
            "[nltk_data] Downloading package punkt to /root/nltk_data...\n",
            "[nltk_data]   Unzipping tokenizers/punkt.zip.\n",
            "[nltk_data] Downloading package stopwords to /root/nltk_data...\n",
            "[nltk_data]   Unzipping corpora/stopwords.zip.\n"
          ],
          "name": "stdout"
        },
        {
          "output_type": "execute_result",
          "data": {
            "text/plain": [
              "True"
            ]
          },
          "metadata": {
            "tags": []
          },
          "execution_count": 2
        }
      ]
    },
    {
      "cell_type": "code",
      "metadata": {
        "id": "XXWjFjhQBasP",
        "colab_type": "code",
        "colab": {}
      },
      "source": [
        "import string \n",
        "import gensim\n",
        "from gensim.models.phrases import Phraser, Phrases\n",
        "from gensim.models.word2vec import Word2Vec\n",
        "from sklearn.manifold import TSNE\n"
      ],
      "execution_count": 0,
      "outputs": []
    },
    {
      "cell_type": "code",
      "metadata": {
        "id": "r2MDakF1Bm7R",
        "colab_type": "code",
        "colab": {}
      },
      "source": [
        "# Tokenization \n",
        "# The corpus canbe easily added \n",
        "from nltk.corpus import gutenberg\n",
        "# tokenize based on sentence\n",
        "gber_sent_tokens = sent_tokenize(gutenberg.raw()\n",
        "                                 )"
      ],
      "execution_count": 0,
      "outputs": []
    },
    {
      "cell_type": "code",
      "metadata": {
        "id": "FDQijB6hCNYj",
        "colab_type": "code",
        "colab": {
          "base_uri": "https://localhost:8080/",
          "height": 55
        },
        "outputId": "edb3f2f5-6701-46fe-ff0e-a83c6bf31809"
      },
      "source": [
        "gber_sent_tokens[1]"
      ],
      "execution_count": 9,
      "outputs": [
        {
          "output_type": "execute_result",
          "data": {
            "text/plain": [
              "\"She was the youngest of the two daughters of a most affectionate,\\nindulgent father; and had, in consequence of her sister's marriage,\\nbeen mistress of his house from a very early period.\""
            ]
          },
          "metadata": {
            "tags": []
          },
          "execution_count": 9
        }
      ]
    },
    {
      "cell_type": "code",
      "metadata": {
        "id": "Lvg38cL1CT2k",
        "colab_type": "code",
        "colab": {
          "base_uri": "https://localhost:8080/",
          "height": 35
        },
        "outputId": "d2020ef0-94f5-43a6-e1d8-49f5ff12acde"
      },
      "source": [
        "# further tokenize based on words. \n",
        "word_tokenize(gber_sent_tokens[1])[3]"
      ],
      "execution_count": 24,
      "outputs": [
        {
          "output_type": "execute_result",
          "data": {
            "text/plain": [
              "'youngest'"
            ]
          },
          "metadata": {
            "tags": []
          },
          "execution_count": 24
        }
      ]
    },
    {
      "cell_type": "code",
      "metadata": {
        "id": "NnbH3-E_EKEs",
        "colab_type": "code",
        "colab": {}
      },
      "source": [
        "# just sentences. \n",
        "gberg_sents = gutenberg.sents()"
      ],
      "execution_count": 0,
      "outputs": []
    },
    {
      "cell_type": "code",
      "metadata": {
        "id": "SJjielvQCxg4",
        "colab_type": "code",
        "colab": {
          "base_uri": "https://localhost:8080/",
          "height": 719
        },
        "outputId": "a614780b-84e5-441e-a4e3-79bcd5528ddd"
      },
      "source": [
        "# Convert all to lowercases. \n",
        " [w.lower() for w in gberg_sents[4]] # characterbase"
      ],
      "execution_count": 29,
      "outputs": [
        {
          "output_type": "execute_result",
          "data": {
            "text/plain": [
              "['she',\n",
              " 'was',\n",
              " 'the',\n",
              " 'youngest',\n",
              " 'of',\n",
              " 'the',\n",
              " 'two',\n",
              " 'daughters',\n",
              " 'of',\n",
              " 'a',\n",
              " 'most',\n",
              " 'affectionate',\n",
              " ',',\n",
              " 'indulgent',\n",
              " 'father',\n",
              " ';',\n",
              " 'and',\n",
              " 'had',\n",
              " ',',\n",
              " 'in',\n",
              " 'consequence',\n",
              " 'of',\n",
              " 'her',\n",
              " 'sister',\n",
              " \"'\",\n",
              " 's',\n",
              " 'marriage',\n",
              " ',',\n",
              " 'been',\n",
              " 'mistress',\n",
              " 'of',\n",
              " 'his',\n",
              " 'house',\n",
              " 'from',\n",
              " 'a',\n",
              " 'very',\n",
              " 'early',\n",
              " 'period',\n",
              " '.']"
            ]
          },
          "metadata": {
            "tags": []
          },
          "execution_count": 29
        }
      ]
    },
    {
      "cell_type": "code",
      "metadata": {
        "id": "9xfal23-DWcz",
        "colab_type": "code",
        "colab": {}
      },
      "source": [
        "# Remove stopwords \n",
        "stwrds = stopwords.words('english') + list(string.punctuation)"
      ],
      "execution_count": 0,
      "outputs": []
    },
    {
      "cell_type": "code",
      "metadata": {
        "id": "K64P8bAPDe_4",
        "colab_type": "code",
        "colab": {
          "base_uri": "https://localhost:8080/",
          "height": 251
        },
        "outputId": "6ec3845a-c534-423b-b802-5077a3351e88"
      },
      "source": [
        "# Remove \n",
        "[w.lower() for w in gberg_sents[4] if w.lower() not in stwrds]"
      ],
      "execution_count": 30,
      "outputs": [
        {
          "output_type": "execute_result",
          "data": {
            "text/plain": [
              "['youngest',\n",
              " 'two',\n",
              " 'daughters',\n",
              " 'affectionate',\n",
              " 'indulgent',\n",
              " 'father',\n",
              " 'consequence',\n",
              " 'sister',\n",
              " 'marriage',\n",
              " 'mistress',\n",
              " 'house',\n",
              " 'early',\n",
              " 'period']"
            ]
          },
          "metadata": {
            "tags": []
          },
          "execution_count": 30
        }
      ]
    },
    {
      "cell_type": "code",
      "metadata": {
        "id": "u4TIDEY8Dumm",
        "colab_type": "code",
        "colab": {
          "base_uri": "https://localhost:8080/",
          "height": 55
        },
        "outputId": "e0f41e6e-8c29-418e-edf9-71ae971cac77"
      },
      "source": [
        "### Stemming \n",
        "'''\n",
        "Stemming algorith uses the porter algorithm. An algorithm for suffix stripping. E.g. duaghters to daughter\n",
        "house to hous or related words house housing treat as same. \n",
        "'''\n"
      ],
      "execution_count": 33,
      "outputs": [
        {
          "output_type": "execute_result",
          "data": {
            "text/plain": [
              "'\\nStemming algorith uses the porter algorithm. An algorithm for suffix stripping. E.g. duaghters to daughter\\nhouse to hous or related words house housing treat as same. \\n'"
            ]
          },
          "metadata": {
            "tags": []
          },
          "execution_count": 33
        }
      ]
    },
    {
      "cell_type": "code",
      "metadata": {
        "id": "laZp-yB0Gm5r",
        "colab_type": "code",
        "colab": {}
      },
      "source": [
        "stemmer = PorterStemmer()\n",
        "[stemmer.stem(w.lower()) for w in gberg_sents[4] if w.lower() not in stwrds]"
      ],
      "execution_count": 0,
      "outputs": []
    },
    {
      "cell_type": "code",
      "metadata": {
        "id": "TM7Qj93gCs4O",
        "colab_type": "code",
        "colab": {
          "base_uri": "https://localhost:8080/",
          "height": 55
        },
        "outputId": "cb86af3f-a322-427d-b37b-e66b12447bcf"
      },
      "source": [
        "## Handling n-grams\n",
        "\"\"\"\n",
        "To treat bigram like New York as a single token instead of two, we can use Phrases() and Phraser()\n",
        "from genism library. Bigram takes only last one words as dependencies. P(w_t|w_{t-1}).\n",
        "\n",
        "The biram model basically analysis how often a pair of words appear together. Then count and score the probablity of a\n",
        "pair appearing together.\n",
        "\n",
        "\"\"\""
      ],
      "execution_count": 35,
      "outputs": [
        {
          "output_type": "execute_result",
          "data": {
            "text/plain": [
              "'\\nTo treat bigram like New York as a single token instead of two, we can use Phrases() and Phraser()\\nfrom genism library. Bigram takes only last one words as dependencies. P(w_t|w_{t-1})\\n'"
            ]
          },
          "metadata": {
            "tags": []
          },
          "execution_count": 35
        }
      ]
    },
    {
      "cell_type": "code",
      "metadata": {
        "id": "LXNplY8gHPO7",
        "colab_type": "code",
        "colab": {}
      },
      "source": [
        "phrases = Phrases(gberg_sents) # takes a sentece to identify how often any given pair words occur together\n",
        "bigram = Phraser(phrases)"
      ],
      "execution_count": 0,
      "outputs": []
    },
    {
      "cell_type": "code",
      "metadata": {
        "id": "zcoIf4L5H6M4",
        "colab_type": "code",
        "colab": {
          "base_uri": "https://localhost:8080/",
          "height": 1000
        },
        "outputId": "6c573f90-11bd-44d3-e20d-dcf5e8129c93"
      },
      "source": [
        "bigram.phrasegrams  # This display how often the count and score each bigram appear together."
      ],
      "execution_count": 42,
      "outputs": [
        {
          "output_type": "execute_result",
          "data": {
            "text/plain": [
              "{(b'two', b'daughters'): (19, 11.966813731181546),\n",
              " (b'her', b'sister'): (195, 17.7960829227865),\n",
              " (b\"'\", b's'): (9781, 31.066242737744524),\n",
              " (b'very', b'early'): (24, 11.01214147275924),\n",
              " (b'Her', b'mother'): (14, 13.529425062715127),\n",
              " (b'long', b'ago'): (38, 63.22343628984788),\n",
              " (b'more', b'than'): (541, 29.023584433996874),\n",
              " (b'had', b'been'): (1256, 22.306024648925288),\n",
              " (b'an', b'excellent'): (54, 39.063874851750626),\n",
              " (b'Miss', b'Taylor'): (48, 453.75918026073305),\n",
              " (b'very', b'fond'): (28, 24.134280468850747),\n",
              " (b'passed', b'away'): (25, 12.35053642325912),\n",
              " (b'too', b'much'): (173, 31.376002029426687),\n",
              " (b'did', b'not'): (935, 11.728416217142811),\n",
              " (b'any', b'means'): (27, 14.096964108090186),\n",
              " (b'wedding', b'-'): (15, 17.4695197740113),\n",
              " (b'Her', b'father'): (18, 13.129571562488772),\n",
              " (b'after', b'dinner'): (21, 21.5285481168817),\n",
              " (b'self', b'-'): (124, 47.79018053120332),\n",
              " (b'sixteen', b'years'): (12, 107.0461671612265),\n",
              " (b'five', b'years'): (42, 40.128755673408115),\n",
              " (b'years', b'old'): (176, 54.735425236061104),\n",
              " (b'seven', b'years'): (51, 52.59411150244507),\n",
              " (b'each', b'other'): (236, 79.4168405322873),\n",
              " (b'a', b'mile'): (48, 12.783091600264584),\n",
              " (b'must', b'be'): (601, 10.229989650632808),\n",
              " (b'difference', b'between'): (44, 220.5253730524468),\n",
              " (b'could', b'not'): (1049, 10.870983286982371),\n",
              " (b'having', b'been'): (49, 11.538018331569376),\n",
              " (b'miles', b'off'): (16, 34.7868137375225),\n",
              " (b'at', b'Hartfield'): (66, 27.282227059708397),\n",
              " (b'her', b'husband'): (158, 27.544395195049724),\n",
              " (b'in', b'spite'): (96, 13.441914963088442),\n",
              " (b'Emma', b'could'): (61, 11.335111257744053),\n",
              " (b'every', b'body'): (127, 36.972582976825784),\n",
              " (b'no', b'means'): (80, 32.57361823161739),\n",
              " (b'his', b'own'): (773, 10.402387689390995),\n",
              " (b'obliged', b'to'): (179, 10.43662879984823),\n",
              " (b'able', b'to'): (348, 11.446828804673226),\n",
              " (b'very', b'much'): (234, 16.21027499400206),\n",
              " (b'have', b'been'): (986, 17.981191047801964),\n",
              " (b'great', b'deal'): (181, 118.04013764577145),\n",
              " (b'\"', b'Poor'): (30, 10.125586409383336),\n",
              " (b'agree', b'with'): (25, 13.611743912451109),\n",
              " (b'-', b'humoured'): (22, 33.94078127522195),\n",
              " (b'for', b'ever'): (555, 12.4761138144463),\n",
              " (b'This', b'is'): (353, 11.381028160111825),\n",
              " (b'three', b'times'): (36, 35.42578086743132),\n",
              " (b'my', b'dear'): (253, 24.47894249615343),\n",
              " (b'How', b'often'): (12, 12.377968718725876),\n",
              " (b'My', b'dear'): (85, 84.80698289930197),\n",
              " (b'so', b'far'): (98, 10.161632478973766),\n",
              " (b'\"', b'No'): (351, 15.063706270011586),\n",
              " (b'We', b'must'): (68, 18.765646900386386),\n",
              " (b'last', b'night'): (63, 23.592598950882213),\n",
              " (b'doubt', b'whether'): (12, 22.924130736398396),\n",
              " (b'anywhere', b'else'): (6, 16.100101533414907),\n",
              " (b'I', b'am'): (2428, 16.951297329049222),\n",
              " (b'very', b'glad'): (46, 18.28434074650975),\n",
              " (b'am', b'sure'): (282, 65.1446020744797),\n",
              " (b'very', b'pretty'): (39, 20.068178868120455),\n",
              " (b'be', b'able'): (121, 11.347612277348256),\n",
              " (b'immediately', b'afterwards'): (10, 41.06053966483414),\n",
              " (b'sensible', b'man'): (17, 14.541388094211703),\n",
              " (b'intimate', b'friend'): (6, 21.898760623229464),\n",
              " (b'connected', b'with'): (31, 18.375854281808998),\n",
              " (b'than', b'usual'): (30, 28.951968704471486),\n",
              " (b'Brunswick', b'Square'): (11, 10881.307917888562),\n",
              " (b'some', b'time'): (146, 12.926553753557874),\n",
              " (b'poor', b'Isabella'): (10, 41.30241100647832),\n",
              " (b'It', b'is'): (777, 11.705870174225897),\n",
              " (b'am', b'afraid'): (65, 25.627391867391864),\n",
              " (b'moonlight', b'night'): (6, 14.745374344301382),\n",
              " (b'Look', b'at'): (33, 13.630464729284446),\n",
              " (b'\"', b'Well'): (311, 21.191330893669),\n",
              " (b'vast', b'deal'): (11, 61.90400400400401),\n",
              " (b'an', b'hour'): (150, 41.75757187695002),\n",
              " (b'pretty', b'well'): (20, 17.716415202444615),\n",
              " (b'tolerably', b'well'): (7, 18.357580705009276),\n",
              " (b'\"', b'Ah'): (83, 17.279509006244886),\n",
              " (b'Ah', b'!'): (68, 37.53295698121932),\n",
              " (b\"'\", b'Tis'): (64, 23.239343942788935),\n",
              " (b'Miss', b'Woodhouse'): (173, 294.52709701744294),\n",
              " (b'you', b'please'): (93, 13.035980721875688),\n",
              " (b'any', b'rate'): (47, 83.92034351736973),\n",
              " (b',\"', b'said'): (2583, 36.03254133384804),\n",
              " (b'My', b'dearest'): (7, 26.665272507761294),\n",
              " (b'so', b'much'): (483, 20.56443776042493),\n",
              " (b'much', b'less'): (38, 19.104435569934505),\n",
              " (b'any', b'body'): (93, 21.716438732250484),\n",
              " (b'has', b'been'): (263, 29.2606767165493),\n",
              " (b'been', b'used'): (29, 14.09410182779525),\n",
              " (b'Well', b',\"'): (60, 12.493546273257474),\n",
              " (b'tell', b'you'): (296, 11.612165547868624),\n",
              " (b'Every', b'body'): (21, 72.2001079929367),\n",
              " (b'\"', b'Dear'): (39, 20.048661090579007),\n",
              " (b'every', b'thing'): (240, 27.277168506679985),\n",
              " (b'very', b'sorry'): (32, 20.255731941654293),\n",
              " (b'turned', b'away'): (50, 19.3446247292484),\n",
              " (b'divided', b'between'): (10, 35.82806127178346),\n",
              " (b'knows', b'how'): (13, 14.800957338598696),\n",
              " (b'how', b'much'): (110, 15.417663894373641),\n",
              " (b'four', b'years'): (21, 16.257604884476734),\n",
              " (b'years', b'ago'): (56, 163.33147420261938),\n",
              " (b'any', b'thing'): (383, 35.72804044966351),\n",
              " (b'need', b'not'): (107, 13.478832663938945),\n",
              " (b'his', b'wife'): (263, 10.870850757012368),\n",
              " (b'Ever', b'since'): (8, 99.63818474758324),\n",
              " (b'leave', b'off'): (18, 10.507247077643713),\n",
              " (b'you', b'mean'): (142, 10.573995913362895),\n",
              " (b'young', b'lady'): (73, 113.30511794581632),\n",
              " (b'depend', b'upon'): (28, 66.33685452578166),\n",
              " (b'quarrel', b'with'): (21, 10.691406127597961),\n",
              " (b'-', b'hearted'): (45, 49.037248488452775),\n",
              " (b'their', b'own'): (279, 10.164510720981893),\n",
              " (b'You', b'are'): (231, 12.60019671587268),\n",
              " (b'more', b'likely'): (16, 11.176882987148272),\n",
              " (b'have', b'done'): (272, 12.664105519891397),\n",
              " (b',\"', b'rejoined'): (6, 11.956633540853023),\n",
              " (b'any', b'longer'): (32, 16.396201569570135),\n",
              " (b'very', b'well'): (171, 13.844437162007257),\n",
              " (b'young', b'man'): (260, 25.863812524396362),\n",
              " (b'dine', b'with'): (22, 13.88397879070013),\n",
              " (b'much', b'better'): (38, 10.763384154831522),\n",
              " (b'I', b'dare'): (138, 13.676468274997303),\n",
              " (b'dare', b'say'): (114, 128.21086697682205),\n",
              " (b'Depend', b'upon'): (17, 92.29475412282665),\n",
              " (b'take', b'care'): (59, 72.93974751004718),\n",
              " (b'CHAPTER', b'II'): (11, 335.5512750949539),\n",
              " (b'entering', b'into'): (14, 16.437457915441044),\n",
              " (b'never', b'seen'): (42, 14.015206798866856),\n",
              " (b'refrain', b'from'): (9, 12.438010669696954),\n",
              " (b'at', b'once'): (263, 21.418172245725966),\n",
              " (b'three', b'years'): (77, 37.3552600780725),\n",
              " (b'any', b'other'): (138, 10.208401968552408),\n",
              " (b'twenty', b'years'): (69, 85.29044131115464),\n",
              " (b'an', b'easy'): (18, 10.427467282325322),\n",
              " (b'according', b'to'): (747, 12.093327441482012),\n",
              " (b'had', b'begun'): (25, 12.032976708302648),\n",
              " (b'passed', b'through'): (43, 31.462199837199837),\n",
              " (b'its', b'being'): (58, 16.06447342496047),\n",
              " (b'deal', b'better'): (14, 19.992919953446272),\n",
              " (b'fine', b'young'): (13, 10.403137320870965),\n",
              " (b'belonging', b'to'): (35, 10.512393800210106),\n",
              " (b'Frank', b'Churchill'): (151, 1750.6779772753712),\n",
              " (b'Miss', b'Bates'): (113, 400.4260773639656),\n",
              " (b'a', b'few'): (404, 11.554600796586188),\n",
              " (b'few', b'days'): (53, 35.91529644067919),\n",
              " (b'I', b'suppose'): (210, 12.338158409520457),\n",
              " (b'very', b'handsome'): (21, 19.759437654764756),\n",
              " (b'an', b'irresistible'): (7, 11.369078040261053),\n",
              " (b'good', b'sense'): (28, 17.373370904818092),\n",
              " (b'had', b'already'): (64, 11.990720435581183),\n",
              " (b'She', b'felt'): (26, 13.338332744482605),\n",
              " (b'most', b'fortunate'): (6, 11.471572464709046),\n",
              " (b'long', b'enough'): (38, 15.189529976554649),\n",
              " (b'know', b'how'): (120, 12.782869530582152),\n",
              " (b'dear', b'Emma'): (31, 28.38977406756079),\n",
              " (b'at', b'Randalls'): (39, 27.033755046414154),\n",
              " (b'few', b'weeks'): (19, 134.46858012611438),\n",
              " (b'no', b'longer'): (113, 44.45340841020726),\n",
              " (b'CHAPTER', b'III'): (10, 354.1930126002291),\n",
              " (b'Donwell', b'Abbey'): (9, 753.4827901309776),\n",
              " (b'card', b'-'): (18, 15.66232807325151),\n",
              " (b'drawing', b'-'): (53, 20.08471734497107),\n",
              " (b'-', b'room'): (116, 10.86339885106585),\n",
              " (b'thrown', b'away'): (11, 14.820643707910945),\n",
              " (b'After', b'these'): (18, 11.091988134657838),\n",
              " (b'an', b'invitation'): (11, 10.459551797040168),\n",
              " (b'old', b'lady'): (16, 10.886003613395488),\n",
              " (b'those', b'who'): (150, 15.975643084740117),\n",
              " (b'as', b'possible'): (81, 11.70949877112537),\n",
              " (b'young', b'ladies'): (44, 113.63480411788262),\n",
              " (b'-', b'fashioned'): (31, 34.9390395480226),\n",
              " (b'Goddard', b\"'\"): (34, 15.29483969345862),\n",
              " (b'found', b'herself'): (27, 11.22605649143189),\n",
              " (b's', b'sake'): (142, 28.092000957580005),\n",
              " (b'much', b'pleased'): (18, 13.276184200965723),\n",
              " (b'be', b'allowed'): (32, 10.133274789777253),\n",
              " (b'Miss', b'Smith'): (58, 165.24316871017183),\n",
              " (b'Harriet', b'Smith'): (31, 180.54871092346391),\n",
              " (b'several', b'years'): (10, 17.577367349955093),\n",
              " (b'pretty', b'girl'): (10, 40.4556337659619),\n",
              " (b'blue', b'eyes'): (28, 35.59533676681832),\n",
              " (b'They', b'were'): (188, 10.653371553453791),\n",
              " (b'due', b'time'): (18, 21.04160963161683),\n",
              " (b'its', b'own'): (54, 10.834370434674414),\n",
              " (b'better', b'than'): (170, 42.51368036077655),\n",
              " (b'body', b'else'): (31, 39.469837225343845),\n",
              " (b'apple', b'-'): (26, 28.21999348109518),\n",
              " (b'You', b'need'): (16, 14.652632145780382),\n",
              " (b'half', b'-'): (179, 14.007817698976801),\n",
              " (b'much', b'more'): (159, 10.555945043417811),\n",
              " (b'little', b'girl'): (50, 35.05677573772557),\n",
              " (b'at', b'last'): (420, 22.75660921756972),\n",
              " (b'CHAPTER', b'IV'): (8, 335.5512750949539),\n",
              " (b'every', b'respect'): (14, 12.224980231945178),\n",
              " (b'guided', b'by'): (14, 23.954538020555372),\n",
              " (b'different', b'sort'): (8, 14.490845895493244),\n",
              " (b'-', b'Mill'): (7, 12.705105290190035),\n",
              " (b'good', b'deal'): (62, 39.176849314155014),\n",
              " (b'very', b'happy'): (43, 11.360756752157577),\n",
              " (b'drink', b'tea'): (7, 32.50399453379586),\n",
              " (b'large', b'enough'): (11, 10.829067985816224),\n",
              " (b'had', b'taken'): (121, 10.962547054002629),\n",
              " (b'doing', b'something'): (9, 10.716846747710356),\n",
              " (b'three', b'miles'): (9, 16.651749532156657),\n",
              " (b'thing', b'else'): (26, 12.21019907747794),\n",
              " (b'very', b'obliging'): (14, 25.349278570257418),\n",
              " (b'on', b'purpose'): (35, 10.833361556419508),\n",
              " (b'very', b'clever'): (15, 21.69532850607617),\n",
              " (b'\"', b'You'): (493, 11.717061811021022),\n",
              " (b'know', b'what'): (219, 10.687860772182088),\n",
              " (b'Miss', b'Nash'): (13, 337.68125042659204),\n",
              " (b'does', b'not'): (211, 13.23025142257054),\n",
              " (b'\"', b'Oh'): (496, 20.296685763864517),\n",
              " (b'Oh', b'yes'): (11, 23.468003288849534),\n",
              " (b'very', b'entertaining'): (7, 16.054543094496367),\n",
              " (b'soon', b'as'): (271, 12.01164260504438),\n",
              " (b'Oh', b'!'): (285, 31.12698837846826),\n",
              " (b'have', b'seen'): (204, 13.438796505596505),\n",
              " (b'on', b'horseback'): (21, 54.889031885858834),\n",
              " (b'their', b'families'): (95, 35.26311487873489),\n",
              " (b'no', b'doubt'): (117, 40.18959620751882),\n",
              " (b'very', b'respectable'): (9, 10.88443599626872),\n",
              " (b'respectable', b'young'): (8, 27.70496528037034),\n",
              " (b'very', b'odd'): (16, 18.206182890665982),\n",
              " (b'perfectly', b'right'): (12, 16.998927982407917),\n",
              " (b'years', b'hence'): (9, 17.990952464071682),\n",
              " (b'young', b'woman'): (57, 30.4001550358284),\n",
              " (b'very', b'desirable'): (9, 14.595039176814876),\n",
              " (b'Dear', b'Miss'): (9, 32.278354820188945),\n",
              " (b'thirty', b'years'): (35, 72.53269372866845),\n",
              " (b'can', b'afford'): (11, 26.391592873146273),\n",
              " (b'good', b'luck'): (21, 51.57752734020704),\n",
              " (b'acquainted', b'with'): (88, 27.73083464345721),\n",
              " (b'your', b'own'): (181, 10.134692346685467),\n",
              " (b'\"', b'Yes'): (349, 27.046036922192854),\n",
              " (b'next', b'day'): (100, 33.66839067944251),\n",
              " (b'an', b'opportunity'): (34, 39.49570340028189),\n",
              " (b'few', b'yards'): (15, 127.20000822740548),\n",
              " (b'Robert', b'Martin'): (31, 1963.7208109428432),\n",
              " (b'few', b'minutes'): (86, 316.36383789006993),\n",
              " (b'Only', b'think'): (9, 11.416616668358916),\n",
              " (b'been', b'able'): (40, 15.91768079235648),\n",
              " (b'-', b'morrow'): (134, 31.191253298926746),\n",
              " (b'should', b'happen'): (13, 20.434212265397832),\n",
              " (b'Do', b'you'): (187, 17.542972188763283),\n",
              " (b'compared', b'with'): (25, 15.313211901507499),\n",
              " (b'\"', b'Certainly'): (39, 25.246462114062453),\n",
              " (b'You', b'must'): (84, 12.864839977038008),\n",
              " (b'an', b'old'): (158, 10.467761806300013),\n",
              " (b'old', b'man'): (201, 11.807109991026596),\n",
              " (b'more', b'valuable'): (10, 17.665941085058734),\n",
              " (b',\"', b'replied'): (256, 68.6325679964557),\n",
              " (b'very', b'bad'): (36, 15.601593602802112),\n",
              " (b'deal', b'too'): (15, 12.720000822740548),\n",
              " (b'no', b'more'): (553, 17.350760547573774),\n",
              " (b'very', b'agreeable'): (21, 21.406057459328487),\n",
              " (b'fixed', b'on'): (31, 10.722857321964225),\n",
              " (b'same', b'time'): (104, 18.367425129939775),\n",
              " (b'pleasing', b'young'): (8, 23.351327879169286),\n",
              " (b'CHAPTER', b'V'): (7, 236.1286750668194),\n",
              " (b'very', b'differently'): (14, 48.16362928348909),\n",
              " (b'\"', b'Perhaps'): (40, 10.879118421244423),\n",
              " (b'ever', b'since'): (60, 42.92801610440095),\n",
              " (b'twelve', b'years'): (22, 39.389282288763),\n",
              " (b'very', b'neatly'): (7, 22.935061563566236),\n",
              " (b'ten', b'years'): (32, 36.45848645037043),\n",
              " (b'being', b'able'): (20, 14.36891827839066),\n",
              " (b'her', b'mother'): (239, 11.54362134822892),\n",
              " (b'have', b'spoken'): (82, 11.59021954484605),\n",
              " (b'Yes', b',\"'): (107, 26.304593789876648),\n",
              " (b'\"', b'Thank'): (43, 24.575778111032328),\n",
              " (b'Thank', b'you'): (46, 27.918884665527383),\n",
              " (b'\"', b'Why'): (191, 10.548941903388105),\n",
              " (b'could', b'possibly'): (21, 30.820114126236575),\n",
              " (b'How', b'can'): (53, 16.088661540487763),\n",
              " (b'much', b'mistaken'): (9, 10.098977725520935),\n",
              " (b'Very', b'well'): (40, 84.54149008885851),\n",
              " (b'oh', b'!'): (27, 22.810780631748376),\n",
              " (b'look', b'at'): (154, 10.281997140291956),\n",
              " (b'any', b'harm'): (10, 10.323534321581198),\n",
              " (b'\"', b'Very'): (70, 19.596435652445642),\n",
              " (b'an', b'angel'): (52, 25.819271767903782),\n",
              " (b'an', b'end'): (127, 18.27126745760167),\n",
              " (b'many', b'years'): (54, 19.719030792857517),\n",
              " (b',\"', b'cried'): (297, 34.723966485732284),\n",
              " (b'much', b'obliged'): (40, 42.98889166944722),\n",
              " (b'John', b'Knightley'): (58, 175.90370362419566),\n",
              " (b'ill', b'-'): (100, 22.276568839343266),\n",
              " (b'cared', b'for'): (14, 11.003932384341637),\n",
              " (b'I', b'assure'): (105, 13.117491742454519),\n",
              " (b'assure', b'you'): (125, 32.47600092425325),\n",
              " (b'soon', b'afterwards'): (36, 80.80970084767553),\n",
              " (b'CHAPTER', b'VI'): (6, 151.7970054000982),\n",
              " (b'most', b'agreeable'): (13, 28.296545412948984),\n",
              " (b'no', b'scruple'): (10, 27.380722571504467),\n",
              " (b'infinitely', b'superior'): (7, 278.568018018018),\n",
              " (b'am', b'glad'): (34, 17.031537511870848),\n",
              " (b'Exactly', b'so'): (9, 26.019606605658986),\n",
              " (b'Did', b'you'): (73, 15.109886745810456),\n",
              " (b'very', b'interesting'): (15, 17.838381216107074),\n",
              " (b'No', b'sooner'): (14, 65.68697776518907),\n",
              " (b'Don', b\"'\"): (134, 25.405723462879433),\n",
              " (b\"'\", b't'): (2200, 30.669962908216693),\n",
              " (b't', b'pretend'): (9, 22.215392905253704),\n",
              " (b'why', b'should'): (57, 22.803134218289085),\n",
              " (b'cannot', b'imagine'): (13, 50.34105640180307),\n",
              " (b'back', b'again'): (74, 19.215480532814567),\n",
              " (b'almost', b'every'): (37, 10.072259575009541),\n",
              " (b'higher', b'than'): (34, 46.27167976056865),\n",
              " (b'ten', b'times'): (16, 32.71643894251348),\n",
              " (b'dear', b'Isabella'): (6, 10.167718917496957),\n",
              " (b'must', b'allow'): (12, 16.27068909786588),\n",
              " (b'sitting', b'down'): (24, 17.45874757620558),\n",
              " (b'fore', b'-'): (11, 15.528462021343378),\n",
              " (b'must', b'confess'): (10, 12.590414182872408),\n",
              " (b'depended', b'on'): (14, 20.58338695719706),\n",
              " (b'no', b'sooner'): (26, 28.749758700079695),\n",
              " (b'after', b'breakfast'): (11, 12.17388137561763),\n",
              " (b'sooner', b'than'): (12, 16.389331849226902),\n",
              " (b'at', b'home'): (154, 15.749528854479703),\n",
              " (b'at', b'least'): (301, 41.37059021349224),\n",
              " (b'Upon', b'my'): (40, 19.147177205335975),\n",
              " (b'Will', b'you'): (82, 14.912145378521789),\n",
              " (b\"'\", b'd'): (2523, 30.546910997373118),\n",
              " (b'She', b'paused'): (9, 28.95364951542675),\n",
              " (b'replied', b'Emma'): (16, 16.331043870304843),\n",
              " (b'can', b'hardly'): (33, 26.420626528672287),\n",
              " (b'am', b'persuaded'): (12, 14.509626277861573),\n",
              " (b'Are', b'you'): (83, 16.465332468596394),\n",
              " (b'I', b'beg'): (52, 10.231643559114522),\n",
              " (b'beg', b'your'): (38, 44.837927443381055),\n",
              " (b'your', b'pardon'): (41, 42.182804133556154),\n",
              " (b'dear', b'Miss'): (28, 19.29791549647382),\n",
              " (b'little', b'while'): (54, 10.254870302373984),\n",
              " (b'`', b'No'): (8, 11.44545824696476),\n",
              " (b'entered', b'into'): (98, 58.47423553525749),\n",
              " (b'older', b'than'): (15, 59.834068655907735),\n",
              " (b'advise', b'you'): (16, 10.800158446902824),\n",
              " (b'run', b'away'): (46, 41.70122298206315),\n",
              " (b'At', b'last'): (91, 78.82820279093205),\n",
              " (b'\"', b'Indeed'): (53, 16.73627360604856),\n",
              " (b'Dear', b'me'): (17, 11.639624322425217),\n",
              " (b'have', b'borne'): (26, 11.406974967061926),\n",
              " (b'good', b'opinion'): (19, 14.834508731529459),\n",
              " (b'good', b'natured'): (17, 34.331291635825316),\n",
              " (b'thank', b'you'): (59, 16.88752048061169),\n",
              " (b'merely', b'because'): (10, 11.301099005522438),\n",
              " (b'Emma', b'felt'): (19, 16.55226511478519),\n",
              " (b'no', b'difficulty'): (15, 13.258034087254796),\n",
              " (b'protest', b'against'): (6, 10.157197996222385),\n",
              " (b'Let', b'us'): (117, 32.264040693882876),\n",
              " (b'cried', b'Emma'): (27, 14.204759677426091),\n",
              " (b'\"', b'Has'): (17, 11.456377766045145),\n",
              " (b'next', b'morning'): (62, 76.77797550074492),\n",
              " (b'dear', b'sir'): (21, 30.138577189712098),\n",
              " (b'am', b'going'): (42, 10.080878050929599),\n",
              " (b'sat', b'down'): (150, 58.92285841199917),\n",
              " (b'depends', b'upon'): (8, 18.878472434214544),\n",
              " (b'has', b'happened'): (14, 16.886495752427184),\n",
              " (b'presently', b'added'): (6, 24.986707070707073),\n",
              " (b'could', b'afford'): (11, 16.180559916274202),\n",
              " (b'Certainly', b',\"'): (12, 17.049273752697825),\n",
              " (b'stood', b'up'): (80, 10.28632971468491),\n",
              " (b'\"', b'Nonsense'): (8, 10.024330545289503),\n",
              " (b'are', b'mistaken'): (17, 10.34529425541169),\n",
              " (b'does', b'seem'): (9, 14.17908976269632),\n",
              " (b'few', b'moments'): (43, 388.789590364635),\n",
              " (b'nobody', b'knows'): (7, 38.60305867665418),\n",
              " (b'very', b'likely'): (29, 25.18359701097469),\n",
              " (b'all', b'probability'): (16, 13.453639483026294),\n",
              " (b'no', b'harm'): (25, 27.989183073093457),\n",
              " (b'cannot', b'help'): (16, 20.51549678061432),\n",
              " (b'very', b'different'): (29, 17.75617669437386),\n",
              " (b'common', b'sense'): (26, 145.78524280999528),\n",
              " (b'.--', b'She'): (78, 30.440671188909267),\n",
              " (b'-', b'natured'): (60, 48.041179378531076),\n",
              " (b'an', b'hundred'): (183, 30.38185737390911),\n",
              " (b'exactly', b'what'): (25, 14.387504885629737),\n",
              " (b'every', b'man'): (307, 12.828795338958603),\n",
              " (b'be', b'satisfied'): (66, 12.272908603731745),\n",
              " (b'less', b'than'): (85, 36.58643688514103),\n",
              " (b'large', b'fortune'): (9, 38.26270688321733),\n",
              " (b'no', b'use'): (40, 14.694321113374066),\n",
              " (b'these', b'words'): (111, 26.137410685805424),\n",
              " (b'well', b'acquainted'): (9, 11.682096812278632),\n",
              " (b'twenty', b'thousand'): (48, 77.04104378157882),\n",
              " (b'thousand', b'pounds'): (47, 448.5645551257253),\n",
              " (b'Good', b'morning'): (10, 19.263291344272915),\n",
              " (b'walked', b'off'): (15, 10.916907922609802),\n",
              " (b'cast', b'down'): (44, 15.322709019072688),\n",
              " (b'its', b'effects'): (7, 29.72249056785139),\n",
              " (b'deal', b'more'): (28, 10.737496923771433),\n",
              " (b'longer', b'than'): (31, 18.302185706512955),\n",
              " (b'perfectly', b'satisfied'): (12, 93.75697392359005),\n",
              " (b'three', b'hundred'): (77, 49.30309130408786),\n",
              " (b'looking', b'at'): (106, 12.747008682016011),\n",
              " (b'next', b'moment'): (21, 24.667278275263754),\n",
              " (b'ready', b'wit'): (8, 70.12901152901154),\n",
              " (b'very', b'pleasant'): (19, 11.64578255559322),\n",
              " (b'an', b'idea'): (37, 14.230682717061454),\n",
              " (b'Give', b'me'): (67, 25.719421458776054),\n",
              " (b'arrive', b'at'): (10, 11.92665663812389),\n",
              " (b'very', b'superior'): (13, 10.703028729664243),\n",
              " (b'pre', b'-'): (17, 49.325702891326024),\n",
              " (b'have', b'chosen'): (38, 12.418092369477911),\n",
              " (b'without', b'exception'): (8, 55.117736185383244),\n",
              " (b'her', b'cheeks'): (13, 10.316064715093864),\n",
              " (b'sit', b'down'): (54, 36.049581123554866),\n",
              " (b'reason', b'why'): (20, 38.722303389547506),\n",
              " (b'could', b'hardly'): (46, 23.719027600038913),\n",
              " (b'It', b'seemed'): (50, 10.045411819743178),\n",
              " (b'an', b'offering'): (70, 11.10900109162763),\n",
              " (b'let', b'us'): (282, 32.253455378694596),\n",
              " (b'Have', b'you'): (81, 15.500622663363387),\n",
              " (b'\"', b'Aye'): (59, 19.50680538542822),\n",
              " (b'Very', b'true'): (18, 128.88521410135147),\n",
              " (b'can', b'easily'): (12, 15.161836814749437),\n",
              " (b'Nobody', b'could'): (9, 15.935399917542776),\n",
              " (b'dear', b'mother'): (21, 13.460467748430139),\n",
              " (b'those', b'things'): (85, 16.269842914134045),\n",
              " (b'next', b'week'): (12, 51.500749500333114),\n",
              " (b'Why', b'should'): (43, 13.316921218220724),\n",
              " (b'.--', b'Poor'): (10, 33.94933025911286),\n",
              " (b'taken', b'away'): (75, 33.882342535970594),\n",
              " (b'stay', b'longer'): (9, 32.079105716360615),\n",
              " (b'three', b'days'): (97, 38.359912674236874),\n",
              " (b'cannot', b'bear'): (17, 21.2053080048691),\n",
              " (b'We', b'are'): (133, 13.053427143739613),\n",
              " (b'four', b'o'): (8, 13.636425778378854),\n",
              " (b'o', b\"'\"): (216, 29.05179422396496),\n",
              " (b\"'\", b'clock'): (67, 18.373899375590025),\n",
              " (b'ask', b'whether'): (9, 11.352902840883013),\n",
              " (b're', b'-'): (54, 17.206160179428213),\n",
              " (b'Of', b'course'): (52, 64.52969306765831),\n",
              " (b'ran', b'away'): (24, 15.685508857974716),\n",
              " (b'who', b'lived'): (27, 14.51537608023045),\n",
              " (b'A', b'few'): (48, 27.798793006840953),\n",
              " (b'.--', b'Emma'): (18, 10.090713174013455),\n",
              " (b'thus', b'began'): (15, 10.569835629596586),\n",
              " (b'Never', b'mind'): (10, 58.81881301122313),\n",
              " (b'good', b'fortune'): (18, 19.83585738958796),\n",
              " (b'Those', b'who'): (17, 18.714038582776446),\n",
              " (b'Jane', b'Fairfax'): (111, 897.6983416183942),\n",
              " (b'nothing', b'else'): (45, 34.14808689686209),\n",
              " (b'present', b'instance'): (6, 15.747924624395214),\n",
              " (b'These', b'are'): (118, 23.590054389582264),\n",
              " (b'once', b'more'): (124, 21.461454181291764),\n",
              " (b'still', b'greater'): (11, 12.724188305008026),\n",
              " (b'here', b'comes'): (14, 13.200741413619147),\n",
              " (b'turned', b'back'): (42, 28.862454905522338),\n",
              " (b'will', b'bring'): (144, 12.921944022284055),\n",
              " (b'each', b'side'): (37, 22.901592275974444),\n",
              " (b'waiting', b'for'): (50, 11.22850243300167),\n",
              " (b'still', b'remained'): (10, 13.210905890445488),\n",
              " (b'she', b'hoped'): (24, 14.771734566364692),\n",
              " (b'ten', b'minutes'): (39, 192.59628296373643),\n",
              " (b'most', b'favourable'): (6, 12.48377003512455),\n",
              " (b'ten', b'days'): (21, 17.36302410708332),\n",
              " (b'many', b'months'): (10, 10.650678561587213),\n",
              " (b'little', b'ones'): (53, 64.8622484431334),\n",
              " (b'-', b'tempered'): (21, 31.944264729620663),\n",
              " (b'passed', b'over'): (52, 23.11431354773038),\n",
              " (b'sir', b',\"'): (108, 26.985788449773853),\n",
              " (b'cannot', b'deny'): (9, 34.78623560349313),\n",
              " (b'talking', b'about'): (24, 19.191191650605955),\n",
              " (b'never', b'forget'): (18, 21.690200998246326),\n",
              " (b'cannot', b'tell'): (30, 18.28907708359457),\n",
              " (b'two', b'years'): (53, 12.9458705561574),\n",
              " (b'indeed', b'!--'): (19, 15.372462749108678),\n",
              " (b'most', b'amiable'): (8, 17.207358697063572),\n",
              " (b',\"', b'observed'): (18, 11.710949290013575),\n",
              " (b'our', b'lives'): (16, 19.654875413170608),\n",
              " (b'think', b'differently'): (6, 12.463139862958483),\n",
              " (b'shake', b'hands'): (13, 44.83992241738721),\n",
              " (b'How', b'long'): (48, 18.446626247771526),\n",
              " (b'South', b'End'): (8, 1381.4318689501117),\n",
              " (b'perfectly', b'convinced'): (8, 75.68177368034593),\n",
              " (b'tells', b'me'): (15, 12.932915913805795),\n",
              " (b'bad', b'cold'): (7, 14.307186896320372),\n",
              " (b'far', b'off'): (67, 27.665131723254174),\n",
              " (b'am', b'sorry'): (32, 26.675240833932428),\n",
              " (b'Ah', b'!\"'): (14, 17.41235304055111),\n",
              " (b'an', b'interval'): (9, 11.127182762808689),\n",
              " (b'perfectly', b'well'): (16, 14.848043217286914),\n",
              " (b'He', b'paused'): (14, 28.88198206613114),\n",
              " (b'can', b'tell'): (51, 12.430822730105128),\n",
              " (b'morrow', b'morning'): (14, 22.316089764922395),\n",
              " (b'own', b'feelings'): (16, 10.723815634320593),\n",
              " (b'sore', b'throat'): (7, 129.16060985797827),\n",
              " (b'&', b'c'): (17, 4365.324705882353),\n",
              " (b'well', b'satisfied'): (17, 19.87160797964922),\n",
              " (b'looked', b'at'): (184, 13.030752013575848),\n",
              " (b'well', b'pleased'): (21, 19.251395495889877),\n",
              " (b'set', b'forward'): (22, 30.104250841148257),\n",
              " (b'eldest', b'daughter'): (10, 86.17906911928651),\n",
              " (b'short', b'time'): (23, 10.749383663832438),\n",
              " (b'Ha', b'!'): (35, 53.03251532865493),\n",
              " (b'\"', b'Quite'): (25, 17.43361833963392),\n",
              " (b',\"', b'continued'): (103, 41.17971551769827),\n",
              " (b'dining', b'-'): (20, 27.583452274754684),\n",
              " (b'such', b'circumstances'): (10, 10.212955347912391),\n",
              " (b'enter', b'into'): (108, 69.91980623618285),\n",
              " (b'gone', b'through'): (24, 11.358845786496218),\n",
              " (b'turn', b'away'): (49, 25.69282323847976),\n",
              " (b',\"', b'repeated'): (29, 16.023102816168517),\n",
              " (b'several', b'times'): (18, 100.66202138582126),\n",
              " (b'great', b'curiosity'): (13, 12.762131764948666),\n",
              " (b'upper', b'end'): (11, 50.599001800032724),\n",
              " (b'an', b'odd'): (25, 26.95760772433033),\n",
              " (b'In', b'short'): (23, 17.859158861411398),\n",
              " (b'dearest', b'Emma'): (8, 41.198769763723575),\n",
              " (b'continued', b'Mrs'): (17, 12.808985040466856),\n",
              " (b'go', b'home'): (35, 10.887636156851283),\n",
              " (b'covered', b'with'): (53, 10.080468634592364),\n",
              " (b'hardly', b'knew'): (16, 30.25731454547072),\n",
              " (b'knew', b'how'): (29, 10.771586203292852),\n",
              " (b'set', b'off'): (42, 12.87623069823977),\n",
              " (b'can', b'get'): (31, 10.915759166817718),\n",
              " (b'got', b'home'): (12, 13.02303200594452),\n",
              " (b'most', b'extraordinary'): (16, 46.22702963501566),\n",
              " (b'an', b'inch'): (27, 63.919483204134366),\n",
              " (b'at', b'ease'): (36, 17.60601694199241),\n",
              " (b'tete', b'-'): (7, 10.750473707083877),\n",
              " (b'well', b'known'): (33, 14.650186556114896),\n",
              " (b'Smith', b'!--'): (9, 18.891159579667644),\n",
              " (b'extremely', b'sorry'): (8, 73.46994297481388),\n",
              " (b'Every', b'thing'): (18, 22.46842755413457),\n",
              " (b'many', b'weeks'): (10, 20.757955155746508),\n",
              " (b'Am', b'I'): (43, 15.552098209854075),\n",
              " (b'madam', b',\"'): (13, 15.249039878189363),\n",
              " (b'extremely', b'well'): (16, 29.947748184019368),\n",
              " (b'!--', b'Such'): (10, 19.885431136492258),\n",
              " (b'poor', b'Harriet'): (13, 12.145847347359634),\n",
              " (b'-', b'headed'): (29, 37.268308851224106),\n",
              " (b'an', b'instant'): (95, 43.261013866434524),\n",
              " (b'thirty', b'thousand'): (18, 42.25608127995964),\n",
              " (b'so', b'easily'): (19, 10.348707172705279),\n",
              " (b'worth', b'having'): (9, 21.664774916798038),\n",
              " (b'poor', b'girl'): (11, 16.40337746734157),\n",
              " (b'laugh', b'at'): (34, 11.791126449054302),\n",
              " (b'knowing', b'what'): (21, 15.75053166426834),\n",
              " (b'many', b'days'): (49, 14.230254790394108),\n",
              " (b'whole', b'party'): (15, 21.733756466486728),\n",
              " (b'six', b'weeks'): (6, 18.23820337383508),\n",
              " (b'too', b'late'): (56, 87.81454226528567),\n",
              " (b'-', b'minded'): (19, 20.81474696477942),\n",
              " (b'her', b'companions'): (36, 11.854581263120794),\n",
              " (b'drew', b'near'): (34, 135.39134997206745),\n",
              " (b'three', b'months'): (35, 82.38692831354994),\n",
              " (b'other', b'side'): (133, 28.113809270630338),\n",
              " (b'an', b'unnatural'): (10, 19.2271172739709),\n",
              " (b'get', b'rid'): (18, 302.7023984336759),\n",
              " (b'watering', b'-'): (10, 20.552376204719177),\n",
              " (b'while', b'ago'): (10, 15.477085481465169),\n",
              " (b'at', b'Weymouth'): (16, 43.7310743397876),\n",
              " (b'present', b'occasion'): (9, 32.735843313703434),\n",
              " (b'No', b',\"'): (86, 11.56716665027149),\n",
              " (b'their', b'hearts'): (49, 18.284578085269942),\n",
              " (b'break', b'through'): (12, 11.454968114101241),\n",
              " (b'burst', b'forth'): (18, 49.66500488033903),\n",
              " (b'young', b'men'): (141, 28.058139771512256),\n",
              " (b'-', b'bred'): (21, 27.95123163841808),\n",
              " (b'nobody', b'else'): (20, 96.32925917464537),\n",
              " (b'something', b'else'): (35, 38.92533060859677),\n",
              " (b'walking', b'together'): (9, 11.84464959491295),\n",
              " (b'burst', b'out'): (19, 11.10216993785889),\n",
              " (b'-', b'sized'): (12, 27.17480853735091),\n",
              " (b'how', b'long'): (57, 10.246816619029866),\n",
              " (b'Miss', b'Fairfax'): (125, 273.22756777255375),\n",
              " (b'extremely', b'happy'): (7, 19.519016507275197),\n",
              " (b'don', b\"'\"): (693, 30.892577640288216),\n",
              " (b'ma', b\"'\"): (213, 29.826517196587346),\n",
              " (b's', b'handwriting'): (7, 11.482861705288176),\n",
              " (b'Ma', b\"'\"): (15, 17.287270917893842),\n",
              " (b'without', b'seeming'): (8, 24.251803921568627),\n",
              " (b'Colonel', b'Campbell'): (28, 896.7708845596117),\n",
              " (b'those', b'days'): (84, 24.94261977039944),\n",
              " (b'Miss', b'Campbell'): (12, 75.31616124710753),\n",
              " (b'most', b'charming'): (7, 10.48020200479592),\n",
              " (b'caught', b'hold'): (10, 25.41177679158448),\n",
              " (b'four', b'months'): (9, 21.51366300812301),\n",
              " (b'may', b'guess'): (11, 13.366929644439642),\n",
              " (b'Bless', b'me'): (14, 16.96059544124817),\n",
              " (b'running', b'away'): (12, 11.650452540443363),\n",
              " (b'My', b'father'): (32, 11.188894979347538),\n",
              " (b'five', b'minutes'): (37, 145.59218386745533),\n",
              " (b'nine', b'years'): (9, 22.042968784808547),\n",
              " (b'hundred', b'pounds'): (11, 62.90946390424197),\n",
              " (b'more', b'honourable'): (10, 10.647964489624442),\n",
              " (b'rather', b'than'): (75, 19.03811275415246),\n",
              " (b'few', b'months'): (17, 59.138014296301606),\n",
              " (b'she', b'wished'): (31, 11.819087018586881),\n",
              " (b'without', b'feeling'): (12, 13.668488522623221),\n",
              " (b'twelve', b'thousand'): (24, 59.18560102353321),\n",
              " (b'passed', b'between'): (17, 19.790738607270864),\n",
              " (b\",'\", b'said'): (250, 30.379793675936877),\n",
              " (b'Miss', b'Hawkins'): (18, 356.6758207630878),\n",
              " (b'dear', b'Jane'): (14, 28.087065128531204),\n",
              " (b'three', b'minutes'): (10, 10.882367432840969),\n",
              " (b'have', b'suffered'): (29, 12.705105290190035),\n",
              " (b'hour', b'ago'): (10, 35.65865950134926),\n",
              " (b'looked', b'round'): (26, 11.609345695809427),\n",
              " (b'help', b'thinking'): (10, 32.395023572551075),\n",
              " (b'a', b'series'): (16, 10.464298240216587),\n",
              " (b'laughed', b'at'): (28, 12.563958901229746),\n",
              " (b'weeks', b'ago'): (7, 66.07767923923495),\n",
              " (b'She', b'wished'): (10, 10.481853991240559),\n",
              " (b'twenty', b'miles'): (8, 32.07910571636062),\n",
              " (b'elder', b'sister'): (6, 20.892601351351352),\n",
              " (b'alas', b'!'): (23, 57.08794297143443),\n",
              " (b'no', b'fault'): (13, 10.495943652410048),\n",
              " (b'driven', b'away'): (10, 15.108423197384944),\n",
              " (b'setting', b'off'): (8, 17.077163107511044),\n",
              " (b'little', b'farther'): (16, 13.377838741396264),\n",
              " (b'spot', b'where'): (18, 40.488884971796935),\n",
              " (b'front', b'door'): (15, 45.13461833203179),\n",
              " (b'they', b'parted'): (20, 10.443101887710071),\n",
              " (b'without', b'delay'): (8, 17.832208765859285),\n",
              " (b'six', b'months'): (21, 149.7251460218503),\n",
              " (b'months', b'ago'): (7, 33.90373070913626),\n",
              " (b'leaned', b'back'): (6, 12.550400811770675),\n",
              " (b'at', b'Oxford'): (10, 14.908320797654866),\n",
              " (b'turned', b'round'): (20, 11.258866238141938),\n",
              " (b'pass', b'through'): (62, 22.187894661308842),\n",
              " (b'clock', b'struck'): (16, 287.94205291005295),\n",
              " (b'four', b'hours'): (15, 47.339972748289114),\n",
              " (b'faster', b'than'): (10, 39.88937910393849),\n",
              " (b'musical', b'society'): (6, 113.40931597285898),\n",
              " (b'worth', b'while'): (16, 39.414977692797954),\n",
              " (b'mixed', b'with'): (23, 10.669850873308452),\n",
              " (b'extremely', b'glad'): (10, 72.78966572504707),\n",
              " (b'knew', b'nothing'): (25, 12.448864562804845),\n",
              " (b'make', b'amends'): (9, 67.17951224811253),\n",
              " (b'amends', b'for'): (12, 15.103436605959109),\n",
              " (b'oftener', b'than'): (9, 50.68297580265126),\n",
              " (b'old', b'woman'): (61, 19.444449684793035),\n",
              " (b'post', b'-'): (19, 12.22866384180791),\n",
              " (b'just', b'going'): (25, 13.260137742937028),\n",
              " (b'At', b'least'): (17, 28.035284695357834),\n",
              " (b'their', b'lives'): (30, 14.905906047774408),\n",
              " (b'six', b'days'): (15, 14.20782138820221),\n",
              " (b'may', b'prove'): (9, 10.693543715551712),\n",
              " (b'stronger', b'than'): (29, 58.08610709966773),\n",
              " (b'particular', b'friend'): (10, 19.81788291694974),\n",
              " (b'Hum', b'!'): (7, 26.95819529206626),\n",
              " (b'good', b'tidings'): (14, 31.69042304845414),\n",
              " (b'among', b'themselves'): (30, 14.912692334403358),\n",
              " (b'next', b'summer'): (8, 20.513743918620076),\n",
              " (b'breaking', b'up'): (12, 10.278262005104766),\n",
              " (b'perfectly', b'safe'): (6, 16.44561748750133),\n",
              " (b'two', b'ladies'): (12, 10.206988182478378),\n",
              " (b'same', b'moment'): (29, 15.560860129375872),\n",
              " (b'well', b'worth'): (11, 11.682096812278632),\n",
              " (b',\"', b'added'): (51, 22.00020571516956),\n",
              " (b'little', b'girls'): (15, 24.596639156806205),\n",
              " (b'be', b'ashamed'): (88, 15.57521865836133),\n",
              " (b'been', b'staying'): (9, 13.958581617912605),\n",
              " (b'shut', b'up'): (64, 33.02080970890481),\n",
              " (b'too', b'large'): (19, 13.758850077869242),\n",
              " (b'At', b'first'): (26, 13.622350914881029),\n",
              " (b'worse', b'than'): (55, 50.56400168104879),\n",
              " (b'opposite', b'side'): (9, 21.484700834657843),\n",
              " (b'short', b'pause'): (11, 86.61965123608095),\n",
              " (b'large', b'party'): (8, 14.159718830137988),\n",
              " (b'six', b'years'): (19, 24.75055888120844),\n",
              " (b'who', b'knows'): (23, 17.154535367545076),\n",
              " (b'extremely', b'fond'): (6, 34.25396034119863),\n",
              " (b'or', b'twice'): (16, 10.479935604134893),\n",
              " (b'somebody', b'else'): (14, 146.97092685503037),\n",
              " (b'five', b'couple'): (7, 31.78235173193545),\n",
              " (b'\"', b'Don'): (54, 12.435245486561662),\n",
              " (b'bad', b'news'): (7, 32.31039707419018),\n",
              " (b'baked', b'apples'): (6, 613.5128968253968),\n",
              " (b'will', b'send'): (73, 16.24789061081296),\n",
              " (b'William', b'Larkins'): (13, 5074.223589743589),\n",
              " (b'low', b'voice'): (39, 55.283668345011634),\n",
              " (b'one', b'leg'): (17, 10.745803649000868),\n",
              " (b'an', b'immediate'): (12, 14.761464229693788),\n",
              " (b'Tell', b'me'): (40, 25.092668376242766),\n",
              " (b',\"', b'resumed'): (18, 28.97963722613529),\n",
              " (b'many', b'times'): (18, 11.52315244811375),\n",
              " (b'Nothing', b'can'): (12, 15.5144376709064),\n",
              " (b'few', b'words'): (18, 11.709704106675987),\n",
              " (b'no', b'objection'): (17, 30.84522216218463),\n",
              " (b'It', b'seems'): (24, 18.227904675031336),\n",
              " (b'astonished', b'at'): (22, 13.982976748145253),\n",
              " (b'four', b'times'): (13, 17.90461714401523),\n",
              " (b'other', b'end'): (40, 10.241020603889318),\n",
              " (b'few', b'hours'): (23, 78.07853039580834),\n",
              " (b'an', b'extraordinary'): (13, 10.355991878257592),\n",
              " (b'look', b'forward'): (11, 11.731590179742955),\n",
              " (b'Alas', b'!'): (16, 24.207359037773784),\n",
              " (b'immediately', b'followed'): (7, 12.604630780832807),\n",
              " (b'wait', b'till'): (17, 29.399153804709538),\n",
              " (b'-', b'bye'): (37, 39.93033091202583),\n",
              " (b'contrast', b'between'): (12, 166.24220430107528),\n",
              " (b'dared', b'not'): (22, 11.783382014386875),\n",
              " (b'three', b'weeks'): (9, 21.40939225562999),\n",
              " (b'-', b'sighted'): (11, 32.25142112125163),\n",
              " (b'Maple', b'Grove'): (31, 16731.47346514048),\n",
              " (b'My', b'brother'): (17, 11.063251359603091),\n",
              " (b'at', b'Maple'): (10, 11.541925778829572),\n",
              " (b'almost', b'fancy'): (9, 16.725382014874913),\n",
              " (b'left', b'behind'): (27, 29.19139358595579),\n",
              " (b'barouche', b'-'): (7, 13.97561581920904),\n",
              " (b'-', b'landau'): (7, 19.965165456012915),\n",
              " (b'whose', b'name'): (60, 31.460744776298874),\n",
              " (b'most', b'serious'): (8, 10.186756348661634),\n",
              " (b'We', b'cannot'): (19, 11.86846921192564),\n",
              " (b'waited', b'for'): (38, 10.711792586527258),\n",
              " (b'E', b'.,'): (6, 566.3195970695971),\n",
              " (b'person', b'who'): (30, 10.409305441471528),\n",
              " (b'greater', b'part'): (10, 16.18360863375623),\n",
              " (b'drew', b'back'): (11, 15.195552552368083),\n",
              " (b'Her', b'manners'): (6, 10.694144704987204),\n",
              " (b'third', b'time'): (23, 13.583626301884719),\n",
              " (b'very', b'extraordinary'): (12, 11.12691105559154),\n",
              " (b'better', b'acquainted'): (7, 13.44978251413658),\n",
              " (b'According', b'to'): (45, 10.652559050879573),\n",
              " (b'have', b'committed'): (34, 16.773483913206135),\n",
              " (b'hardly', b'less'): (8, 12.999957957579198),\n",
              " (b'will', b'shew'): (48, 12.349694416837725),\n",
              " (b'little', b'boys'): (17, 17.749466634776372),\n",
              " (b'easily', b'believe'): (8, 21.82456945228684),\n",
              " (b'my', b'lord'): (180, 36.09212316660775),\n",
              " (b'\"', b'Excuse'): (11, 17.184566649067715),\n",
              " (b'Excuse', b'me'): (13, 37.6902120916626),\n",
              " (b'put', b'forth'): (36, 10.696077873443938),\n",
              " (b'drawing', b'near'): (8, 18.702625052924454),\n",
              " (b'great', b'joy'): (24, 10.008039650578848),\n",
              " (b'eight', b'o'): (9, 65.15181205225453),\n",
              " (b'spread', b'abroad'): (14, 194.30906996229578),\n",
              " (b'few', b'lines'): (10, 43.57778059642595),\n",
              " (b'good', b'news'): (18, 24.794821736984947),\n",
              " (b'most', b'likely'): (12, 19.419197832415968),\n",
              " (b'talk', b'about'): (35, 21.82456945228684),\n",
              " (b'tells', b'us'): (12, 30.445234478296342),\n",
              " (b'dear', b'madam'): (10, 68.52158400921863),\n",
              " (b'eleven', b'years'): (6, 16.99145510495659),\n",
              " (b'your', b'sister'): (79, 15.96501961999174),\n",
              " (b'two', b'hours'): (17, 15.078657986492088),\n",
              " (b'two', b'months'): (19, 19.986458535324154),\n",
              " (b'door', b'opened'): (19, 32.959977767541375),\n",
              " (b'Who', b'can'): (30, 10.979605329969967),\n",
              " (b'began', b'talking'): (9, 13.574813692886854),\n",
              " (b'mean', b'?\"'): (59, 26.417439208554274),\n",
              " (b'In', b'spite'): (9, 11.906105907607598),\n",
              " (b'many', b'hours'): (12, 13.124384550084889),\n",
              " (b'few', b'steps'): (8, 22.23496206809765),\n",
              " (b'most', b'excellent'): (10, 12.940493329092522),\n",
              " (b'later', b'than'): (8, 11.966813731181546),\n",
              " (b'whole', b'story'): (18, 36.394832862523536),\n",
              " (b'whole', b'history'): (8, 19.243869803335823),\n",
              " (b'lined', b'with'): (12, 13.540103155017157),\n",
              " (b'-', b'plaister'): (9, 17.4695197740113),\n",
              " (b'Lord', b'bless'): (12, 16.701184413580247),\n",
              " (b'these', b'things'): (325, 42.22024236217784),\n",
              " (b'laid', b'down'): (26, 12.408517237129121),\n",
              " (b'forty', b'years'): (63, 161.26435572340617),\n",
              " (b'faint', b'smile'): (6, 24.270839874411305),\n",
              " (b'turned', b'towards'): (11, 11.117214558790042),\n",
              " (b'totally', b'different'): (7, 158.3259088581669),\n",
              " (b'Box', b'Hill'): (18, 8589.180555555555),\n",
              " (b'some', b'surprise'): (19, 22.397283733443707),\n",
              " (b'may', b'depend'): (9, 21.164305270362764),\n",
              " (b',\"', b'interrupted'): (25, 30.235165275720284),\n",
              " (b'whatever', b'else'): (8, 18.739462440532105),\n",
              " (b'mid', b'-'): (22, 25.824507492016703),\n",
              " (b'larger', b'than'): (11, 19.006115925994223),\n",
              " (b'were', b'assembled'): (17, 18.151482242442032),\n",
              " (b'insisted', b'on'): (9, 11.611141360470139),\n",
              " (b'clothed', b'with'): (36, 12.658921838579532),\n",
              " (b'twenty', b'minutes'): (7, 11.181099087860133),\n",
              " (b'quite', b'alone'): (14, 11.34125512474631),\n",
              " (b'etc', b'.,'): (11, 3964.237179487179),\n",
              " (b'As', b'soon'): (46, 20.834318136064653),\n",
              " (b'without', b'knowing'): (18, 34.569457344341245),\n",
              " (b',\"', b'whispered'): (18, 26.71560306784347),\n",
              " (b'shan', b\"'\"): (18, 22.473452193261995),\n",
              " (b'looking', b'round'): (23, 17.251680754316958),\n",
              " (b'Pardon', b'me'): (7, 10.147364793909164),\n",
              " (b',\"', b'answered'): (143, 22.574837953998617),\n",
              " (b'An', b'old'): (15, 19.494650501535183),\n",
              " (b'Shall', b'we'): (25, 13.344431737263449),\n",
              " (b'old', b'age'): (36, 48.2305151350481),\n",
              " (b'an', b'infant'): (9, 23.77170862963675),\n",
              " (b'be', b'forgiven'): (36, 18.33315259385065),\n",
              " (b'lie', b'down'): (41, 31.29163861453632),\n",
              " (b'four', b'miles'): (7, 16.305990613299585),\n",
              " (b'great', b'hurry'): (16, 19.653682918020948),\n",
              " (b'without', b'waiting'): (12, 19.24746342981637),\n",
              " (b'comes', b'back'): (13, 15.420287686817213),\n",
              " (b'heightened', b'by'): (7, 11.874899189677024),\n",
              " (b'In', b'fact'): (28, 39.68262953497974),\n",
              " (b'cut', b'off'): (213, 155.49937138546645),\n",
              " (b'never', b'mind'): (29, 11.197235791371655),\n",
              " (b'trembling', b'voice'): (7, 11.950048791799114),\n",
              " (b'More', b'than'): (14, 24.232797805642633),\n",
              " (b'time', b'past'): (23, 13.32652296494053),\n",
              " (b'second', b'time'): (44, 20.945309358703252),\n",
              " (b'five', b'hundred'): (65, 85.88703405366368),\n",
              " (b'turning', b'away'): (13, 10.732190271245857),\n",
              " (b'an', b'arrow'): (10, 14.85731789352297),\n",
              " (b'--', b'oh'): (17, 12.810820328683882),\n",
              " (b'presented', b'themselves'): (6, 11.894541467918142),\n",
              " (b'at', b'random'): (11, 18.66781039010696),\n",
              " (b'far', b'distant'): (10, 26.635412180205016),\n",
              " (b'few', b'seconds'): (9, 96.54154470592826),\n",
              " (b'passing', b'through'): (10, 15.455115709501674),\n",
              " (b'will', b'heal'): (10, 10.57744672117128),\n",
              " (b'rose', b'early'): (12, 50.250699385933345),\n",
              " (b'east', b'wind'): (22, 148.3861256175018),\n",
              " (b'gone', b'mad'): (10, 20.604417938295462),\n",
              " (b'freed', b'from'): (10, 25.542343339556247),\n",
              " (b'sinned', b'against'): (43, 81.41629018847007),\n",
              " (b'locked', b'up'): (11, 13.13762812682564),\n",
              " (b'deep', b'sigh'): (7, 47.7618937287612),\n",
              " (b'ten', b'thousand'): (75, 127.07678714010615),\n",
              " (b'happier', b'than'): (10, 23.413331213181287),\n",
              " (b'contend', b'with'): (14, 10.669850873308452),\n",
              " (b'had', b'formerly'): (10, 11.685871610947764),\n",
              " (b'little', b'boy'): (63, 26.45163569321534),\n",
              " (b'fancying', b'herself'): (6, 29.039303155522166),\n",
              " (b'right', b'hand'): (196, 45.67275064863757),\n",
              " (b'surrounded', b'by'): (18, 30.406938834172983),\n",
              " (b'infinitely', b'more'): (8, 12.604887693122986),\n",
              " (b'such', b'cases'): (8, 14.9147687533664),\n",
              " (b'No', b'wonder'): (13, 19.253530718908465),\n",
              " (b'poor', b'fellow'): (31, 72.63216713721062),\n",
              " (b'Poor', b'fellow'): (7, 45.430376492194675),\n",
              " (b'days', b'ago'): (11, 15.442637278485753),\n",
              " (b'help', b'laughing'): (7, 20.696820615796522),\n",
              " (b'draw', b'near'): (18, 83.0335357666646),\n",
              " (b'at', b'intervals'): (30, 31.38593852137866),\n",
              " (b'into', b'temptation'): (8, 11.801251836726903),\n",
              " (b'stood', b'before'): (56, 10.3924315864046),\n",
              " (b'Sir', b'Walter'): (136, 1001.3120125576278),\n",
              " (b'Walter', b'Elliot'): (16, 158.52514448173008),\n",
              " (b'Kellynch', b'Hall'): (24, 4945.285774410774),\n",
              " (b'arising', b'from'): (7, 10.216937335822498),\n",
              " (b'Charles', b'Musgrove'): (14, 248.91721824686942),\n",
              " (b'first', b'year'): (71, 36.52536994480359),\n",
              " (b'Lady', b'Elliot'): (12, 34.95596737726098),\n",
              " (b'seventeen', b'years'): (7, 50.974365314869765),\n",
              " (b'an', b'awful'): (13, 15.611271338865924),\n",
              " (b'Lady', b'Russell'): (147, 1370.6224754175123),\n",
              " (b'Anne', b'Elliot'): (23, 69.51674910071942),\n",
              " (b'Miss', b'Elliot'): (48, 81.92874088041015),\n",
              " (b'everybody', b'else'): (20, 116.64359274208759),\n",
              " (b'her', b'mistress'): (30, 10.11840289117327),\n",
              " (b'Mr', b'Elliot'): (174, 154.42250147754135),\n",
              " (b'Mr', b'Shepherd'): (26, 153.50875886524824),\n",
              " (b'anybody', b'else'): (21, 167.79555359595722),\n",
              " (b'reference', b'to'): (30, 10.087650616363232),\n",
              " (b'an', b'honest'): (28, 22.111184865066537),\n",
              " (b'descend', b'into'): (11, 19.585056239674437),\n",
              " (b'Mrs', b'Clay'): (66, 287.0445438704621),\n",
              " (b'Miss', b'Anne'): (19, 13.816993610080877),\n",
              " (b'their', b'fathers'): (151, 21.03847250792006),\n",
              " (b'an', b'example'): (14, 17.82878147222756),\n",
              " (b'Admiral', b'Croft'): (14, 1020.8710564930301),\n",
              " (b'Mrs', b'Croft'): (41, 207.37305091376518),\n",
              " (b'walked', b'along'): (8, 11.422274896105895),\n",
              " (b'Frederick', b'Wentworth'): (6, 23.252406376898783),\n",
              " (b'either', b'side'): (18, 19.363312306866),\n",
              " (b'Captain', b'Wentworth'): (196, 976.2658980080998),\n",
              " (b'eldest', b'son'): (15, 39.758333601208655),\n",
              " (b'removed', b'from'): (36, 14.303712270151498),\n",
              " (b'good', b'humour'): (23, 57.21881939304219),\n",
              " (b'The', b'Crofts'): (8, 10.249618801378945),\n",
              " (b'startled', b'by'): (14, 14.177175563185834),\n",
              " (b'most', b'important'): (14, 33.80560735175321),\n",
              " (b'replied', b'Anne'): (11, 13.874444726962713),\n",
              " (b'at', b'Uppercross'): (20, 13.940248018586365),\n",
              " (b'Great', b'House'): (13, 1177.944761904762),\n",
              " (b'left', b'alone'): (16, 14.13574836462775),\n",
              " (b'Mr', b'Musgrove'): (21, 32.388661211129296),\n",
              " (b'Miss', b'Musgroves'): (22, 227.52303763499037),\n",
              " (b'Mrs', b'Musgrove'): (66, 156.77048165232932),\n",
              " (b'flower', b'-'): (23, 13.52478950246036),\n",
              " (b'grown', b'up'): (19, 12.21891287320147),\n",
              " (b'their', b'faces'): (62, 22.656977192617102),\n",
              " (b'surprised', b'at'): (27, 14.056416752074586),\n",
              " (b'ere', b'long'): (20, 33.88236905544598),\n",
              " (b'anything', b'else'): (30, 74.81068120893052),\n",
              " (b'quite', b'different'): (12, 19.349238133975785),\n",
              " (b'their', b'sakes'): (13, 16.878072078710716),\n",
              " (b'twentieth', b'year'): (13, 185.54485448544855),\n",
              " (b'on', b'board'): (69, 34.25698443940126),\n",
              " (b'eight', b'years'): (22, 61.89744359662757),\n",
              " (b'-', b'bone'): (22, 13.499174370826912),\n",
              " (b'their', b'heads'): (77, 21.62117992564767),\n",
              " (b'Your', b'sister'): (11, 24.014484311898105),\n",
              " (b'dressing', b'-'): (19, 29.645245677110086),\n",
              " (b'up', b'stairs'): (15, 14.51249618660972),\n",
              " (b'waited', b'till'): (7, 12.054520291606565),\n",
              " (b'third', b'part'): (39, 80.67867146551659),\n",
              " (b'Phoo', b'!'): (7, 23.96284025961445),\n",
              " (b'dear', b'fellow'): (11, 20.63122602168474),\n",
              " (b'good', b'cheer'): (14, 58.85364280427197),\n",
              " (b'Mrs', b'Harville'): (24, 84.63892670628489),\n",
              " (b'\"', b'Ay'): (34, 18.457497511961623),\n",
              " (b'fifteen', b'years'): (9, 52.05892627901593),\n",
              " (b'Charles', b'Hayter'): (33, 2649.294369645043),\n",
              " (b'came', b'near'): (42, 11.627278418555207),\n",
              " (b'Her', b'husband'): (9, 21.943829394649068),\n",
              " (b'two', b'hundred'): (102, 34.52901130958137),\n",
              " (b'Dr', b'Shirley'): (9, 1086.3785682916116),\n",
              " (b'went', b'up'): (206, 10.892879248012838),\n",
              " (b'within', b'reach'): (7, 18.479083248670293),\n",
              " (b'-', b'yard'): (19, 16.037591923682502),\n",
              " (b'turn', b'back'): (15, 10.596023199431151),\n",
              " (b'walking', b'along'): (8, 19.12445108751675),\n",
              " (b'leaning', b'against'): (12, 23.700128657852233),\n",
              " (b'trodden', b'under'): (9, 72.24544392523364),\n",
              " (b'under', b'foot'): (15, 22.22936736161035),\n",
              " (b'Louisa', b'Musgrove'): (15, 189.52528348145879),\n",
              " (b'provoke', b'me'): (18, 16.48946779010239),\n",
              " (b'Very', b'good'): (11, 10.325200491977538),\n",
              " (b'good', b'humoured'): (9, 26.15717457967643),\n",
              " (b'Captain', b'Harville'): (37, 475.42275075075077),\n",
              " (b'at', b'Lyme'): (24, 20.293117264867515),\n",
              " (b'earnest', b'desire'): (6, 32.79008483563097),\n",
              " (b'Captain', b'Benwick'): (56, 811.8267953667954),\n",
              " (b'an', b'officer'): (9, 10.895366455250176),\n",
              " (b'place', b'where'): (114, 29.88335727268697),\n",
              " (b'-', b'coat'): (34, 13.073963185711682),\n",
              " (b'an', b'introduction'): (7, 10.895366455250176),\n",
              " (b'preceding', b'evening'): (6, 48.9411997467553),\n",
              " (b'an', b'agony'): (10, 15.202836914302573),\n",
              " (b'catching', b'hold'): (10, 135.5294762217839),\n",
              " (b'raised', b'up'): (35, 20.917452604163728),\n",
              " (b'could', b'scarcely'): (17, 17.384072637319388),\n",
              " (b'passed', b'along'): (11, 16.544168004280362),\n",
              " (b'leaning', b'over'): (16, 33.66056062742769),\n",
              " (b't', b'talk'): (19, 11.57051713815297),\n",
              " (b'Camden', b'Place'): (29, 11505.506976744186),\n",
              " (b'straight', b'forward'): (6, 11.997691337666117),\n",
              " (b'same', b'hour'): (17, 12.921683411398027),\n",
              " (b'-', b'glasses'): (16, 16.35444404375526),\n",
              " (b'poring', b'over'): (6, 41.31068804275217),\n",
              " (b'thirty', b'feet'): (8, 12.120752621435336),\n",
              " (b'Colonel', b'Wallis'): (23, 967.3744677153037),\n",
              " (b'Mrs', b'Wallis'): (11, 54.17854483332603),\n",
              " (b'-', b'haired'): (38, 60.68359500446031),\n",
              " (b'at', b'length'): (74, 17.88998495718584),\n",
              " (b'carried', b'away'): (73, 68.93771731236751),\n",
              " (b'greater', b'than'): (56, 48.182171075546755),\n",
              " (b'Miss', b'Carteret'): (12, 320.09368530020697),\n",
              " (b'contact', b'with'): (11, 11.025512569085398),\n",
              " (b'Lady', b'Dalrymple'): (25, 1027.2774086378738),\n",
              " (b'Laura', b'Place'): (7, 777.3991200502828),\n",
              " (b'be', b'established'): (41, 13.256107901092253),\n",
              " (b'Mrs', b'Smith'): (64, 111.99977591965032),\n",
              " (b'Westgate', b'Buildings'): (7, 8589.180555555555),\n",
              " (b'buried', b'him'): (40, 10.212015743068294),\n",
              " (b'at', b'liberty'): (25, 14.03136075073399),\n",
              " (b'human', b'nature'): (9, 43.51094068810244),\n",
              " (b'five', b'thousand'): (31, 37.910597744077265),\n",
              " (b'whose', b'names'): (9, 20.29106718070708),\n",
              " (b'her', b'ladyship'): (21, 34.12236790377201),\n",
              " (b'-', b'maker'): (21, 26.620220608017217),\n",
              " (b'old', b'gentleman'): (31, 27.054312400201237),\n",
              " (b'almost', b'entirely'): (13, 36.10558657179347),\n",
              " (b'lower', b'part'): (8, 15.927465187754331),\n",
              " (b'staring', b'at'): (33, 25.04597894006017),\n",
              " (b'an', b'oath'): (37, 44.98731955716202),\n",
              " (b'wiser', b'than'): (8, 29.373088249263795),\n",
              " (b'prejudice', b'against'): (7, 39.177763699714916),\n",
              " (b'both', b'sides'): (30, 99.67073029216844),\n",
              " (b'my', b'soul'): (234, 16.443509373671976),\n",
              " (b'rejoice', b'over'): (13, 10.116903194143386),\n",
              " (b'same', b'instant'): (19, 25.162444780283654),\n",
              " (b'every', b'one'): (375, 14.671392435905247),\n",
              " (b'their', b'seats'): (11, 12.658554059033037),\n",
              " (b'their', b'mouths'): (24, 26.497142818484406),\n",
              " (b'short', b'silence'): (9, 19.427041120849434),\n",
              " (b'-', b'blooded'): (7, 17.4695197740113),\n",
              " (b'general', b'character'): (6, 10.833526031812768),\n",
              " (b'fifty', b'pounds'): (6, 35.380799816923165),\n",
              " (b'be', b'saved'): (61, 13.4097233300756),\n",
              " (b'threw', b'himself'): (8, 10.02991247371238),\n",
              " (b'some', b'moments'): (13, 21.006148097826088),\n",
              " (b'exclaimed', b'Mrs'): (11, 12.149128235351897),\n",
              " (b'compassion', b'on'): (20, 13.01248600742343),\n",
              " (b'an', b'explanation'): (12, 16.343049682875264),\n",
              " (b'our', b'hearts'): (17, 14.94420279348509),\n",
              " (b'minutes', b'afterwards'): (7, 22.216989096657148),\n",
              " (b'make', b'haste'): (26, 50.3846341860844),\n",
              " (b\"'\", b'n'): (26, 22.533063472289214),\n",
              " (b'n', b\"'\"): (20, 16.09504533734944),\n",
              " (b'rising', b'sun'): (7, 13.06573846170098),\n",
              " (b'-', b'faced'): (30, 42.60858481466171),\n",
              " (b'an', b'atonement'): (66, 89.61132859823739),\n",
              " (b'atonement', b'for'): (64, 24.315805643301744),\n",
              " (b'\"', b'Look'): (42, 10.09252327008739),\n",
              " (b'Look', b'here'): (14, 26.311681865240885),\n",
              " ...}"
            ]
          },
          "metadata": {
            "tags": []
          },
          "execution_count": 42
        }
      ]
    },
    {
      "cell_type": "code",
      "metadata": {
        "id": "DbtZjAJxIlvD",
        "colab_type": "code",
        "colab": {}
      },
      "source": [
        "# Todo analysis for trigram and others. "
      ],
      "execution_count": 0,
      "outputs": []
    },
    {
      "cell_type": "markdown",
      "metadata": {
        "id": "Dl0E23GzNdFg",
        "colab_type": "text"
      },
      "source": [
        "## Preprocessing the full corpus\n",
        "\n",
        "For large corpus the stemming and removal of stop words doesn't help much. Can be left as it is\n"
      ]
    },
    {
      "cell_type": "code",
      "metadata": {
        "id": "kb74G5TtJXES",
        "colab_type": "code",
        "colab": {}
      },
      "source": [
        "lower_sents = []\n",
        "for s in gberg_sents:\n",
        "  lower_sents.append( [w.lower() for w in s \n",
        "                       if w.lower() not in list(string.punctuation)])"
      ],
      "execution_count": 0,
      "outputs": []
    },
    {
      "cell_type": "code",
      "metadata": {
        "id": "_FKYG9hmKBjy",
        "colab_type": "code",
        "colab": {}
      },
      "source": [
        "lower_bigram = Phraser(Phrases(lower_sents,min_count=32, threshold=65))  # we can set constrain on min count and threshold to \n",
        "# only count most common pairs. "
      ],
      "execution_count": 0,
      "outputs": []
    },
    {
      "cell_type": "code",
      "metadata": {
        "id": "RjrZlyDKLVsj",
        "colab_type": "code",
        "colab": {
          "base_uri": "https://localhost:8080/",
          "height": 1000
        },
        "outputId": "ee0d905c-996a-46a9-df74-4ad427b9656a"
      },
      "source": [
        "lower_bigram.phrasegrams"
      ],
      "execution_count": 64,
      "outputs": [
        {
          "output_type": "execute_result",
          "data": {
            "text/plain": [
              "{(b'afar', b'off'): (52, 108.14220347465505),\n",
              " (b'burnt', b'offering'): (184, 297.524653753951),\n",
              " (b'burnt', b'offerings'): (86, 299.15702343127646),\n",
              " (b'buster', b'bear'): (142, 479.87410772225826),\n",
              " (b'captain', b'benwick'): (56, 241.49037086312987),\n",
              " (b'captain', b'wentworth'): (196, 529.8756608388247),\n",
              " (b'charles', b'hayter'): (33, 92.03437785214481),\n",
              " (b'chief', b'priests'): (65, 116.31947753846512),\n",
              " (b'colonel', b'brandon'): (132, 1313.0078125),\n",
              " (b'couldn', b't'): (89, 171.76138536935215),\n",
              " (b'cut', b'off'): (217, 129.60290535032792),\n",
              " (b'dare', b'say'): (115, 89.94000515807346),\n",
              " (b'de', b'grey'): (77, 603.2109624246722),\n",
              " (b'didn', b't'): (180, 220.51081560283686),\n",
              " (b'doesn', b't'): (53, 106.2634985949418),\n",
              " (b'don', b't'): (830, 250.30957446808512),\n",
              " (b'dr', b'bull'): (65, 680.7870294599019),\n",
              " (b'dr', b'middleton'): (40, 162.73103819257668),\n",
              " (b'drawing', b'room'): (49, 84.91494947493561),\n",
              " (b'farmer', b'brown'): (100, 386.05179596892236),\n",
              " (b'father', b'brown'): (207, 91.68277248710235),\n",
              " (b'few', b'minutes'): (86, 204.16834974753786),\n",
              " (b'few', b'moments'): (43, 107.77584531675087),\n",
              " (b'fig', b'tree'): (37, 121.73722334004026),\n",
              " (b'fine', b'flour'): (36, 86.07682458386685),\n",
              " (b'fir', b'tree'): (36, 72.6789393074867),\n",
              " (b'forty', b'years'): (68, 90.60220877269607),\n",
              " (b'frank', b'churchill'): (151, 1316.4456593286038),\n",
              " (b'gathered', b'together'): (84, 103.28066074898891),\n",
              " (b'good', b'natured'): (66, 88.69936184891343),\n",
              " (b'great', b'deal'): (182, 93.36368125424357),\n",
              " (b'green', b'forest'): (66, 336.37733627667404),\n",
              " (b'guinea', b'hen'): (51, 905.8822695035461),\n",
              " (b'high', b'places'): (99, 129.8123390846559),\n",
              " (b'holy', b'ghost'): (90, 313.0305073859987),\n",
              " (b'isn', b't'): (63, 131.96593211752787),\n",
              " (b'jane', b'fairfax'): (111, 654.5565917587609),\n",
              " (b'jesus', b'christ'): (199, 172.16816954974848),\n",
              " (b'joe', b'otter'): (47, 1271.6141235813368),\n",
              " (b'john', b'knightley'): (58, 83.03755747111268),\n",
              " (b'lady', b'middleton'): (95, 350.26733319243175),\n",
              " (b'lady', b'russell'): (147, 613.6301581282135),\n",
              " (b'little', b'jackal'): (61, 69.81254128038833),\n",
              " (b'little', b'joe'): (111, 133.28784038147822),\n",
              " (b'm', b'sure'): (88, 69.15069432539002),\n",
              " (b'ma', b'am'): (216, 157.25846601094193),\n",
              " (b'mast', b'heads'): (37, 77.7358926919519),\n",
              " (b'meat', b'offering'): (122, 210.66724956379437),\n",
              " (b'mercy', b'endureth'): (41, 269.07674062361025),\n",
              " (b'miss', b'bates'): (113, 276.39588291692513),\n",
              " (b'miss', b'dashwood'): (70, 76.66830732292917),\n",
              " (b'miss', b'fairfax'): (125, 196.19987447261062),\n",
              " (b'miss', b'smith'): (58, 73.03442128232508),\n",
              " (b'miss', b'somers'): (49, 160.06190476190477),\n",
              " (b'miss', b'taylor'): (48, 156.44059469941823),\n",
              " (b'miss', b'woodhouse'): (173, 229.03802722366902),\n",
              " (b'moby', b'dick'): (84, 4115.877551020409),\n",
              " (b'mock', b'turtle'): (56, 2528.877742946708),\n",
              " (b'mr', b'elliot'): (174, 126.18129960463163),\n",
              " (b'mr', b'elton'): (214, 121.3990121932397),\n",
              " (b'mr', b'gresham'): (49, 87.31390492359931),\n",
              " (b'mr', b'knightley'): (277, 161.74131790625913),\n",
              " (b'mr', b'weston'): (162, 75.87438262077481),\n",
              " (b'mr', b'woodhouse'): (132, 82.04651843976633),\n",
              " (b'mrs', b'clay'): (66, 93.08931456265867),\n",
              " (b'mrs', b'dashwood'): (121, 115.06873605661974),\n",
              " (b'mrs', b'elton'): (142, 93.08931456265867),\n",
              " (b'mrs', b'ferrars'): (73, 102.75628184416554),\n",
              " (b'mrs', b'goddard'): (58, 143.57843432545658),\n",
              " (b'mrs', b'jennings'): (229, 279.0655756128398),\n",
              " (b'mrs', b'musgrove'): (66, 85.21252640735679),\n",
              " (b'mrs', b'smith'): (79, 84.60327207490248),\n",
              " (b'mrs', b'theresa'): (67, 170.20061244665206),\n",
              " (b'mrs', b'weston'): (249, 160.68485093258923),\n",
              " (b'o', b'clock'): (67, 89.14789088153573),\n",
              " (b'o', b'er'): (82, 108.14993564993564),\n",
              " (b'peace', b'offerings'): (83, 176.2577199456205),\n",
              " (b'sent', b'messengers'): (43, 79.21555418015616),\n",
              " (b'sin', b'offering'): (118, 129.96079665512747),\n",
              " (b'sir', b'arthur'): (71, 131.41924812030075),\n",
              " (b'sir', b'john'): (113, 95.83994133176884),\n",
              " (b'sir', b'walter'): (136, 399.5145142857143),\n",
              " (b'six', b'hundred'): (66, 73.57615079223149),\n",
              " (b'sperm', b'whale'): (183, 297.3672297627184),\n",
              " (b'sweet', b'savour'): (43, 286.17879256965944),\n",
              " (b'take', b'heed'): (58, 86.38454061712328),\n",
              " (b'ten', b'thousand'): (82, 84.00099962514057),\n",
              " (b'thou', b'shalt'): (1282, 66.88233182614454),\n",
              " (b'thousand', b'pounds'): (48, 166.51834523092802),\n",
              " (b'thus', b'saith'): (444, 144.0289127889979),\n",
              " (b'unleavened', b'bread'): (43, 237.70041787206688),\n",
              " (b'wasn', b't'): (58, 120.2225788701394),\n",
              " (b'wee', b'l'): (35, 450.39751861042186),\n",
              " (b'without', b'blemish'): (46, 83.71359108159393),\n",
              " (b'won', b't'): (219, 189.96708776595744),\n",
              " (b'wouldn', b't'): (58, 120.2225788701394),\n",
              " (b'years', b'ago'): (56, 74.31594785893046)}"
            ]
          },
          "metadata": {
            "tags": []
          },
          "execution_count": 64
        }
      ]
    },
    {
      "cell_type": "code",
      "metadata": {
        "id": "iJAKLuZwMCci",
        "colab_type": "code",
        "colab": {}
      },
      "source": [
        "# Create a cleaned up corpus. \n",
        "clean_sents = []\n",
        "for s in lower_sents:\n",
        "  clean_sents.append(lower_bigram[s])"
      ],
      "execution_count": 0,
      "outputs": []
    },
    {
      "cell_type": "code",
      "metadata": {
        "id": "GrlCJ34NNayQ",
        "colab_type": "code",
        "colab": {}
      },
      "source": [
        "x = lower_sents[5]\n",
        "y = lower_bigram[lower_sents[5]]"
      ],
      "execution_count": 0,
      "outputs": []
    },
    {
      "cell_type": "code",
      "metadata": {
        "id": "4Buu8HMhN186",
        "colab_type": "code",
        "colab": {
          "base_uri": "https://localhost:8080/",
          "height": 755
        },
        "outputId": "3399197b-46e7-4824-faaa-0aa6a566bce9"
      },
      "source": [
        ""
      ],
      "execution_count": 73,
      "outputs": [
        {
          "output_type": "execute_result",
          "data": {
            "text/plain": [
              "['her',\n",
              " 'mother',\n",
              " 'had',\n",
              " 'died',\n",
              " 'too',\n",
              " 'long',\n",
              " 'ago',\n",
              " 'for',\n",
              " 'her',\n",
              " 'to',\n",
              " 'have',\n",
              " 'more',\n",
              " 'than',\n",
              " 'an',\n",
              " 'indistinct',\n",
              " 'remembrance',\n",
              " 'of',\n",
              " 'her',\n",
              " 'caresses',\n",
              " 'and',\n",
              " 'her',\n",
              " 'place',\n",
              " 'had',\n",
              " 'been',\n",
              " 'supplied',\n",
              " 'by',\n",
              " 'an',\n",
              " 'excellent',\n",
              " 'woman',\n",
              " 'as',\n",
              " 'governess',\n",
              " 'who',\n",
              " 'had',\n",
              " 'fallen',\n",
              " 'little',\n",
              " 'short',\n",
              " 'of',\n",
              " 'a',\n",
              " 'mother',\n",
              " 'in',\n",
              " 'affection']"
            ]
          },
          "metadata": {
            "tags": []
          },
          "execution_count": 73
        }
      ]
    },
    {
      "cell_type": "markdown",
      "metadata": {
        "id": "Xei6CkOBOb_K",
        "colab_type": "text"
      },
      "source": [
        "## Running word2vec \n"
      ]
    },
    {
      "cell_type": "code",
      "metadata": {
        "id": "vifwBqg8Of7l",
        "colab_type": "code",
        "colab": {}
      },
      "source": [
        "model = Word2Vec(sentences=clean_sents, size=64, sg=1, window=10, iter=5,\n",
        "                 min_count=10, workers=4)"
      ],
      "execution_count": 0,
      "outputs": []
    },
    {
      "cell_type": "code",
      "metadata": {
        "id": "gmlRe_QgOqEy",
        "colab_type": "code",
        "colab": {
          "base_uri": "https://localhost:8080/",
          "height": 73
        },
        "outputId": "e4b10aa9-1594-41d6-b2fd-b23a6bccfb8e"
      },
      "source": [
        "# save model. \n",
        "model.save('clean_gutenber.w2v')\n",
        "# load model. \n",
        "#model = gensim.models.Word2Vec.load('clean_gutenber.w2v')"
      ],
      "execution_count": 76,
      "outputs": [
        {
          "output_type": "stream",
          "text": [
            "/usr/local/lib/python3.6/dist-packages/smart_open/smart_open_lib.py:253: UserWarning: This function is deprecated, use smart_open.open instead. See the migration notes for details: https://github.com/RaRe-Technologies/smart_open/blob/master/README.rst#migrating-to-the-new-open-function\n",
            "  'See the migration notes for details: %s' % _MIGRATION_NOTES_URL\n"
          ],
          "name": "stderr"
        }
      ]
    },
    {
      "cell_type": "code",
      "metadata": {
        "id": "GZ2VwP5KPCk7",
        "colab_type": "code",
        "colab": {
          "base_uri": "https://localhost:8080/",
          "height": 251
        },
        "outputId": "cdc1d15b-dbb2-4753-bccc-0857c3d2f53a"
      },
      "source": [
        "model.wv['dog'] # 64 dimension of word vector for the word is created. "
      ],
      "execution_count": 79,
      "outputs": [
        {
          "output_type": "execute_result",
          "data": {
            "text/plain": [
              "array([ 0.33397558,  0.02795044, -0.10571696,  0.5207174 ,  0.00503756,\n",
              "       -0.19762382, -0.5502975 ,  0.25008374,  0.32591102,  0.17264596,\n",
              "        0.52744836, -0.1264395 , -0.183295  , -0.15445071, -0.47587377,\n",
              "        0.68376124,  0.27204412,  0.47867644, -0.22780098, -0.01346217,\n",
              "        0.05110286,  0.09869849, -0.3699244 ,  0.07881235, -0.03476465,\n",
              "        0.17181814,  0.43047318, -0.18781371, -0.02964539, -0.34393322,\n",
              "       -0.07026237, -0.7194753 ,  0.13949107, -0.0393455 , -0.06751183,\n",
              "        0.39047608, -0.07387531,  0.2029385 , -0.23918894, -0.06451201,\n",
              "       -0.16348779,  0.2819555 ,  0.36019248,  0.3340769 ,  0.3534    ,\n",
              "       -0.43511948,  0.05097928, -0.33749554, -0.15098977,  0.16575663,\n",
              "       -0.1452561 ,  0.18100822,  0.0449219 , -0.28306508, -0.00225268,\n",
              "        0.39372563, -0.09976695,  0.08043393,  0.37002602, -0.31986398,\n",
              "        0.11198719,  0.7011995 ,  0.04756142,  0.4589633 ], dtype=float32)"
            ]
          },
          "metadata": {
            "tags": []
          },
          "execution_count": 79
        }
      ]
    },
    {
      "cell_type": "code",
      "metadata": {
        "id": "LC2KPeL1PX-p",
        "colab_type": "code",
        "colab": {
          "base_uri": "https://localhost:8080/",
          "height": 127
        },
        "outputId": "8090505f-4d2f-4d50-c4f7-ce2b79e73e87"
      },
      "source": [
        "# check for similarity of the word. \n",
        "model.wv.most_similar('father', topn=3)"
      ],
      "execution_count": 81,
      "outputs": [
        {
          "output_type": "stream",
          "text": [
            "/usr/local/lib/python3.6/dist-packages/gensim/matutils.py:737: FutureWarning: Conversion of the second argument of issubdtype from `int` to `np.signedinteger` is deprecated. In future, it will be treated as `np.int64 == np.dtype(int).type`.\n",
            "  if np.issubdtype(vec.dtype, np.int):\n"
          ],
          "name": "stderr"
        },
        {
          "output_type": "execute_result",
          "data": {
            "text/plain": [
              "[('mother', 0.826674222946167),\n",
              " ('brother', 0.7657889127731323),\n",
              " ('sister', 0.7490341663360596)]"
            ]
          },
          "metadata": {
            "tags": []
          },
          "execution_count": 81
        }
      ]
    },
    {
      "cell_type": "code",
      "metadata": {
        "id": "MirQDybpPm8w",
        "colab_type": "code",
        "colab": {
          "base_uri": "https://localhost:8080/",
          "height": 253
        },
        "outputId": "1cca0249-618b-4958-e204-59718785c8a5"
      },
      "source": [
        "# Analogies\n",
        "model.wv.most_similar(positive=['father','women'], negative=['man'])"
      ],
      "execution_count": 83,
      "outputs": [
        {
          "output_type": "stream",
          "text": [
            "/usr/local/lib/python3.6/dist-packages/gensim/matutils.py:737: FutureWarning: Conversion of the second argument of issubdtype from `int` to `np.signedinteger` is deprecated. In future, it will be treated as `np.int64 == np.dtype(int).type`.\n",
            "  if np.issubdtype(vec.dtype, np.int):\n"
          ],
          "name": "stderr"
        },
        {
          "output_type": "execute_result",
          "data": {
            "text/plain": [
              "[('daughters', 0.7221519947052002),\n",
              " ('wives', 0.648297131061554),\n",
              " ('sister', 0.6459983587265015),\n",
              " ('daughter', 0.6401728391647339),\n",
              " ('sisters', 0.6378422975540161),\n",
              " ('mother', 0.6274315714836121),\n",
              " ('concubines', 0.6220024824142456),\n",
              " ('loved', 0.6195202469825745),\n",
              " ('mothers', 0.6113021373748779),\n",
              " ('younger', 0.6056540012359619)]"
            ]
          },
          "metadata": {
            "tags": []
          },
          "execution_count": 83
        }
      ]
    },
    {
      "cell_type": "code",
      "metadata": {
        "id": "hgWjL871P01S",
        "colab_type": "code",
        "colab": {}
      },
      "source": [
        "# Plotting word vectors. "
      ],
      "execution_count": 0,
      "outputs": []
    },
    {
      "cell_type": "code",
      "metadata": {
        "id": "VSpvYyfYP470",
        "colab_type": "code",
        "colab": {}
      },
      "source": [
        "tsne = TSNE(n_components=2, n_iter=1000)\n",
        "x_2d = tsne.fit_transform(model.wv[model.wv.vocab])\n",
        "coords_df = pd.DataFrame(x_2d, columns=['x', 'y'])\n",
        "coords_df['token'] = model.wv.vocab.keys()"
      ],
      "execution_count": 0,
      "outputs": []
    },
    {
      "cell_type": "code",
      "metadata": {
        "id": "b4WynTBkQhDE",
        "colab_type": "code",
        "colab": {}
      },
      "source": [
        "coords_df.to_csv('gutenber_tsen.csv')"
      ],
      "execution_count": 0,
      "outputs": []
    },
    {
      "cell_type": "code",
      "metadata": {
        "id": "dI8X5dmMQy0b",
        "colab_type": "code",
        "colab": {
          "base_uri": "https://localhost:8080/",
          "height": 204
        },
        "outputId": "99cfd282-f3ab-4336-a124-679be5edc3ae"
      },
      "source": [
        "# Now plot as 2d coordinate in of the tsne projections\n",
        "coords_df.head(5)"
      ],
      "execution_count": 88,
      "outputs": [
        {
          "output_type": "execute_result",
          "data": {
            "text/html": [
              "<div>\n",
              "<style scoped>\n",
              "    .dataframe tbody tr th:only-of-type {\n",
              "        vertical-align: middle;\n",
              "    }\n",
              "\n",
              "    .dataframe tbody tr th {\n",
              "        vertical-align: top;\n",
              "    }\n",
              "\n",
              "    .dataframe thead th {\n",
              "        text-align: right;\n",
              "    }\n",
              "</style>\n",
              "<table border=\"1\" class=\"dataframe\">\n",
              "  <thead>\n",
              "    <tr style=\"text-align: right;\">\n",
              "      <th></th>\n",
              "      <th>x</th>\n",
              "      <th>y</th>\n",
              "      <th>token</th>\n",
              "    </tr>\n",
              "  </thead>\n",
              "  <tbody>\n",
              "    <tr>\n",
              "      <th>0</th>\n",
              "      <td>54.646809</td>\n",
              "      <td>-29.374714</td>\n",
              "      <td>emma</td>\n",
              "    </tr>\n",
              "    <tr>\n",
              "      <th>1</th>\n",
              "      <td>-9.007567</td>\n",
              "      <td>-46.197361</td>\n",
              "      <td>by</td>\n",
              "    </tr>\n",
              "    <tr>\n",
              "      <th>2</th>\n",
              "      <td>53.299088</td>\n",
              "      <td>-31.482281</td>\n",
              "      <td>jane</td>\n",
              "    </tr>\n",
              "    <tr>\n",
              "      <th>3</th>\n",
              "      <td>6.957158</td>\n",
              "      <td>-25.594355</td>\n",
              "      <td>volume</td>\n",
              "    </tr>\n",
              "    <tr>\n",
              "      <th>4</th>\n",
              "      <td>32.742039</td>\n",
              "      <td>22.793888</td>\n",
              "      <td>i</td>\n",
              "    </tr>\n",
              "  </tbody>\n",
              "</table>\n",
              "</div>"
            ],
            "text/plain": [
              "           x          y   token\n",
              "0  54.646809 -29.374714    emma\n",
              "1  -9.007567 -46.197361      by\n",
              "2  53.299088 -31.482281    jane\n",
              "3   6.957158 -25.594355  volume\n",
              "4  32.742039  22.793888       i"
            ]
          },
          "metadata": {
            "tags": []
          },
          "execution_count": 88
        }
      ]
    },
    {
      "cell_type": "code",
      "metadata": {
        "id": "S1sQS4S5Q64P",
        "colab_type": "code",
        "colab": {
          "base_uri": "https://localhost:8080/",
          "height": 714
        },
        "outputId": "6688f3ce-240a-4bc9-8fe5-cbe2ccb490c7"
      },
      "source": [
        "_ = coords_df.plot.scatter('x', 'y', figsize=(12,12), marker='.', s=10, alpha=0.2)"
      ],
      "execution_count": 89,
      "outputs": [
        {
          "output_type": "display_data",
          "data": {
            "image/png": "[encoded data removed]",
            "text/plain": [
              "<Figure size 864x864 with 1 Axes>"
            ]
          },
          "metadata": {
            "tags": [],
            "needs_background": "light"
          }
        }
      ]
    },
    {
      "cell_type": "code",
      "metadata": {
        "id": "T9LrF25VRG_f",
        "colab_type": "code",
        "colab": {
          "base_uri": "https://localhost:8080/",
          "height": 817
        },
        "outputId": "d5c297d0-b6e4-4f63-96c0-dcfa6d51e918"
      },
      "source": [
        "output_notebook()\n",
        "subset_df = coords_df.sample(n=5000)\n",
        "p = figure(plot_width=800, plot_height=800)\n",
        "_= p.text(x=subset_df.x, y=subset_df.y, text=subset_df.token)\n",
        "show(p)"
      ],
      "execution_count": 90,
      "outputs": [
        {
          "output_type": "display_data",
          "data": {
            "application/javascript": [
              "\n",
              "(function(root) {\n",
              "  function now() {\n",
              "    return new Date();\n",
              "  }\n",
              "\n",
              "  var force = true;\n",
              "\n",
              "  if (typeof root._bokeh_onload_callbacks === \"undefined\" || force === true) {\n",
              "    root._bokeh_onload_callbacks = [];\n",
              "    root._bokeh_is_loading = undefined;\n",
              "  }\n",
              "\n",
              "  var JS_MIME_TYPE = 'application/javascript';\n",
              "  var HTML_MIME_TYPE = 'text/html';\n",
              "  var EXEC_MIME_TYPE = 'application/vnd.bokehjs_exec.v0+json';\n",
              "  var CLASS_NAME = 'output_bokeh rendered_html';\n",
              "\n",
              "  /**\n",
              "   * Render data to the DOM node\n",
              "   */\n",
              "  function render(props, node) {\n",
              "    var script = document.createElement(\"script\");\n",
              "    node.appendChild(script);\n",
              "  }\n",
              "\n",
              "  /**\n",
              "   * Handle when an output is cleared or removed\n",
              "   */\n",
              "  function handleClearOutput(event, handle) {\n",
              "    var cell = handle.cell;\n",
              "\n",
              "    var id = cell.output_area._bokeh_element_id;\n",
              "    var server_id = cell.output_area._bokeh_server_id;\n",
              "    // Clean up Bokeh references\n",
              "    if (id != null && id in Bokeh.index) {\n",
              "      Bokeh.index[id].model.document.clear();\n",
              "      delete Bokeh.index[id];\n",
              "    }\n",
              "\n",
              "    if (server_id !== undefined) {\n",
              "      // Clean up Bokeh references\n",
              "      var cmd = \"from bokeh.io.state import curstate; print(curstate().uuid_to_server['\" + server_id + \"'].get_sessions()[0].document.roots[0]._id)\";\n",
              "      cell.notebook.kernel.execute(cmd, {\n",
              "        iopub: {\n",
              "          output: function(msg) {\n",
              "            var id = msg.content.text.trim();\n",
              "            if (id in Bokeh.index) {\n",
              "              Bokeh.index[id].model.document.clear();\n",
              "              delete Bokeh.index[id];\n",
              "            }\n",
              "          }\n",
              "        }\n",
              "      });\n",
              "      // Destroy server and session\n",
              "      var cmd = \"import bokeh.io.notebook as ion; ion.destroy_server('\" + server_id + \"')\";\n",
              "      cell.notebook.kernel.execute(cmd);\n",
              "    }\n",
              "  }\n",
              "\n",
              "  /**\n",
              "   * Handle when a new output is added\n",
              "   */\n",
              "  function handleAddOutput(event, handle) {\n",
              "    var output_area = handle.output_area;\n",
              "    var output = handle.output;\n",
              "\n",
              "    // limit handleAddOutput to display_data with EXEC_MIME_TYPE content only\n",
              "    if ((output.output_type != \"display_data\") || (!output.data.hasOwnProperty(EXEC_MIME_TYPE))) {\n",
              "      return\n",
              "    }\n",
              "\n",
              "    var toinsert = output_area.element.find(\".\" + CLASS_NAME.split(' ')[0]);\n",
              "\n",
              "    if (output.metadata[EXEC_MIME_TYPE][\"id\"] !== undefined) {\n",
              "      toinsert[toinsert.length - 1].firstChild.textContent = output.data[JS_MIME_TYPE];\n",
              "      // store reference to embed id on output_area\n",
              "      output_area._bokeh_element_id = output.metadata[EXEC_MIME_TYPE][\"id\"];\n",
              "    }\n",
              "    if (output.metadata[EXEC_MIME_TYPE][\"server_id\"] !== undefined) {\n",
              "      var bk_div = document.createElement(\"div\");\n",
              "      bk_div.innerHTML = output.data[HTML_MIME_TYPE];\n",
              "      var script_attrs = bk_div.children[0].attributes;\n",
              "      for (var i = 0; i < script_attrs.length; i++) {\n",
              "        toinsert[toinsert.length - 1].firstChild.setAttribute(script_attrs[i].name, script_attrs[i].value);\n",
              "      }\n",
              "      // store reference to server id on output_area\n",
              "      output_area._bokeh_server_id = output.metadata[EXEC_MIME_TYPE][\"server_id\"];\n",
              "    }\n",
              "  }\n",
              "\n",
              "  function register_renderer(events, OutputArea) {\n",
              "\n",
              "    function append_mime(data, metadata, element) {\n",
              "      // create a DOM node to render to\n",
              "      var toinsert = this.create_output_subarea(\n",
              "        metadata,\n",
              "        CLASS_NAME,\n",
              "        EXEC_MIME_TYPE\n",
              "      );\n",
              "      this.keyboard_manager.register_events(toinsert);\n",
              "      // Render to node\n",
              "      var props = {data: data, metadata: metadata[EXEC_MIME_TYPE]};\n",
              "      render(props, toinsert[toinsert.length - 1]);\n",
              "      element.append(toinsert);\n",
              "      return toinsert\n",
              "    }\n",
              "\n",
              "    /* Handle when an output is cleared or removed */\n",
              "    events.on('clear_output.CodeCell', handleClearOutput);\n",
              "    events.on('delete.Cell', handleClearOutput);\n",
              "\n",
              "    /* Handle when a new output is added */\n",
              "    events.on('output_added.OutputArea', handleAddOutput);\n",
              "\n",
              "    /**\n",
              "     * Register the mime type and append_mime function with output_area\n",
              "     */\n",
              "    OutputArea.prototype.register_mime_type(EXEC_MIME_TYPE, append_mime, {\n",
              "      /* Is output safe? */\n",
              "      safe: true,\n",
              "      /* Index of renderer in `output_area.display_order` */\n",
              "      index: 0\n",
              "    });\n",
              "  }\n",
              "\n",
              "  // register the mime type if in Jupyter Notebook environment and previously unregistered\n",
              "  if (root.Jupyter !== undefined) {\n",
              "    var events = require('base/js/events');\n",
              "    var OutputArea = require('notebook/js/outputarea').OutputArea;\n",
              "\n",
              "    if (OutputArea.prototype.mime_types().indexOf(EXEC_MIME_TYPE) == -1) {\n",
              "      register_renderer(events, OutputArea);\n",
              "    }\n",
              "  }\n",
              "\n",
              "  \n",
              "  if (typeof (root._bokeh_timeout) === \"undefined\" || force === true) {\n",
              "    root._bokeh_timeout = Date.now() + 5000;\n",
              "    root._bokeh_failed_load = false;\n",
              "  }\n",
              "\n",
              "  var NB_LOAD_WARNING = {'data': {'text/html':\n",
              "     \"<div style='background-color: #fdd'>\\n\"+\n",
              "     \"<p>\\n\"+\n",
              "     \"BokehJS does not appear to have successfully loaded. If loading BokehJS from CDN, this \\n\"+\n",
              "     \"may be due to a slow or bad network connection. Possible fixes:\\n\"+\n",
              "     \"</p>\\n\"+\n",
              "     \"<ul>\\n\"+\n",
              "     \"<li>re-rerun `output_notebook()` to attempt to load from CDN again, or</li>\\n\"+\n",
              "     \"<li>use INLINE resources instead, as so:</li>\\n\"+\n",
              "     \"</ul>\\n\"+\n",
              "     \"<code>\\n\"+\n",
              "     \"from bokeh.resources import INLINE\\n\"+\n",
              "     \"output_notebook(resources=INLINE)\\n\"+\n",
              "     \"</code>\\n\"+\n",
              "     \"</div>\"}};\n",
              "\n",
              "  function display_loaded() {\n",
              "    var el = document.getElementById(null);\n",
              "    if (el != null) {\n",
              "      el.textContent = \"BokehJS is loading...\";\n",
              "    }\n",
              "    if (root.Bokeh !== undefined) {\n",
              "      if (el != null) {\n",
              "        el.textContent = \"BokehJS \" + root.Bokeh.version + \" successfully loaded.\";\n",
              "      }\n",
              "    } else if (Date.now() < root._bokeh_timeout) {\n",
              "      setTimeout(display_loaded, 100)\n",
              "    }\n",
              "  }\n",
              "\n",
              "\n",
              "  function run_callbacks() {\n",
              "    try {\n",
              "      root._bokeh_onload_callbacks.forEach(function(callback) {\n",
              "        if (callback != null)\n",
              "          callback();\n",
              "      });\n",
              "    } finally {\n",
              "      delete root._bokeh_onload_callbacks\n",
              "    }\n",
              "    console.debug(\"Bokeh: all callbacks have finished\");\n",
              "  }\n",
              "\n",
              "  function load_libs(css_urls, js_urls, callback) {\n",
              "    if (css_urls == null) css_urls = [];\n",
              "    if (js_urls == null) js_urls = [];\n",
              "\n",
              "    root._bokeh_onload_callbacks.push(callback);\n",
              "    if (root._bokeh_is_loading > 0) {\n",
              "      console.debug(\"Bokeh: BokehJS is being loaded, scheduling callback at\", now());\n",
              "      return null;\n",
              "    }\n",
              "    if (js_urls == null || js_urls.length === 0) {\n",
              "      run_callbacks();\n",
              "      return null;\n",
              "    }\n",
              "    console.debug(\"Bokeh: BokehJS not loaded, scheduling load and callback at\", now());\n",
              "    root._bokeh_is_loading = css_urls.length + js_urls.length;\n",
              "\n",
              "    function on_load() {\n",
              "      root._bokeh_is_loading--;\n",
              "      if (root._bokeh_is_loading === 0) {\n",
              "        console.debug(\"Bokeh: all BokehJS libraries/stylesheets loaded\");\n",
              "        run_callbacks()\n",
              "      }\n",
              "    }\n",
              "\n",
              "    function on_error() {\n",
              "      console.error(\"failed to load \" + url);\n",
              "    }\n",
              "\n",
              "    for (var i = 0; i < css_urls.length; i++) {\n",
              "      var url = css_urls[i];\n",
              "      const element = document.createElement(\"link\");\n",
              "      element.onload = on_load;\n",
              "      element.onerror = on_error;\n",
              "      element.rel = \"stylesheet\";\n",
              "      element.type = \"text/css\";\n",
              "      element.href = url;\n",
              "      console.debug(\"Bokeh: injecting link tag for BokehJS stylesheet: \", url);\n",
              "      document.body.appendChild(element);\n",
              "    }\n",
              "\n",
              "    for (var i = 0; i < js_urls.length; i++) {\n",
              "      var url = js_urls[i];\n",
              "      var element = document.createElement('script');\n",
              "      element.onload = on_load;\n",
              "      element.onerror = on_error;\n",
              "      element.async = false;\n",
              "      element.src = url;\n",
              "      console.debug(\"Bokeh: injecting script tag for BokehJS library: \", url);\n",
              "      document.head.appendChild(element);\n",
              "    }\n",
              "  };\n",
              "\n",
              "  function inject_raw_css(css) {\n",
              "    const element = document.createElement(\"style\");\n",
              "    element.appendChild(document.createTextNode(css));\n",
              "    document.body.appendChild(element);\n",
              "  }\n",
              "\n",
              "  \n",
              "  var js_urls = [\"https://cdn.pydata.org/bokeh/release/bokeh-1.4.0.min.js\", \"https://cdn.pydata.org/bokeh/release/bokeh-widgets-1.4.0.min.js\", \"https://cdn.pydata.org/bokeh/release/bokeh-tables-1.4.0.min.js\", \"https://cdn.pydata.org/bokeh/release/bokeh-gl-1.4.0.min.js\"];\n",
              "  var css_urls = [];\n",
              "  \n",
              "\n",
              "  var inline_js = [\n",
              "    function(Bokeh) {\n",
              "      Bokeh.set_log_level(\"info\");\n",
              "    },\n",
              "    function(Bokeh) {\n",
              "    \n",
              "    \n",
              "    }\n",
              "  ];\n",
              "\n",
              "  function run_inline_js() {\n",
              "    \n",
              "    if (root.Bokeh !== undefined || force === true) {\n",
              "      \n",
              "    for (var i = 0; i < inline_js.length; i++) {\n",
              "      inline_js[i].call(root, root.Bokeh);\n",
              "    }\n",
              "    } else if (Date.now() < root._bokeh_timeout) {\n",
              "      setTimeout(run_inline_js, 100);\n",
              "    } else if (!root._bokeh_failed_load) {\n",
              "      console.log(\"Bokeh: BokehJS failed to load within specified timeout.\");\n",
              "      root._bokeh_failed_load = true;\n",
              "    } else if (force !== true) {\n",
              "      var cell = $(document.getElementById(null)).parents('.cell').data().cell;\n",
              "      cell.output_area.append_execute_result(NB_LOAD_WARNING)\n",
              "    }\n",
              "\n",
              "  }\n",
              "\n",
              "  if (root._bokeh_is_loading === 0) {\n",
              "    console.debug(\"Bokeh: BokehJS loaded, going straight to plotting\");\n",
              "    run_inline_js();\n",
              "  } else {\n",
              "    load_libs(css_urls, js_urls, function() {\n",
              "      console.debug(\"Bokeh: BokehJS plotting callback run at\", now());\n",
              "      run_inline_js();\n",
              "    });\n",
              "  }\n",
              "}(window));"
            ],
            "application/vnd.bokehjs_load.v0+json": "\n(function(root) {\n  function now() {\n    return new Date();\n  }\n\n  var force = true;\n\n  if (typeof root._bokeh_onload_callbacks === \"undefined\" || force === true) {\n    root._bokeh_onload_callbacks = [];\n    root._bokeh_is_loading = undefined;\n  }\n\n  \n\n  \n  if (typeof (root._bokeh_timeout) === \"undefined\" || force === true) {\n    root._bokeh_timeout = Date.now() + 5000;\n    root._bokeh_failed_load = false;\n  }\n\n  var NB_LOAD_WARNING = {'data': {'text/html':\n     \"<div style='background-color: #fdd'>\\n\"+\n     \"<p>\\n\"+\n     \"BokehJS does not appear to have successfully loaded. If loading BokehJS from CDN, this \\n\"+\n     \"may be due to a slow or bad network connection. Possible fixes:\\n\"+\n     \"</p>\\n\"+\n     \"<ul>\\n\"+\n     \"<li>re-rerun `output_notebook()` to attempt to load from CDN again, or</li>\\n\"+\n     \"<li>use INLINE resources instead, as so:</li>\\n\"+\n     \"</ul>\\n\"+\n     \"<code>\\n\"+\n     \"from bokeh.resources import INLINE\\n\"+\n     \"output_notebook(resources=INLINE)\\n\"+\n     \"</code>\\n\"+\n     \"</div>\"}};\n\n  function display_loaded() {\n    var el = document.getElementById(null);\n    if (el != null) {\n      el.textContent = \"BokehJS is loading...\";\n    }\n    if (root.Bokeh !== undefined) {\n      if (el != null) {\n        el.textContent = \"BokehJS \" + root.Bokeh.version + \" successfully loaded.\";\n      }\n    } else if (Date.now() < root._bokeh_timeout) {\n      setTimeout(display_loaded, 100)\n    }\n  }\n\n\n  function run_callbacks() {\n    try {\n      root._bokeh_onload_callbacks.forEach(function(callback) {\n        if (callback != null)\n          callback();\n      });\n    } finally {\n      delete root._bokeh_onload_callbacks\n    }\n    console.debug(\"Bokeh: all callbacks have finished\");\n  }\n\n  function load_libs(css_urls, js_urls, callback) {\n    if (css_urls == null) css_urls = [];\n    if (js_urls == null) js_urls = [];\n\n    root._bokeh_onload_callbacks.push(callback);\n    if (root._bokeh_is_loading > 0) {\n      console.debug(\"Bokeh: BokehJS is being loaded, scheduling callback at\", now());\n      return null;\n    }\n    if (js_urls == null || js_urls.length === 0) {\n      run_callbacks();\n      return null;\n    }\n    console.debug(\"Bokeh: BokehJS not loaded, scheduling load and callback at\", now());\n    root._bokeh_is_loading = css_urls.length + js_urls.length;\n\n    function on_load() {\n      root._bokeh_is_loading--;\n      if (root._bokeh_is_loading === 0) {\n        console.debug(\"Bokeh: all BokehJS libraries/stylesheets loaded\");\n        run_callbacks()\n      }\n    }\n\n    function on_error() {\n      console.error(\"failed to load \" + url);\n    }\n\n    for (var i = 0; i < css_urls.length; i++) {\n      var url = css_urls[i];\n      const element = document.createElement(\"link\");\n      element.onload = on_load;\n      element.onerror = on_error;\n      element.rel = \"stylesheet\";\n      element.type = \"text/css\";\n      element.href = url;\n      console.debug(\"Bokeh: injecting link tag for BokehJS stylesheet: \", url);\n      document.body.appendChild(element);\n    }\n\n    for (var i = 0; i < js_urls.length; i++) {\n      var url = js_urls[i];\n      var element = document.createElement('script');\n      element.onload = on_load;\n      element.onerror = on_error;\n      element.async = false;\n      element.src = url;\n      console.debug(\"Bokeh: injecting script tag for BokehJS library: \", url);\n      document.head.appendChild(element);\n    }\n  };\n\n  function inject_raw_css(css) {\n    const element = document.createElement(\"style\");\n    element.appendChild(document.createTextNode(css));\n    document.body.appendChild(element);\n  }\n\n  \n  var js_urls = [\"https://cdn.pydata.org/bokeh/release/bokeh-1.4.0.min.js\", \"https://cdn.pydata.org/bokeh/release/bokeh-widgets-1.4.0.min.js\", \"https://cdn.pydata.org/bokeh/release/bokeh-tables-1.4.0.min.js\", \"https://cdn.pydata.org/bokeh/release/bokeh-gl-1.4.0.min.js\"];\n  var css_urls = [];\n  \n\n  var inline_js = [\n    function(Bokeh) {\n      Bokeh.set_log_level(\"info\");\n    },\n    function(Bokeh) {\n    \n    \n    }\n  ];\n\n  function run_inline_js() {\n    \n    if (root.Bokeh !== undefined || force === true) {\n      \n    for (var i = 0; i < inline_js.length; i++) {\n      inline_js[i].call(root, root.Bokeh);\n    }\n    } else if (Date.now() < root._bokeh_timeout) {\n      setTimeout(run_inline_js, 100);\n    } else if (!root._bokeh_failed_load) {\n      console.log(\"Bokeh: BokehJS failed to load within specified timeout.\");\n      root._bokeh_failed_load = true;\n    } else if (force !== true) {\n      var cell = $(document.getElementById(null)).parents('.cell').data().cell;\n      cell.output_area.append_execute_result(NB_LOAD_WARNING)\n    }\n\n  }\n\n  if (root._bokeh_is_loading === 0) {\n    console.debug(\"Bokeh: BokehJS loaded, going straight to plotting\");\n    run_inline_js();\n  } else {\n    load_libs(css_urls, js_urls, function() {\n      console.debug(\"Bokeh: BokehJS plotting callback run at\", now());\n      run_inline_js();\n    });\n  }\n}(window));"
          },
          "metadata": {
            "tags": []
          }
        },
        {
          "output_type": "display_data",
          "data": {
            "text/html": [
              "\n",
              "\n",
              "\n",
              "\n",
              "\n",
              "\n",
              "  <div class=\"bk-root\" id=\"57f29562-e50e-4b86-add2-58e3044fa217\" data-root-id=\"1001\"></div>\n"
            ]
          },
          "metadata": {
            "tags": []
          }
        },
        {
          "output_type": "display_data",
          "data": {
            "application/javascript": [
              "(function(root) {\n",
              "  function embed_document(root) {\n",
              "    \n",
              "  var docs_json = {\"8b2edbee-01a6-4f5a-b556-c3ad4f5ba1e3\":{\"roots\":{\"references\":[{\"attributes\":{\"below\":[{\"id\":\"1010\",\"type\":\"LinearAxis\"}],\"center\":[{\"id\":\"1014\",\"type\":\"Grid\"},{\"id\":\"1019\",\"type\":\"Grid\"}],\"left\":[{\"id\":\"1015\",\"type\":\"LinearAxis\"}],\"plot_height\":800,\"plot_width\":800,\"renderers\":[{\"id\":\"1036\",\"type\":\"GlyphRenderer\"}],\"title\":{\"id\":\"1038\",\"type\":\"Title\"},\"toolbar\":{\"id\":\"1026\",\"type\":\"Toolbar\"},\"x_range\":{\"id\":\"1002\",\"type\":\"DataRange1d\"},\"x_scale\":{\"id\":\"1006\",\"type\":\"LinearScale\"},\"y_range\":{\"id\":\"1004\",\"type\":\"DataRange1d\"},\"y_scale\":{\"id\":\"1008\",\"type\":\"LinearScale\"}},\"id\":\"1001\",\"subtype\":\"Figure\",\"type\":\"Plot\"},{\"attributes\":{},\"id\":\"1016\",\"type\":\"BasicTicker\"},{\"attributes\":{},\"id\":\"1008\",\"type\":\"LinearScale\"},{\"attributes\":{\"data_source\":{\"id\":\"1033\",\"type\":\"ColumnDataSource\"},\"glyph\":{\"id\":\"1034\",\"type\":\"Text\"},\"hover_glyph\":null,\"muted_glyph\":null,\"nonselection_glyph\":{\"id\":\"1035\",\"type\":\"Text\"},\"selection_glyph\":null,\"view\":{\"id\":\"1037\",\"type\":\"CDSView\"}},\"id\":\"1036\",\"type\":\"GlyphRenderer\"},{\"attributes\":{\"text_alpha\":{\"value\":0.1},\"text_color\":{\"value\":\"black\"},\"x\":{\"field\":\"x\"},\"y\":{\"field\":\"y\"}},\"id\":\"1035\",\"type\":\"Text\"},{\"attributes\":{},\"id\":\"1020\",\"type\":\"PanTool\"},{\"attributes\":{\"formatter\":{\"id\":\"1040\",\"type\":\"BasicTickFormatter\"},\"ticker\":{\"id\":\"1016\",\"type\":\"BasicTicker\"}},\"id\":\"1015\",\"type\":\"LinearAxis\"},{\"attributes\":{\"callback\":null},\"id\":\"1002\",\"type\":\"DataRange1d\"},{\"attributes\":{\"dimension\":1,\"ticker\":{\"id\":\"1016\",\"type\":\"BasicTicker\"}},\"id\":\"1019\",\"type\":\"Grid\"},{\"attributes\":{},\"id\":\"1045\",\"type\":\"Selection\"},{\"attributes\":{\"ticker\":{\"id\":\"1011\",\"type\":\"BasicTicker\"}},\"id\":\"1014\",\"type\":\"Grid\"},{\"attributes\":{\"text_color\":{\"value\":\"black\"},\"x\":{\"field\":\"x\"},\"y\":{\"field\":\"y\"}},\"id\":\"1034\",\"type\":\"Text\"},{\"attributes\":{\"active_drag\":\"auto\",\"active_inspect\":\"auto\",\"active_multi\":null,\"active_scroll\":\"auto\",\"active_tap\":\"auto\",\"tools\":[{\"id\":\"1020\",\"type\":\"PanTool\"},{\"id\":\"1021\",\"type\":\"WheelZoomTool\"},{\"id\":\"1022\",\"type\":\"BoxZoomTool\"},{\"id\":\"1023\",\"type\":\"SaveTool\"},{\"id\":\"1024\",\"type\":\"ResetTool\"},{\"id\":\"1025\",\"type\":\"HelpTool\"}]},\"id\":\"1026\",\"type\":\"Toolbar\"},{\"attributes\":{},\"id\":\"1040\",\"type\":\"BasicTickFormatter\"},{\"attributes\":{\"overlay\":{\"id\":\"1046\",\"type\":\"BoxAnnotation\"}},\"id\":\"1022\",\"type\":\"BoxZoomTool\"},{\"attributes\":{},\"id\":\"1024\",\"type\":\"ResetTool\"},{\"attributes\":{},\"id\":\"1021\",\"type\":\"WheelZoomTool\"},{\"attributes\":{},\"id\":\"1044\",\"type\":\"UnionRenderers\"},{\"attributes\":{\"bottom_units\":\"screen\",\"fill_alpha\":{\"value\":0.5},\"fill_color\":{\"value\":\"lightgrey\"},\"left_units\":\"screen\",\"level\":\"overlay\",\"line_alpha\":{\"value\":1.0},\"line_color\":{\"value\":\"black\"},\"line_dash\":[4,4],\"line_width\":{\"value\":2},\"render_mode\":\"css\",\"right_units\":\"screen\",\"top_units\":\"screen\"},\"id\":\"1046\",\"type\":\"BoxAnnotation\"},{\"attributes\":{},\"id\":\"1023\",\"type\":\"SaveTool\"},{\"attributes\":{},\"id\":\"1025\",\"type\":\"HelpTool\"},{\"attributes\":{},\"id\":\"1011\",\"type\":\"BasicTicker\"},{\"attributes\":{\"formatter\":{\"id\":\"1042\",\"type\":\"BasicTickFormatter\"},\"ticker\":{\"id\":\"1011\",\"type\":\"BasicTicker\"}},\"id\":\"1010\",\"type\":\"LinearAxis\"},{\"attributes\":{\"callback\":null},\"id\":\"1004\",\"type\":\"DataRange1d\"},{\"attributes\":{},\"id\":\"1006\",\"type\":\"LinearScale\"},{\"attributes\":{},\"id\":\"1042\",\"type\":\"BasicTickFormatter\"},{\"attributes\":{\"text\":\"\"},\"id\":\"1038\",\"type\":\"Title\"},{\"attributes\":{\"source\":{\"id\":\"1033\",\"type\":\"ColumnDataSource\"}},\"id\":\"1037\",\"type\":\"CDSView\"},{\"attributes\":{\"callback\":null,\"data\":{\"text\":[\"equal\",\"indirectly\",\"yearly\",\"reached\",\"flowery\",\"renew\",\"communicate\",\"stammered\",\"mariners\",\"champion\",\"furious\",\"wrath\",\"continuing\",\"intention\",\"satisfaction\",\"wouldst\",\"intensity\",\"meanes\",\"loaves\",\"guide\",\"breakfast\",\"troubleth\",\"adverse\",\"succeeded\",\"elsewhere\",\"borrow\",\"diverted\",\"lamp\",\"tabor\",\"fore\",\"dived\",\"flung\",\"captain_benwick\",\"favourite\",\"bullet\",\"belshazzar\",\"peculiarities\",\"amorites\",\"succeed\",\"swims\",\"eateth\",\"wherefore\",\"boaz\",\"rescue\",\"johanan\",\"interesting\",\"purified\",\"feet\",\"broke\",\"frock\",\"balloon\",\"fires\",\";'\",\"blubber\",\"vision\",\"covers\",\"patiently\",\"fetch\",\"destroy\",\"letters\",\"wrecks\",\"joke\",\"notwithstanding\",\"4\",\"homely\",\"corps\",\"adding\",\"epistle\",\"succoth\",\"tenant\",\"ramah\",\"reports\",\"four\",\"cato\",\"shyness\",\"shakes\",\"parable\",\"voyage\",\"wrong\",\"seemeth\",\"fountains\",\"labour\",\"use\",\"clever\",\"embalmed\",\"sweet\",\"nobler\",\"carving\",\"penetration\",\"hide\",\"drinketh\",\"stays\",\"checking\",\"wake\",\"ohio\",\"popular\",\"mental\",\"explains\",\"jehoram\",\"wages\",\"launched\",\"esteemed\",\"easy\",\"--,\",\"feverish\",\"network\",\"giants\",\"hatches\",\"complained\",\"hypocrites\",\"fox\",\"road\",\"entereth\",\"toad\",\"hatch\",\"roused\",\"hedgehog\",\"wonder\",\"those\",\"unexpected\",\"thankes\",\"delightfully\",\"dispersed\",\"beene\",\"hooks\",\"meals\",\"perished\",\"begins\",\"appeare\",\"recompensed\",\"repeated\",\"sailors\",\"worldly\",\"recognised\",\"forming\",\"farmer\",\"hesitating\",\"refined\",\"dare_say\",\"knocked\",\"pound\",\"embraced\",\"intimately\",\"zerubbabel\",\"selfishness\",\"awaked\",\"considered\",\"beareth\",\"flies\",\"hurried\",\"crowned\",\"drawn\",\"crept\",\"bethink\",\"wide\",\"staying\",\"gods\",\"wore\",\"foaming\",\"jaw\",\"sprung\",\"adversity\",\"seemed\",\"sin\",\"pillar\",\"hasten\",\"themselues\",\"middletons\",\"hunting\",\"lost\",\"southward\",\"entertainment\",\"brute\",\"torment\",\"high_places\",\"abilities\",\"flat\",\"sceptre\",\"light\",\"straw\",\"country\",\"treacherous\",\"77\",\"arrest\",\"wondering\",\"guile\",\"battle\",\"moab\",\"delightful\",\"cool\",\"lust\",\"tulip\",\"covetousness\",\"shutters\",\"forbids\",\"rebelled\",\"menacing\",\"duke\",\"gentlemen\",\"passion\",\"elderly\",\"endued\",\"snatching\",\"lack\",\"parcels\",\").--\",\"curricle\",\"encourage\",\"consulting\",\"member\",\"umbrella\",\"induce\",\"assuming\",\"dug\",\"businesse\",\"dutch\",\"imprudent\",\"meetings\",\"millions\",\"whereby\",\"sayes\",\"twisting\",\"naught\",\"asks\",\"reddy\",\"basket\",\"candour\",\"every\",\"went\",\"fluttering\",\"compassion\",\"torches\",\"rugged\",\"assert\",\"sugar\",\"peace_offerings\",\"independent\",\"obadiah\",\"finding\",\"guard\",\"jeroham\",\"63\",\"broughtest\",\"observing\",\"works\",\"brain\",\"possess\",\"warrant\",\"hoisted\",\"signifies\",\"explanation\",\"megiddo\",\"modest\",\"pretensions\",\"robbers\",\"second\",\"prophetic\",\"profits\",\"much\",\"inform\",\"cape\",\"see\",\"jehoshaphat\",\"wormwood\",\"gentlemanlike\",\"lamb\",\"doest\",\"tithes\",\"travail\",\"titles\",\"godly\",\"bibles\",\"matrimony\",\"abiram\",\"reproaches\",\"trades\",\"dine\",\"contention\",\"uriel\",\"blending\",\"island\",\"sunrising\",\"bondage\",\"shewed\",\"transgression\",\"persons\",\"girl\",\"laws\",\"fleece\",\"agitated\",\"prow\",\"bore\",\"harville\",\"jacob\",\"oppose\",\"gorgeous\",\"persecute\",\"heshbon\",\"departure\",\"breathe\",\"coffee\",\"fled\",\"elder\",\"sharp\",\"statute\",\"deborah\",\"persisted\",\"hal\",\"dyed\",\"spear\",\"secrets\",\"creation\",\"gipsy\",\"dismay\",\"submission\",\"states\",\"senses\",\"wandering\",\"kissed\",\"wearing\",\"chance\",\"reflection\",\"securing\",\"industry\",\"poor\",\"deeds\",\"interchange\",\"player\",\"pursue\",\"monstrous\",\"thousand_pounds\",\"uneasy\",\"dismal\",\"dearth\",\"curved\",\"metellus\",\"barbarous\",\"doves\",\"flutter\",\"oftentimes\",\"mouth\",\";)\",\"disguise\",\"damned\",\"cassi\",\"doubt\",\"refuge\",\"fields\",\"music\",\"crickets\",\"mean\",\"sweet_savour\",\"questioned\",\"defect\",\"levi\",\"disperse\",\"accursed\",\"inland\",\"saracen\",\"whence\",\"horribly\",\"sounded\",\"strait\",\"jaws\",\"indignant\",\"philistines\",\"blushing\",\"amen\",\"perfectly\",\"pyrrhus\",\"daggers\",\"fight\",\"herself\",\"lava\",\"jehoiachin\",\"bring\",\"hem\",\"deeply\",\"sister\",\"shalt\",\"reacheth\",\"forget\",\"kindly\",\"jove\",\"nought\",\"youth\",\"jesse\",\"shake\",\"weigh\",\"jabesh\",\"darker\",\"ruddy\",\"them\",\"printed\",\"killed\",\"prepared\",\"worms\",\"mrs_weston\",\"manly\",\"quarrelled\",\"numberless\",\"armed\",\"ten\",\"nurse\",\"ransom\",\"silas\",\"swifter\",\"preference\",\"reckless\",\"attendant\",\"omnibus\",\"oaks\",\"replied\",\"charger\",\"military\",\"apparently\",\"fail\",\"anticipation\",\"shopkeeper\",\"breach\",\"fear\",\"depressed\",\"knit\",\"terrific\",\"adventurous\",\"hardness\",\"elevated\",\"arts\",\"your\",\"twelfth\",\"continents\",\"embarrassed\",\"samson\",\"tomahawk\",\"highlander\",\"amendment\",\"jack\",\"wound\",\"stablish\",\"transformed\",\"minute\",\"octavo\",\"sights\",\"stable\",\"foundation\",\"womb\",\"eagle\",\"been\",\"shining\",\"titus\",\"messages\",\"inquiring\",\"opinions\",\"kept\",\"henry\",\"diamond\",\"complaint\",\"narration\",\"overlooking\",\"trundle\",\"drooping\",\"executed\",\"la\",\"farre\",\"club\",\"sanballat\",\"eltons\",\"example\",\"multitudes\",\"remove\",\"muttering\",\"pigeons\",\"wilt\",\"sons\",\"shield\",\"78\",\"lowest\",\"obstacle\",\"sleepe\",\"trimmed\",\"green\",\"augment\",\"muse\",\"business\",\"agrippa\",\"siege\",\"motions\",\"piled\",\"grinned\",\"boards\",\"franklin\",\"offend\",\"further\",\"turneth\",\"weak\",\"plunged\",\"vouchsafe\",\"rum\",\"wooded\",\"nathan\",\"impossibility\",\"support\",\"corresponding\",\"manner\",\"tragedy\",\"gasp\",\"advantages\",\"recommended\",\"dangers\",\"fed\",\"cud\",\"drinks\",\"blasting\",\"grotesque\",\"fine\",\"church\",\"thirteen\",\"advice\",\"stooping\",\"ghastly\",\"thinks\",\"louis\",\"plymouth\",\"captains\",\"descending\",\"restless\",\"dire\",\"commerce\",\"heroes\",\"skies\",\"eight\",\"ephod\",\"imminent\",\"sacrificed\",\"bid\",\"reputation\",\"openeth\",\"quarrelling\",\"tambourine\",\"crisis\",\"baanah\",\"moabites\",\"onely\",\"seeme\",\"poyson\",\"faintest\",\"discovered\",\"laugh\",\"pride\",\"entreated\",\"seclusion\",\"huram\",\"closet\",\"knives\",\"harpoons\",\"fret\",\"concubines\",\"clo\",\"plate\",\"didn_t\",\"overthrew\",\"harder\",\"zin\",\"og\",\"friend\",\"someone\",\"neither\",\"preliminary\",\"border\",\"former\",\"appears\",\"rubbing\",\"fervent\",\"cave\",\"james\",\"joys\",\"fainter\",\"incalculable\",\"generall\",\"rob\",\"55\",\"baffling\",\"grow\",\"count\",\"illinois\",\"slipping\",\"pausing\",\"prey\",\"athaliah\",\"missed\",\"jabeshgilead\",\"carried\",\"lurk\",\"emerging\",\"expand\",\"conceivable\",\"coasts\",\"paul\",\"rahab\",\"precious\",\"fortune\",\"medium\",\"cleansing\",\"remaliah\",\"amorous\",\"to\",\"zidon\",\"cometh\",\"western\",\"line\",\")--\",\"shaped\",\"christianity\",\"correctly\",\"leak\",\"devonshire\",\"sparks\",\"mr_weston\",\"undone\",\"pursuit\",\"laertes\",\"agony\",\"successful\",\"finn\",\"mortified\",\"rocks\",\"creator\",\"expedient\",\"found\",\"queene\",\"keep\",\"continue\",\"digged\",\"character\",\"show\",\"dwelleth\",\"dimensions\",\"apron\",\"barnabas\",\"death\",\"hasn\",\"hermit\",\"apparel\",\".--\",\"whereof\",\"bolts\",\"lou\",\"wentworth\",\"suggestions\",\"meantime\",\"fringe\",\"remaineth\",\"aspirations\",\"spears\",\"kindled\",\"bubbles\",\"tidings\",\"bethuel\",\"ex\",\"boldly\",\"occupy\",\"tremulous\",\"leaving\",\"ideal\",\"slighted\",\"visits\",\"maachah\",\"hers\",\"coloured\",\"giuen\",\"couple\",\"authors\",\"unaccountable\",\"reign\",\"diminish\",\"shot\",\"odd\",\"groaning\",\"attractions\",\"amazed\",\"next\",\"serenity\",\"turned\",\"clumsy\",\"calling\",\"abigail\",\"wot\",\"landscape\",\"depth\",\"unhappy\",\"million\",\"evident\",\"tail\",\"eyeing\",\"accommodation\",\"owing\",\"hospital\",\"anarchist\",\"neriah\",\"faced\",\"engagement\",\"regardeth\",\"sake\",\"eternity\",\"jehoash\",\"mad\",\"boots\",\"speech\",\"earthquake\",\"carcase\",\"brazen\",\"errors\",\"expressions\",\"disorder\",\"german\",\"crew\",\"palaces\",\"befallen\",\"source\",\"scourge\",\"winning\",\"pent\",\"bodily\",\"levites\",\"fifty\",\"chuse\",\"repaired\",\"dreamed\",\"?)\",\"garments\",\"jeopardy\",\"berkeley\",\"unrighteous\",\"butler\",\"talke\",\"flinging\",\"machinery\",\"psaltery\",\"bards\",\"kettle\",\"inclosed\",\"mournful\",\"lions\",\"machir\",\"double\",\"dairy\",\"celebrate\",\"ancient\",\"untold\",\"mob\",\"restrained\",\"entangled\",\"treason\",\"spared\",\"seeks\",\"cigarette\",\"egyptians\",\"bearer\",\"conceive\",\"start\",\"gag\",\"making\",\"service\",\"inmost\",\"imagining\",\"shechem\",\"thyself\",\"blaze\",\"cherubim\",\"noise\",\"neat\",\"ne\",\"purge\",\"prudence\",\"home\",\"slanting\",\"herod\",\"draweth\",\"heaved\",\"euen\",\"hauled\",\"likeness\",\"sanctified\",\"edomites\",\"supported\",\"labouring\",\"indulge\",\"rosin\",\"having\",\"fruit\",\"husbandmen\",\"faithfulness\",\"weapons\",\"hardy\",\"feared\",\"uncommonly\",\"lying\",\"arithmetic\",\"wonders\",\"29\",\"planks\",\"shan\",\"quayle\",\"glances\",\"?'\",\"locked\",\"dearly\",\"debir\",\"serene\",\"pooley\",\"speaking\",\"tree\",\"tropical\",\"ball\",\"folds\",\"opponent\",\"fish\",\"stirring\",\"goody\",\"animation\",\"terrified\",\"begin\",\"scarlet\",\"emperor\",\"twain\",\"so\",\"bar\",\"salutation\",\"sailor\",\"praying\",\"overlaid\",\"crowded\",\"interposed\",\"naboth\",\"disgust\",\"ranks\",\"sticks\",\"recorder\",\"ashes\",\"persecution\",\"schemes\",\"mr_gresham\",\"races\",\"possessing\",\"nethinims\",\"marry\",\"entrance\",\"food\",\"zidonians\",\"branches\",\"thump\",\"baruch\",\"save\",\"reproved\",\"pleasure\",\"earned\",\"perpetual\",\"frail\",\"oaths\",\"compliment\",\"locust\",\"hours\",\"hearken\",\"c\",\"heal\",\"hawk\",\"gravel\",\"spy\",\"martins\",\"doo\",\"religious\",\"mentioned\",\"gossip\",\"dinah\",\"congratulate\",\"wait\",\"ladder\",\"obededom\",\"woods\",\"dipped\",\"apology\",\"mind\",\"panic\",\"description\",\"details\",\"courage\",\"wedded\",\"husbands\",\"compliments\",\"professional\",\"absurd\",\"fits\",\"useless\",\"victim\",\"common\",\"pipe\",\"roads\",\"mansion\",\"regretted\",\"approbation\",\"riches\",\"hopkins\",\"coast\",\"rend\",\"posterity\",\"how\",\"sentiment\",\"foreign\",\"michael\",\"project\",\"mainmast\",\"since\",\"confinement\",\"bitterness\",\"shops\",\"seruant\",\"ashore\",\"ends\",\"improving\",\"hitherto\",\"wealth\",\"prospered\",\"people\",\"introducing\",\"name\",\"consolation\",\"cowards\",\"grows\",\"mrs_clay\",\"cask\",\"fade\",\"borders\",\"lamps\",\"lances\",\"buns\",\"suspicion\",\"snail\",\"yonder\",\"floats\",\"thanking\",\"judaea\",\"inconvenient\",\"banners\",\"disappeared\",\"landing\",\"twined\",\"drugged\",\"andrew\",\"held\",\"jethro\",\"70\",\"associates\",\"shrouded\",\"ashdod\",\"governments\",\"trance\",\"difficulty\",\"ordinance\",\"secured\",\"attacked\",\"france\",\"breathes\",\"sweepstakes\",\"circumstance\",\"importance\",\"graves\",\"sheath\",\"slew\",\"directly\",\"sad\",\"deity\",\"lasted\",\"heauen\",\"contain\",\"canal\",\"shipmate\",\"_the\",\"elinor\",\"honey\",\"selling\",\"greenland\",\"lunch\",\"trumpet\",\"cloud\",\"indolent\",\"observations\",\"jazer\",\"fancies\",\"ethiopian\",\"rush\",\"tokens\",\"chapiter\",\"dashwood\",\"shephatiah\",\"revive\",\"burnt_offering\",\"hapless\",\"recovering\",\"crime\",\"troublesome\",\"ouer\",\"carry\",\"interval\",\"goodly\",\"cordiality\",\"bull\",\"eglon\",\"linen\",\"knee\",\"dynamite\",\"also\",\"prairie\",\"bun\",\"lantern\",\"stove\",\"withdraw\",\"merge\",\"rid\",\"selves\",\"window\",\"countrymen\",\"wander\",\"battles\",\"mood\",\"openly\",\"given\",\"marrying\",\"lustrous\",\"thicker\",\"writer\",\"144\",\"boughs\",\"syme\",\"p\",\"several\",\"trade\",\"charts\",\"draws\",\"random\",\"charles\",\"falleth\",\"portia\",\"immortal\",\"distinction\",\"civilization\",\"structure\",\"gravely\",\"yielded\",\"adam\",\"zacharias\",\"abstain\",\"childhood\",\"vaguely\",\"wonderful\",\"eliab\",\"liar\",\"whirling\",\"pulling\",\"actor\",\"room\",\"raw\",\"j\",\"kinds\",\"sanguine\",\"cash\",\"brut\",\"he\",\"bewilderment\",\"jealous\",\"earnest\",\"discussion\",\"recovery\",\"together\",\"devoured\",\"ancients\",\"performance\",\"anointing\",\"dwell\",\"diuell\",\"able\",\"coat\",\"maketh\",\"amram\",\"hussey\",\"windward\",\"shields\",\"ahead\",\"doers\",\"buried\",\"determine\",\"sware\",\"extraordinary\",\"dusk\",\"mine\",\"122\",\"homes\",\"lap\",\"following\",\"houre\",\"complete\",\"falling\",\"boiled\",\"zone\",\"hears\",\"deserved\",\"starbuck\",\"oppressor\",\"chest\",\"scotland\",\"hoisting\",\"prudent\",\"convey\",\"winds\",\"own\",\"left\",\"confine\",\"damp\",\"scarcely\",\"chariots\",\"coarse\",\"mantle\",\"spaniard\",\"dissuade\",\"presents\",\"account\",\"consented\",\"few\",\"mr_knightley\",\"experience\",\"sickness\",\"perched\",\"wickedly\",\"servant\",\"examination\",\"sufficed\",\"pleasant\",\"strike\",\"dew\",\"acknowledging\",\"scenery\",\"exclamations\",\"forbear\",\"staid\",\"cheers\",\"heel\",\"clothes\",\":--\\\"\",\"stand\",\"penetrating\",\"worst\",\"humbled\",\"pitch\",\"nether\",\"too\",\"contributed\",\"shilling\",\"drunken\",\"anger\",\"neighbours\",\"street\",\"smoking\",\"jesus_christ\",\"luc\",\"afloat\",\"smelling\",\"though\",\"permanent\",\"humbly\",\"bush\",\"shift\",\"poem\",\"wipe\",\"radney\",\"detective\",\"exactly\",\"bird\",\"luck\",\"englishman\",\"taking\",\"unawares\",\"molten\",\"range\",\"convenience\",\"sadly\",\"succeeding\",\"vineyard\",\"consumption\",\"...\\\"\",\"prints\",\"towards\",\"witches\",\"escape\",\"especially\",\"106\",\"canaanites\",\"testament\",\"flashes\",\"buoyant\",\"families\",\"europe\",\"success\",\"wrinkled\",\"burnt\",\"owners\",\"dearest\",\"lived\",\"iudgement\",\"hastily\",\"characteristic\",\"black\",\"fierce\",\"subjects\",\"pork\",\"milky\",\"beseech\",\"actions\",\"other\",\"pretended\",\"huge\",\"strengthened\",\"utterly\",\"wilful\",\"basis\",\"fighting\",\"rustic\",\"mysterious\",\"exulting\",\"mankind\",\"display\",\"sage\",\"obey\",\"energetic\",\"miserable\",\"piercing\",\"follow\",\"receiue\",\"overboard\",\"descried\",\"amiable\",\"insolent\",\"flourish\",\"starting\",\"unlike\",\"devised\",\"interpreted\",\"barely\",\"enquiry\",\"85\",\"justified\",\"alarum\",\"hungry\",\"shewing\",\"selfsame\",\"bread\",\"thinkes\",\"was\",\"reminded\",\"elsa\",\"swamp\",\"shone\",\"watchman\",\"traitors\",\"intelligible\",\"engine\",\"olive\",\"compared\",\"applause\",\"yell\",\"guildensterne\",\"aaron\",\"prophets\",\"conspirators\",\"shop\",\"excel\",\"proclaim\",\"ventured\",\"ability\",\"beget\",\"heavily\",\"blazing\",\"constellations\",\"shun\",\"hearted\",\"reprove\",\"tongue\",\"arrival\",\"thousand\",\"copy\",\"sigh\",\"dread\",\"giveth\",\"lusty\",\"feares\",\"repast\",\"assyria\",\"plunge\",\"bellies\",\"resurrection\",\"interminable\",\"backe\",\"uppermost\",\"stark\",\"ethereal\",\"malcolme\",\"octa\",\"louisa\",\"meet\",\"humble\",\"rechab\",\"pink\",\"blooming\",\"come\",\"shattered\",\"gershom\",\"pepper\",\"allowing\",\"bind\",\"describe\",\"storm\",\"grasp\",\"bargain\",\"rollaround\",\"fruitful\",\"chapel\",\"odours\",\"government\",\"stedfastly\",\"streaming\",\"vintage\",\"prevail\",\"scales\",\"sobbing\",\"chick\",\"59\",\"idiot\",\"thence\",\"bildad\",\"members\",\"foresee\",\"usher\",\"perisheth\",\"case\",\"quaint\",\"wet\",\"din\",\"continuance\",\"eager\",\"banished\",\"deck\",\"examining\",\"innermost\",\"inherit\",\"cymbals\",\"pondered\",\"reckoning\",\"dripping\",\"vouchsafed\",\"strife\",\"windsor\",\"behold\",\"dies\",\"suddenly\",\"pleasures\",\"strip\",\"harm\",\"acceptance\",\"companions\",\"proof\",\"catch\",\"carpenter\",\"perish\",\"starry\",\"flying\",\"polite\",\"crash\",\"dragon\",\"nodded\",\"forgotten\",\"westward\",\"thereby\",\"mornings\",\"observed\",\"swords\",\"donwell\",\"months\",\"object\",\"parsonage\",\"learning\",\"mattaniah\",\"dagda\",\"graue\",\"rebels\",\"treading\",\"cross\",\"vs\",\"ceased\",\"lye\",\"bald\",\"effort\",\"tip\",\"brigands\",\"bath\",\"soever\",\"knew\",\"cups\",\"agency\",\"steele\",\"separated\",\"barbara\",\"flank\",\"bilhah\",\"alehouse\",\"clods\",\"daring\",\"tap\",\"yet\",\"body\",\"amusement\",\"groan\",\"keen\",\"contact\",\"contemptible\",\"taches\",\"praised\",\"prejudices\",\"means\",\"melon\",\"iniquities\",\"ash\",\"vp\",\"yea\",\"outs\",\"irons\",\"fifteen\",\"assured\",\"hangs\",\"tipped\",\"requested\",\"company\",\"peasants\",\"perth\",\"and\",\"windows\",\"golden\",\"murdered\",\"distance\",\"newest\",\"beckoned\",\"youngest\",\"inure\",\"adopt\",\"consent\",\"mercy_endureth\",\"gale\",\"buffalo\",\"impose\",\"formed\",\"uneasiness\",\"royall\",\"monday\",\"confessing\",\"weaving\",\"shoulders\",\"prosper\",\"rosetta\",\"souls\",\"reliable\",\"miss_dashwood\",\"violent\",\"cabin\",\"ate\",\"weapon\",\"pillars\",\"point\",\"vivacity\",\"discerned\",\"semi\",\"lamentation\",\"dukes\",\"steak\",\"unequal\",\"costume\",\"youths\",\"11\",\"busily\",\"hospitality\",\"briefly\",\"preferring\",\"oath\",\"games\",\"systems\",\"water\",\"were\",\"shelter\",\"unusually\",\"danger\",\"edges\",\"wreck\",\"thel\",\"purposely\",\"spite\",\"drop\",\"looke\",\"abode\",\"astonishing\",\"surname\",\"from\",\"compassed\",\"st\",\"burdens\",\"glowed\",\"beersheba\",\"frigate\",\"dale\",\"cedars\",\"brief\",\"arthur\",\"enlarge\",\"awful\",\"peered\",\"hop\",\"plane\",\"exert\",\"threats\",\"libnah\",\"**\",\"crowne\",\"109\",\"shed\",\"summons\",\"firstborn\",\"satin\",\"vse\",\"oreb\",\"few_minutes\",\"ducroix\",\"pleasing\",\"echoing\",\"jonas\",\"try\",\"brightness\",\"confidence\",\"dragons\",\"ashtaroth\",\"legend\",\"excite\",\"besides\",\"palsy\",\"increasing\",\"spell\",\"ahimelech\",\"_me_\",\"damsel\",\"glided\",\"signal\",\"interpretation\",\"abundant\",\"japheth\",\"mechanical\",\"borrowed\",\"whip\",\"sails\",\"65\",\"opposing\",\"branch\",\"infinitely\",\"bark\",\"shemaiah\",\"weakened\",\"called\",\"petition\",\"needlework\",\"evildoers\",\"objection\",\"feareth\",\"basons\",\"trodden\",\"tow\",\"took\",\"contents\",\"attracted\",\"capital\",\"danced\",\"harper\",\"haunt\",\"dotted\",\"wrote\",\"gentiles\",\"exact\",\"godliness\",\"buildings\",\"soup\",\"ascended\",\"ser\",\"band\",\"horatio\",\"owning\",\"k\",\"diligent\",\"governed\",\"remorse\",\"gathered_together\",\"74\",\"loveit\",\"burn\",\"lurks\",\"comrade\",\"officers\",\"beau\",\"loaded\",\"nebuzaradan\",\"sparkling\",\"uriah\",\"tasted\",\"warmth\",\"humorous\",\"chair\",\"causes\",\"figure\",\"aspect\",\"different\",\"festus\",\"consternation\",\"leads\",\"foule\",\"kedesh\",\"dieth\",\"spouting\",\"maimed\",\"grandmother\",\"sank\",\"perchance\",\"impudent\",\"already\",\"prairies\",\"bless\",\"england\",\"primitive\",\"interpret\",\"on\",\"heroism\",\"calculated\",\"washington\",\"asylum\",\"break\",\"amnon\",\"hin\",\"unto\",\"artist\",\"attentively\",\"submissive\",\"offences\",\"sealed\",\"hyssop\",\"uprightly\",\"mistaken\",\"flye\",\"fat\",\"all\",\"jebusite\",\"upward\",\"reverie\",\"feel\",\"bowing\",\"incurable\",\"pocket\",\"seven\",\"slippery\",\"feelings\",\"absorbed\",\"cuvier\",\"divided\",\"eighteenth\",\"burnished\",\"seeing\",\"kirjathjearim\",\"treasure\",\"lick\",\"puppy\",\"driver\",\"comprehended\",\"lengthwise\",\"retired\",\"knock\",\"real\",\"jealousy\",\"years_ago\",\"mischievous\",\"mount\",\"yelled\",\"musicke\",\"plan\",\"m\",\"roar\",\"gathereth\",\"haughty\",\"neuer\",\"mizpeh\",\"consists\",\"regard\",\"ha\",\"wider\",\"eyesight\",\"bullocks\",\"accordingly\",\"begun\",\"fallen\",\"coiled\",\"low\",\"flowed\",\"16\",\"practicable\",\"woman\",\"precisely\",\"exmoor\",\"esther\",\"madman\",\"imaginations\",\"horns\",\"2\",\"charlotte\",\"repeatedly\",\"cautious\",\"moon\",\"hither\",\"possessions\",\"craft\",\"tempest\",\"sucking\",\"ale\",\"brown\",\"whore\",\"losing\",\"52\",\"stick\",\"handsomely\",\"boyish\",\"cloven\",\"paran\",\"occurrence\",\"remarks\",\"counsel\",\"critical\",\"apprehension\",\"regardless\",\"spain\",\"ideas\",\"isaac\",\"embarrassment\",\"driving\",\"hedges\",\"tubs\",\"captain\",\"wrapped\",\"idol\",\"baskets\",\"gentleman\",\"would\",\"established\",\"eternal\",\"nebuchadnezzar\",\"groups\",\"shouted\",\"topic\",\"composedly\",\"impropriety\",\"dublin\",\"benefit\",\"lower\",\"posture\",\"tarts\",\"butter\",\"rat\",\"trousers\",\"pursued\",\"justification\",\"gipsies\",\"respectfully\",\"pervert\",\"pattern\",\"phantom\",\"abrupt\",\"log\",\"lengthened\",\"caes\",\"perch\",\"impatient\",\"gray\",\"doct\",\"clamorous\",\"ruled\",\"sperm\",\"taller\",\"deem\",\"abundantly\",\"monsters\",\"speckled\",\"oven\",\"amaziah\",\"pond\",\"barley\",\"caves\",\"likes\",\"briers\",\"vpon\",\"eat\",\"disease\",\"isolated\",\"vane\",\"fur\",\"ludgate\",\"accounted\",\"cutlass\",\"zelia\",\"abominations\",\"shelves\",\"listening\",\"joppa\",\"picture\",\"surmise\",\"lain\",\"dewy\",\"arches\",\"blowing\",\"committeth\",\"needed\",\"re\",\"drinking\",\"letter\",\"humor\",\"philosophers\",\"philistine\",\"amused\",\"7\",\"plenty\",\"scotcher\",\"wentest\",\"daily\",\"kohathites\",\"findeth\",\"goodnight\",\"thane\",\"obvious\",\"appoint\",\"sanity\",\"recollecting\",\"abiding\",\"keepeth\",\"beards\",\"yawning\",\"ending\",\"childless\",\"fancied\",\"parsee\",\"stomach\",\"events\",\"escaped\",\"connected\",\"healing\",\"merit\",\"jezebel\",\"possesses\",\"ten_thousand\",\"bud\",\"whom\",\"lone\",\"charged\",\"deals\",\"deliberately\",\"believe\",\"perverseness\",\"quality\",\"tending\",\"slight\",\"firmness\",\"pumps\",\"claude\",\"23\",\"twisted\",\"united\",\"concluded\",\"christopher\",\"accident\",\"possible\",\"cant\",\"patty\",\"decline\",\"impatiently\",\"engagements\",\"suffered\",\"explanations\",\"micaiah\",\"chaff\",\"suspecting\",\"soul\",\"intimacy\",\"dr_bull\",\"distracted\",\"touch\",\"exeter\",\"cows\",\"frown\",\"swarms\",\"nostrils\",\"hollow\",\"pencil\",\"staff\",\"cannon\",\"design\",\"hanani\",\"disdain\",\"oarsmen\",\"favoured\",\"ministers\",\"newington\",\"shewbread\",\"montague\",\"suited\",\"laying\",\"supper\",\"goddess\",\"sentences\",\"lordship\",\"entreaty\",\"six\",\"curtains\",\"examined\",\"nobles\",\"enjoying\",\"villains\",\"quivering\",\"amariah\",\"completely\",\"familiar\",\"exciting\",\"shine\",\"behaved\",\"cars\",\"issachar\",\"pressure\",\"waved\",\"reluctance\",\"polonius\",\"give\",\"gehazi\",\"walketh\",\"stately\",\"ingenious\",\"looking\",\"nancy\",\"father_brown\",\"extending\",\"67\",\"lips\",\"assembly\",\";--\",\"ripe\",\"rouse\",\"pot\",\"strong\",\"while\",\"rehoboam\",\"burial\",\"altered\",\"boundless\",\"generous\",\"complacency\",\"talb\",\"difference\",\"lament\",\"big\",\"masses\",\"physical\",\"internal\",\"deceit\",\"pudding\",\"easiest\",\"valley\",\"edged\",\"obeying\",\"around\",\"seventeenth\",\"supplication\",\"glared\",\"jezreel\",\"volume\",\"intreat\",\"results\",\"short\",\"lamech\",\"ner\",\"wig\",\"keys\",\"dream\",\"could\",\"extreme\",\"blessing\",\"swallow\",\"scruples\",\"seeds\",\"throes\",\"--\",\"imputed\",\"ii\",\"withdrawn\",\"circling\",\"toucheth\",\"moreover\",\"instinctively\",\"faded\",\"waiting\",\"manners\",\"groweth\",\"withdrawing\",\"connexions\",\"worlds\",\"open\",\"lid\",\"--'\",\"whips\",\"deeper\",\"shuffling\",\"fury\",\"sovran\",\"closed\",\"us\",\"onyx\",\"corner\",\"ministered\",\"influenced\",\"companion\",\"unicorn\",\"terah\",\"reproached\",\"dash\",\"married\",\"tamar\",\"cattle\",\"scornfully\",\"closing\",\"medes\",\"nephew\",\"deserves\",\"enoch\",\"smiteth\",\"guarded\",\"octauius\",\"swing\",\"plenteous\",\"adorned\",\"endless\",\"associations\",\"captive\",\"vine\",\"murmurings\",\"cheated\",\"meekness\",\"procuring\",\"sped\",\"trunk\",\"wishing\",\"badgers\",\"animal\",\"lyme\",\"gibeah\",\"elephant\",\"deserve\",\"heaven\",\"intreated\",\"wear\",\"naaman\",\"primal\",\"lifted\",\"misty\",\"free\",\"flakes\",\"aright\",\"tarry\",\"tendency\",\"libertad\",\"sex\",\"catching\",\"arrange\",\"resolution\",\"women\",\"raise\",\"chip\",\"treadeth\",\"remnant\",\"future\",\"corpse\",\"foretold\",\"william\",\"mamre\",\"keeper\",\"proceeding\",\"defended\",\"reasonable\",\"change\",\"thrust\",\"rulers\",\"peers\",\"thinking\",\"lustre\",\"liberty\",\"grounds\",\"ll\",\"obed\",\"traditions\",\"heardest\",\"despite\",\"windlass\",\"same\",\"evidently\",\"spices\",\"committed\",\"moonlight\",\"sleeper\",\"touches\",\"emblem\",\"gunwale\",\"tablets\",\"wherever\",\"freed\",\"barrel\",\"demanded\",\"ratcliffe\",\"audience\",\"retire\",\"pearls\",\"hannah\",\"scall\",\"materially\",\"elam\",\"asia\",\"hedge\",\"expense\",\"connection\",\"braue\",\"conveyed\",\"attaching\",\"youthful\",\"levelled\",\"enquired\",\"faith\",\"catholic\",\"the\",\"working\",\"shout\",\"press\",\"fulness\",\"act\",\"displeased\",\"sought\",\"simon\",\"89\",\"socket\",\"significant\",\"revolver\",\"larkins\",\"girdle\",\"election\",\"justly\",\"yawned\",\"calf\",\"appropriate\",\"single\",\"triumphantly\",\"robe\",\"precision\",\"morn\",\"accepted\",\"unnamed\",\"striding\",\"maine\",\"lurking\",\"strangers\",\"islands\",\"themes\",\"hare\",\"pinch\",\"greatly\",\"hay\",\"levite\",\"stirred\",\"suits\",\"hasted\",\"wave\",\"spit\",\"civilized\",\"barton\",\"bunger\",\"lashed\",\"weepe\",\"quite\",\"intercourse\",\"instantly\",\"adventures\",\"jacket\",\"morning\",\"sheba\",\"started\",\"sweep\",\"arctic\",\"warm\",\"beor\",\"toy\",\"spaces\",\"bathsheba\",\"guilt\",\"musket\",\"ugly\",\"brimstone\",\"murder\",\"flowers\",\"rate\",\"contended\",\"theories\",\"53\",\"heartily\",\"distinct\",\"beriah\",\"phinehas\",\"chief_priests\",\"contradiction\",\"inwards\",\"livid\",\"debt\",\"tun\",\"hinder\",\"quiver\",\"orchard\",\"worke\",\"teachers\",\"slayer\",\"lover\",\"answered\",\"discipline\",\"orb\",\"japanese\",\"deficiency\",\"bottom\",\"supposed\",\"whelps\",\"magna\",\"contend\",\"irregular\",\"suitable\",\"defiled\",\"anoint\",\"venison\",\"bending\",\"calamity\",\"upright\",\"feeds\",\"bony\",\"bracelets\",\"leeward\",\"amuse\",\"whoring\",\"lima\",\"oar\",\"curiously\",\"visage\",\"persia\",\"rocking\",\"occasionally\",\"moved\",\"mixed\",\"greefe\",\"newspaper\",\"quenched\",\"comparative\",\"recompence\",\"sinister\",\"azariah\",\"illness\",\"rejoice\",\"forgetting\",\"vibrating\",\"columbia\",\"hadst\",\"cushi\",\"98\",\"leviathan\",\"fifteenth\",\"spreadeth\",\"supplications\",\"babies\",\"troops\",\"generation\",\"buds\",\"curses\",\"sufficient\",\"candlesticks\",\"situations\",\"ambition\",\"most\",\"coral\",\"stiff\",\"recommendation\",\"peering\",\"snares\",\"collect\",\"mist\",\"fool\",\"stayed\",\"clapping\",\"sheet\",\"essence\",\"kick\",\"demands\",\"overwhelmed\",\"one\",\"bela\",\"everyone\",\"honor\",\"multitude\",\"lodging\",\"horsemen\",\"clung\",\"groping\",\"claimed\",\"confession\",\"successive\",\"fourteen\",\"singular\",\"rubbish\",\"estimate\",\"involuntarily\",\"wit\",\"jericho\",\"winged\",\"rage\",\"excuse\",\"freewill\",\"uncircumcised\",\"drops\",\"as\",\"fraud\",\"warp\",\"struggling\",\"dixon\",\"weaned\",\"perceive\",\"truly\",\"tribes\",\"bosom\",\"strictly\",\"jephunneh\",\"died\",\"whispers\",\"suspense\",\"arguments\",\"camps\",\"shared\",\"negro\",\"voyages\",\"laughter\",\"godmother\",\"conduit\",\"infallibly\",\"strode\",\"vale\",\"miss_somers\",\"drest\",\"dreaming\",\"scorner\",\"stood\",\"soil\",\"broad\",\"dispose\",\"sturdy\",\"sensibility\",\"tell\",\"promote\",\"jedaiah\",\"blush\",\"thirsty\",\"improvement\",\"extremely\",\"insensible\",\"cassius\",\"edge\",\"solicitude\",\"berries\",\"sure\",\"astonished\",\"sockets\",\"rights\",\"consort\",\"eternally\",\"trees\",\"courier\",\"afflicted\",\"hoarse\",\"thank\",\"austere\",\"crow\",\"cumberland\",\"helmsman\",\"lawful\",\"wildly\",\"situation\",\"bushes\",\"understood\",\"citizens\",\"worship\",\"76\",\"enterprize\",\"hoofs\",\"momentary\",\"dagger\",\"spades\",\"courts\",\"bearded\",\"snapped\",\"travels\",\"speaketh\",\"gloomy\",\"halt\",\"blasphemed\",\"produce\",\"waits\",\"haply\",\"feasts\",\"inexplicable\",\"anywhere\",\"family\",\"fiercely\",\"ominous\",\"syllable\",\"durand\",\"arrangements\",\"toiled\",\"benwick\",\"loathsome\",\"literary\",\"plead\",\"fig\",\"41\",\"blasphemy\",\"edmund\",\"elihu\",\"needless\",\"persuaded\",\"genuine\",\"whereupon\",\"lightnings\",\"71\",\"conference\",\"descend\",\"nephews\",\"baronet\",\"spontaneous\",\"liars\",\"downright\",\"ironical\",\"anathoth\",\"vicinity\",\"season\",\"perpetually\",\"censure\",\"doesn_t\",\"regards\",\"intends\",\"piece\",\"hinges\",\"pacing\",\"solemnity\",\"likened\",\"marking\",\"seeming\",\"macd\",\"bounds\",\"faintly\",\"hosts\",\"withstand\",\"lighten\",\"distant\",\"gaza\",\"sarah\",\"cigar\",\"whalers\",\"universally\",\"rigging\",\"heth\",\"nineteen\",\"----\\\"\",\"yearning\",\"countenance\",\"eventually\",\"i\",\"strawberries\",\"handful\",\"purposes\",\"bed\",\"rome\",\"wakes\",\"seem\",\"paint\",\"concerning\",\"echo\",\"attach\",\"rejoined\",\"asked\",\"singer\",\"ben\",\"slave\",\"peter\",\"ladies\",\"toward\",\"labor\",\"liable\",\"knoweth\",\"148\",\"elkanah\",\"rods\",\"sendeth\",\"indifferent\",\"consider\",\"springs\",\"bitter\",\"dagon\",\"worketh\",\"wheel\",\"fearing\",\"packed\",\"lofty\",\"meshullam\",\"style\",\"dish\",\"smoke\",\"going\",\"winter\",\"procured\",\"clerk\",\"twilight\",\"maid\",\"appear\",\"sat\",\"stem\",\"fog\",\"fulfilled\",\"naturally\",\"accord\",\"martha\",\"magicians\",\"correct\",\"atmosphere\",\"encamped\",\"hell\",\"rake\",\"appeal\",\"minds\",\"infernal\",\"reuben\",\"pilate\",\"readiness\",\"secure\",\"legged\",\"this\",\"distribute\",\"spirit\",\"miss_fairfax\",\"heights\",\"hips\",\"commanding\",\"stripped\",\"strangled\",\"restrain\",\"confidential\",\"impenetrable\",\"weary\",\"disturbed\",\"scribe\",\"unnatural\",\"nine\",\"indescribable\",\"horrors\",\"exploring\",\"valour\",\"waiter\",\"teares\",\"perdition\",\"diet\",\"9\",\"disengaged\",\"thing\",\"numbered\",\"leap\",\"brutish\",\"caesar\",\"city\",\"slaves\",\"morton\",\"outline\",\"scarce\",\"mule\",\"priest\",\"95\",\"asunder\",\"for\",\"inferior\",\"slightest\",\"shamed\",\"effects\",\"lovely\",\"grassy\",\"space\",\"sunshine\",\"cod\",\"indignantly\",\"adoration\",\"applied\",\"pope\",\"forced\",\"rolling\",\"captain_wentworth\",\"at\",\"bristol\",\"mat\",\"eliel\",\"eber\",\"experienced\",\"non\",\"pluck\",\"silence\",\"lady_russell\",\"intellectual\",\"coldness\",\"carnal\",\"bright\",\"bidden\",\"meditations\",\"--(\",\"leans\",\"unborn\",\"ammonite\",\"porpoise\",\"aspiring\",\"blunt\",\"mrs_goddard\",\"wheeler\",\"warlike\",\"southern\",\"verie\",\"peradventure\",\"forefront\",\"ebb\",\"science\",\"desperate\",\"hairy\",\"drives\",\"policemen\",\"such\",\"grant\",\"pardon\",\"average\",\"hebrews\",\"royal\",\"battersby\",\"lacked\",\"tar\",\"poetical\",\"berechiah\",\"nursing\",\"suck\",\"melancholy\",\"twinkle\",\"barring\",\"enter\",\"alter\",\"nethaniah\",\"prince\",\"winding\",\"uncle\",\"haven\",\"sneezes\",\"multiplied\",\"gaue\",\"ain\",\"knowest\",\"coachman\",\"finished\",\"rested\",\"enable\",\"marianne\",\"retained\",\"zobah\",\"temper\",\"lives\",\"hold\",\"draught\",\"clay\",\"needs\",\"nerves\",\"cause\",\"\\\"--\",\"lungs\",\"declined\",\"april\",\"pursuing\",\"pained\",\"degrees\",\"framed\",\"circles\",\"magnetic\",\"serpents\",\"motives\",\"vocation\",\"rousing\",\"passions\",\"priests\",\"commotion\",\"threescore\",\"safety\",\"speed\",\"invited\",\"116\",\"esaias\",\"woof\",\"circle\",\"tophet\",\"boy\",\"magic\",\"exultation\",\"planting\",\"am\",\"stubb\",\"delivereth\",\"concealed\",\"seated\",\"mouse\",\"explained\",\"lessened\",\"commended\",\"sinneth\",\"warmly\",\"emphasis\",\"speechless\",\"performing\",\"help\",\"savour\",\"ribbons\",\"airy\",\"afford\",\"bulwarks\",\"rooted\",\"supposing\",\"owner\",\"cray\",\"reigneth\",\"attendance\",\"spine\",\"laborers\",\"ehud\",\"screamed\",\"inserted\",\"groves\",\"mama\",\"deception\",\"solicitous\",\"revealed\",\"spacious\",\"canaan\",\"liberality\",\"progeny\",\"mississippi\",\"hunter\",\"introduced\",\"14\",\"beach\",\"shines\",\"principally\",\"narrow\",\"became\",\"villages\",\"mans\",\"disposed\",\"subdued\",\":)\",\"lake\",\"stain\",\"complain\",\"stedfast\",\"bad\",\"nature\",\"drown\",\"oceans\",\"mate\",\"turf\",\"claims\",\"magnified\",\"rocky\",\"ghost\",\"lily\",\"flocks\",\"finish\",\"does\",\"patch\",\"originally\",\"anyhow\",\"vanish\",\"accidents\",\"freely\",\"poisoned\",\"reply\",\"140\",\"increase\",\"began\",\"eligible\",\"retreat\",\"delivered\",\"evolution\",\"withheld\",\"tend\",\"zechariah\",\"swarming\",\"turne\",\"naturalists\",\"caesars\",\"constitution\",\"whosoever\",\"high\",\"didst\",\"differ\",\"rounded\",\"size\",\"picturesque\",\"claws\",\"poured\",\"sternly\",\"rezin\",\"shower\",\"humane\",\"suffice\",\"agitation\",\"involved\",\"outside\",\"heifer\",\"oversight\",\"soweth\",\"wheresoever\",\"breaths\",\"equator\",\"jeiel\",\"squire\",\"weake\",\"candles\",\"inasmuch\",\"reaping\",\"fitting\",\"glorified\",\"pastures\",\"peep\",\"combined\",\"answering\",\"breed\",\"decide\",\"impressed\",\"declare\",\"cling\",\"';\",\"citizen\",\"shiloh\",\"hum\",\"clearer\",\"climbed\",\",--\",\"agree\",\"incomprehensible\",\"peace\",\"forts\",\"personally\",\"feathers\",\"eve\",\"sucklings\",\"allusion\",\"pipes\",\"servile\",\"miracle\",\"heare\",\"unconsciously\",\"welfare\",\"duly\",\"balm\",\"letting\",\"lion\",\"wrinkles\",\"raging\",\"rib\",\"synagogues\",\"palace\",\"nonsense\",\"intelligence\",\"bondmen\",\"pack\",\"shapeless\",\"plague\",\"avail\",\"toes\",\"doubtfully\",\"rot\",\"madnesse\",\"doubted\",\"consequent\",\"victoria\",\"brian\",\"thrice\",\"often\",\"teeming\",\"blood\",\"takes\",\"doer\",\"violently\",\"94\",\"narrative\",\"messa\",\"boasting\",\"allons\",\"constantly\",\"derive\",\"twist\",\"sweeping\",\"commander\",\"refused\",\"hind\",\"homage\",\"horseback\",\"covetous\",\"lovest\",\"evermore\",\"mrs_musgrove\",\"behalf\",\"broadway\",\"crawl\",\"hadarezer\",\"steep\",\"graven\",\"harpers\",\"curly\",\"pains\",\"estimation\",\"office\",\"prophesy\",\"terms\",\"ones\",\"foam\",\"flash\",\"driven\",\"somerville\",\"solace\",\"mirror\",\"disputing\",\"allenham\",\"oppressors\",\"prove\",\"inevitably\",\"chowder\",\"ineffable\",\"descent\",\"general\",\"handed\",\"become\",\"miriam\",\"writes\",\"lose\",\"world\",\"darius\",\"purged\",\"hood\",\"lyes\",\"dan\",\"tracks\",\"formal\",\"therewith\",\"infidel\",\"frost\",\"indignation\",\"friends\",\"freshness\",\"abner\",\"extravagance\",\"spinning\",\"do\",\"threshold\",\"harsh\",\"sentry\",\"workers\",\"tribulation\",\"harley\",\"sighted\",\"arabia\",\"accounts\",\"otto\",\"tabernacle\",\"cruise\",\"dominion\",\"resuming\",\"bonnet\",\"gradually\",\"speedy\",\"week\",\"imaginary\",\"condemned\",\"unfolded\",\"hoe\",\"sergeant\",\"widely\",\"fond\",\"calmer\",\"puts\",\"saying\",\"twice\",\"trial\",\"abel\",\"shudder\",\"spake\",\"stumblingblock\",\"backs\",\"masculine\",\"grandeur\",\"establish\",\"belong\",\"spending\",\"raptures\",\"besought\",\"straitly\",\"obedient\",\"highest\",\"assist\",\"cheese\",\"sailing\",\"statement\",\"chanced\",\"according\",\"shaggy\",\"fun\",\"mists\",\"thus_saith\",\"elastic\",\"tonight\",\"jephthah\",\"colossal\",\"cage\",\"retain\",\"polar\",\"hideth\",\"newly\",\"naked\",\"hair\",\"radiant\",\"heap\",\"vital\",\"examples\",\"ornaments\",\"frighten\",\"overcome\",\"appeareth\",\"dung\",\"heere\",\"agreeable\",\"ornament\",\"buy\",\"noises\",\"humoured\",\"desolate\",\"tooke\",\"overhead\",\"powerful\",\"asaph\",\"discovery\",\"conceived\",\"my\",\"tall\",\"jester\",\"kareah\",\"uncleanness\",\"remain\",\"corners\",\"abominable\",\"willing\",\"thickly\",\"beholding\",\"trod\",\"span\",\"subject\",\"knowing\",\"folded\",\"fossils\",\"here\",\"unkind\",\"parched\",\"knop\",\"capable\",\"fulfil\",\"yarn\",\"beams\",\"swift\",\"distresses\",\"write\",\"decided\",\"poore\",\"tyrus\",\"advances\",\"wert\",\"brahmin\",\"--\\\"\",\"last\",\"more\",\"british\",\"forasmuch\",\"librarian\",\"formless\",\"lessons\",\"meal\",\"whaler\",\"atheist\",\"passing\",\"speculation\",\"assume\",\"signs\",\"merchant\",\"mourn\",\"reynol\",\"breaks\",\"nethaneel\",\"chat\",\"jew\",\"intelligent\",\"spectators\",\"attends\",\"mr_elton\",\"end\",\"delight\",\"course\",\"fling\",\"twentieth\",\"slaughter\",\"conscientious\",\"79\",\"whatsoever\",\"onward\",\"produced\",\",--\\\"\",\"stated\",\"field\",\"hard\",\"aroer\",\"acceptable\",\"injured\",\"clave\",\"pence\",\"tribe\",\"haul\",\"betray\",\"sleep\",\"rail\",\"benevolence\",\"speeding\",\"seraiah\",\"confounded\",\"everywhere\",\"scripture\",\"fellows\",\"rattle\",\"confound\",\"woke\",\"everlasting\",\"iniquity\",\"freeze\",\"drawing_room\",\"hewn\",\"placidly\",\"boys\",\"accomplish\",\"withhold\",\"immer\",\"unspeakable\",\"brisk\",\"card\",\"trebonius\",\"ears\",\"midian\",\"scrupulous\",\"deliverer\",\"stories\",\"bloom\",\"revolution\",\"farms\",\"tyranny\",\"leaves\",\"passionate\",\"joined\",\"bearing\",\"tiger\",\"cloak\",\"begge\",\"backward\",\"goshen\",\"residence\",\"bag\",\"linked\",\"cafe\",\"rough\",\"admiring\",\"duchess\",\"national\",\"lave\",\"anything\",\"kings\",\"explain\",\"assembled\",\"sorry\",\"plum\",\"danish\",\"villa\",\"angels\",\"afterward\",\"murmured\",\"romance\",\"partner\",\"described\",\"slide\",\"mildness\",\"over\",\"27\",\"heaped\",\"prick\",\"widow\",\"towers\",\"packing\",\"jem\",\"churches\",\"myriads\",\"uncertain\",\"madness\",\"ark\",\"print\",\"abandoned\",\"withholden\",\"hearty\",\"separate\",\"domestic\",\"obtain\",\"euphrates\",\"por\",\"jordan\",\"globe\",\"grave\",\"kiss\",\"vashti\",\"saddle\",\"cleveland\",\"waxed\",\"thine\",\"where\",\"navy\",\"males\",\"flight\",\"form\",\"58\",\"unclean\",\"kneeling\",\"tiresome\",\"unfortunate\",\"guessed\",\"trusted\",\"influence\",\"swiftly\",\"sideways\",\"scissors\",\"friendly\",\"unconscious\",\"footsteps\",\"kinsman\",\"flood\",\"offereth\",\"rosamond\",\"limbs\",\"mutton\",\"ferrars\",\"yes\",\"?\\\"\",\"civilly\",\"texas\",\"quiet\",\"spade\",\"leviathans\",\"virtuous\",\"read\",\"forthwith\",\"health\",\"complaisance\",\"chinese\",\"belt\",\"brooding\",\"delighted\",\"destroyed\",\"affliction\",\"surprized\",\"hebrew\",\"scolded\",\"phoo\",\"betraying\",\"reverend\",\"conspiracy\",\"blindness\",\"coles\",\"unjust\",\"thereof\",\"posts\",\"strengthen\",\"cured\",\"slipped\",\"behave\",\"permission\",\"angelick\",\"schoolmaster\",\"sea\",\"doth\",\"expenses\",\"christmas\",\"steer\",\"created\",\"swayed\",\"ambergris\",\"substance\",\"advantage\",\"hero\",\"screen\",\"brutal\",\"founded\",\"forest\",\"pollute\",\"afar\",\"sadducees\",\"dome\",\"countless\",\"cure\",\"elah\",\"73\",\"brawny\",\"censer\",\"magistrates\",\"dealing\",\"mass\",\"spoon\",\"paid\",\"eminent\",\"steam\",\"alteration\",\"editor\",\"objects\",\"forbearance\",\"varying\",\"cass\",\"virgins\",\"hangings\",\"knave\",\"hatred\",\"ranging\",\"tales\",\"foreseen\",\"won\",\"knocking\",\"caw\",\"successfully\",\"dews\",\"bab\",\"woe\",\"tame\",\"effectually\",\"feare\",\"sides\",\"chatterer\",\"north\",\"colourless\",\"earthly\",\"ascend\",\"voice\",\"highth\",\"grinning\",\"publish\",\"blaspheme\",\"drunkards\",\"fading\",\"affectionate\",\"cheerful\",\"person\",\"earrings\",\"named\",\"leaden\",\"rather\",\"brood\",\"broth\",\"_his_\",\"pierce\",\"standeth\",\"screaming\",\"shipping\",\"geba\",\"spoils\",\"smallridge\",\"charm\",\"odor\",\"herein\",\"tug\",\"tightly\",\"tongs\",\"sir_arthur\",\"d\",\"rotten\",\"russian\",\"gathered\",\"live\",\"third\",\"threat\",\"spots\",\"rushing\",\"presumption\",\"shades\",\"withstood\",\"liue\",\"movement\",\"leagues\",\"reluctant\",\"rifles\",\"watery\",\"cuts\",\"stare\",\"curious\",\"washing\",\"breezes\",\"mines\",\"woollen\",\"money\",\"wiser\",\"parlour\",\"six_hundred\",\"infirmities\",\"pious\",\"temperance\",\"durst\",\"history\",\"wishes\",\"seyward\",\"adversary\",\"signor\",\"school\",\"mimic\",\"zebulun\",\"teach\",\"jump\",\"sayings\",\"thrusting\",\"ziklag\",\"touching\",\"surprised\",\"lanterns\",\"meditate\",\"placed\",\"rushed\",\"confirmation\",\"ekron\",\"blest\",\"progress\",\"lays\",\"meats\",\"saturday\",\"array\",\"wanting\",\"ziba\",\"covert\",\"brooks\",\"ragged\",\"serpent\",\"ephron\",\"lucky\",\"violet\",\"commandment\",\"little\",\"befell\",\"flukes\",\"comfortably\",\"pays\",\"repose\",\"motto\",\"preparation\",\"unleavened\",\"behaviour\",\"indifference\",\"brains\",\"leather\",\"uncircumcision\",\"distinguishing\",\"winde\",\"mink\",\"exertion\",\"agent\",\"under\",\"irrational\",\"whales\",\"begotten\",\"pieces\",\"nazareth\",\"pertained\",\"regularly\",\"sing\",\"plains\",\"manned\",\"principle\",\"roots\",\"fins\",\"entertained\",\"deepe\",\"types\",\"sojourn\",\"rout\",\"intentions\",\"beef\",\"sand\",\"baptized\",\"holidays\",\"eden\",\"impression\",\"lady\",\"del\",\"conditions\",\"cook\",\"scratch\",\"commit\",\"longed\",\"principal\",\"wish\",\"delicate\",\"caroline\",\"louder\",\"armagnac\",\"glad\",\"mostly\",\"62\",\"edom\",\"blanket\",\"stones\",\"hazor\",\"error\",\"reeds\",\"combe\",\"defied\",\"lettuce\",\"plunging\",\"sling\",\"gulf\",\"sabbath\",\"wanted\",\"kadesh\",\"yojo\",\"shadows\",\"takest\",\"longer\",\"punish\",\"laid\",\"clinging\",\"knowne\",\"missing\",\"hinnom\",\"longsuffering\",\"probable\",\"summer\",\"harry\",\"habitations\",\"distrust\",\"blessings\",\"absolutely\",\"facing\",\"scornful\",\"homer\",\"forbid\",\"whereas\",\"rapidly\",\"disagreeable\",\"inch\",\"bound\",\"castle\",\"alarm\",\"verses\",\"luckily\",\"libraries\",\"purport\",\"kidron\",\"hysterics\",\"streams\",\"proceed\",\"135\",\"asahel\",\"rehob\",\"zadok\",\"polluted\",\"wouldest\",\"movements\",\"attend\",\"sleeping\",\"rendered\",\"sleepy\",\"inclination\",\"sovereign\",\"eloquent\",\"stared\",\"alert\",\"thorn\",\"cannot\",\"considerations\",\"discouraged\",\"desk\",\"discharged\",\"exeunt\",\"debris\",\"possessed\",\"thoughtfully\",\"meat_offering\",\"harlots\",\"fanshaw\",\"villain\",\"stop\",\"mutiny\",\"diana\",\"merciful\",\"wiping\",\"flashed\",\"swells\",\"trusteth\",\"hush\",\"meanest\",\"wife\",\"judicious\",\"plums\",\"offence\",\"whaling\",\"waste\",\"salad\",\"tremble\",\"steady\",\"fruits\",\"swings\",\"raiment\",\"depends\",\"split\",\"laban\",\"market\",\"feast\",\"clime\",\"sayest\",\"entitled\",\"proposal\",\"proposed\",\"menservants\",\"establishment\",\"cap\",\"known\",\"disgrace\",\"pasture\",\"muffled\",\"offer\",\"year\",\"equality\",\"tent\",\"convict\",\"118\",\"mindful\",\"gotten\",\"forth\",\"manifold\",\"depart\",\"latitude\",\"trailing\",\"flaw\",\"fashion\",\"simplicity\",\"oakly\",\"excellency\",\"merrily\",\"maple\",\"roadside\",\"forsake\",\"map\",\"specimen\",\"deeps\",\"figures\",\"stumbled\",\"rattling\",\"glorify\",\"valued\",\"charitable\",\"element\",\"comest\",\"color\",\"coward\",\"shem\",\"lingered\",\"anointed\",\"realities\",\"nash\",\"falls\",\"fairest\",\"addition\",\"chiefly\",\"kellynch\",\"overcometh\",\"sinai\",\"bills\",\"limitless\",\"sensible\",\"42\",\"thigh\",\"european\",\"incense\",\"believes\",\"tread\",\"casks\",\"belief\",\"fuss\",\"strict\",\"greeks\",\"fortunately\",\"concealing\",\"offended\",\"vomit\",\"restored\",\"tossing\",\"genealogy\",\"couldn_t\",\"vanished\",\"engrossed\",\"fitful\",\"seek\",\"heads\",\"worshipping\",\"door\",\"cheerfully\",\"fierceness\",\"wall\",\"full\",\"blinding\",\"beast\",\"tempt\",\"accustomed\",\"sanctuary\",\"endeavouring\",\"uzziah\",\"maiesty\",\"trust\",\"happily\",\"donkey\",\"maiden\",\"cabman\",\"dressed\",\"strange\",\"rams\",\"artificial\",\"swinging\",\"sheweth\",\"jotham\",\"peaceably\",\"enchantments\",\"diseased\",\"josiah\",\"strathspey\",\"deserted\",\"song\",\"shelemiah\",\"application\",\"relative\",\"derision\",\"haired\",\"fully\",\"straits\",\"sanctify\",\"haunted\",\"tools\",\"instead\",\"portion\",\"wasting\",\"betwixt\",\"correspondence\",\"reasons\",\"again\",\"seer\",\"fashionable\",\"etc\",\"warned\",\"chimney\",\"weeks\",\"deaths\",\"apart\",\"gown\",\"conceal\",\"tempting\",\"square\",\"affections\",\"drunkard\",\"smiling\",\"disaster\",\"deed\",\"complaints\",\"whisper\",\"observation\",\"dance\",\"noted\",\"procure\",\"grope\",\"r\",\"parliament\",\"keepe\",\"devilish\",\"paris\",\"blacky\",\"publicans\",\"uses\",\"declared\",\"apostles\",\"any\",\"dances\",\"nations\",\"churchill\",\"slip\",\"crabs\",\"lifeless\",\"heman\",\"valleys\",\"galilee\",\"bullock\",\"regular\",\"owl\",\"probably\",\"proves\",\"sunken\",\"urgent\",\"proceeded\",\"l\",\"who\",\"absolute\",\"intervals\",\"chances\",\"tremendous\",\"apothecary\",\"disappointment\",\"opera\",\"felt\",\"poems\",\"cas\",\"horn\",\"glanced\",\"sighs\",\"preferred\",\"questioning\",\"stoned\",\"mourning\",\"incapable\",\"tilted\",\"unmistakable\",\"throng\",\"speake\",\"sackcloth\",\"sammy\",\"straitened\",\"supreme\",\"treasures\",\"idols\",\"8\",\"manoah\",\"unaffected\",\"frequently\",\"pianoforte\",\"paved\",\"overflow\",\"greatness\",\"marke\",\"dirty\",\"pirates\",\"sower\",\"intended\",\"stuff\",\"painter\",\"guernsey\",\"purify\",\"probability\",\"proper\",\"countenances\",\"continuous\",\"difficulties\",\"showing\",\"ardour\",\"passages\",\"pray\",\"less\",\"swear\",\"goest\",\"invent\",\"morrow\",\"abyss\",\"paced\",\"maybe\",\"mariner\",\"destroyer\",\"ryan\",\"years\",\"pre\",\"peaceful\",\"glasses\",\"hate\",\"shadrach\",\"visibly\",\"definition\",\"beer\",\"coach\",\"required\",\"gadites\",\"south\",\"masse\",\"gleamed\",\"gratitude\",\"shaken\",\"laer\",\"!)\",\"mast_heads\",\"howled\",\"say\",\"void\",\"meat\",\"cedar\",\"musical\",\"resina\",\"cliffs\",\"scriptures\",\"esteem\",\"seen\",\"watch\",\"instantaneous\",\"anxiety\",\"thereon\",\"preparing\",\"heaviness\",\"with\",\"property\",\"balances\",\"exhort\",\"busy\",\"86\",\"haze\",\"disinterested\",\"changes\",\"rightly\",\"breasts\",\"amazing\",\"children\",\"terribly\",\"blast\",\"kin\",\"slightly\",\"antique\",\"previous\",\"righteousness\",\"resolved\",\"paumanok\",\"throughout\",\"whole\",\"entreaties\",\"saints\",\"central\",\"pouring\",\"emerge\",\"towns\",\"exception\",\"treasury\",\"abroad\",\"desiring\",\"coffins\",\"test\",\"spasm\",\"unfortunately\",\"traveller\",\"becoming\",\"factories\",\"nobody\",\"admiral\",\"speeches\",\"honour\",\"expedition\",\"beheaded\",\"devoted\",\"solemn\",\"eaten\",\"wood\",\"sickly\",\"mistakes\",\"running\",\"power\",\"calphurnia\",\"mend\",\"commonly\",\"frowning\",\"simultaneously\",\"orange\",\"mixture\",\"slime\",\"length\",\"entertaining\",\"claim\",\"composure\",\"processions\",\"desart\",\"lobster\",\"individuals\",\"acorn\",\"bert\",\"o\",\"anarchists\",\"ungracious\",\"bertha\",\"producing\",\"coal\",\"cakes\",\"rang\",\"deadly\",\"warriors\",\"brethren\",\"13\",\"keepes\",\"worked\",\"sound\",\"delusion\",\"artistic\",\"thoughts\",\"echoed\",\"wicked\",\"armies\",\"green_forest\",\"dunstable\",\"civilities\",\"religions\",\"dislike\",\"malice\",\"pitcher\",\"dismissed\",\"shallum\",\"avoiding\",\"despised\",\"exerted\",\"bethany\",\"backed\",\"worse\",\"fortunate\",\"forme\",\"slender\",\"brick\",\"propriety\",\"isles\",\"relate\",\"occur\",\"timely\",\"wounds\",\"gun\",\"waiteth\",\"uncomfortable\",\"berth\",\"rests\",\"skins\",\"fuel\",\"management\",\"a\",\"sacred\",\"traitor\",\"madeleine\",\"arose\",\"doing\",\"tradition\",\"deliver\",\"answereth\",\"elbow\",\"convincing\",\"gerar\",\"understands\",\"submitted\",\"gazed\",\"enjoy\",\"stung\",\"neighbouring\",\"tarried\",\"forcibly\",\"fall\",\"brooklyn\",\"war\",\"130\",\"gospel\",\"relieve\",\"lambs\",\"friendship\",\"requires\",\"delayed\",\"collar\",\"returne\",\"dears\",\"arranged\",\"waving\",\"145\",\"doubled\",\"discretion\",\".\\\"\",\"frantic\",\"ladyship\",\"leaue\",\"yards\",\"eccentric\",\"deserts\",\"gather\",\"assemble\",\"exists\",\"trains\",\"genteel\",\"eleazar\",\"indisposition\",\"hostile\",\"procession\",\"micah\",\"goat\",\"gliding\",\"tumbled\",\"poz\",\"handwriting\",\"knows\",\"aloud\",\"restraint\",\"sentence\",\"matches\",\"tricks\",\"sum\",\"magdalene\",\"discomfited\",\"hurled\",\"altars\",\"lately\",\"spoiled\",\"fastidious\",\"river\",\"shouldn\",\"happiest\",\"ah\",\"ties\",\"declining\",\"abinadab\",\"arise\",\"crowds\",\"guards\",\"gavest\",\"bleed\",\"myself\",\"conflict\",\"john_knightley\",\"ape\",\"expecting\",\"joseph\",\"stepping\",\"alabama\",\"telling\",\"hee\",\"admire\",\"reuel\",\"cicero\",\"opposition\",\"terrace\",\"gratified\",\"title\",\"hearts\",\"destination\",\"jumped\",\"nowadays\",\"exchange\",\"shimei\",\"mar\",\"conclude\",\"couch\",\"echoes\",\"bustle\",\"way\",\"amidst\",\"division\",\"atonement\",\"defy\",\"wonderous\",\"overpowered\",\"fatherless\",\"luxurious\",\"charms\",\"mill\",\"makes\",\"raising\",\"macbeth\",\"inhabitants\",\"slower\",\"divine\",\"board\",\"inside\",\"rule\",\"toe\",\"abundance\",\"liers\",\"sucked\",\"roofs\",\"reading\",\"envy\",\"tranquillity\",\"permitted\",\"seamen\",\"twigs\",\"subterranean\",\"include\",\"sworn\",\"waking\",\"elect\",\"apt\",\"persecuted\",\"young\",\"part\",\"pleas\",\"dry\",\"express\",\"grew\",\"recover\",\"tone\",\"forbade\",\"endure\",\"met\",\"sadness\",\"superiour\",\"dalroy\",\"views\",\"miss_bates\",\"walls\",\"replenished\",\"nets\",\"felicity\",\"soar\",\"profession\",\"condition\",\"age\",\"thirty\",\"feudal\",\"official\",\"soule\",\"sickle\",\"holy\",\"pharaoh\",\"scarf\",\"knelt\",\"partakers\",\"isle\",\"fears\",\"leaders\",\"passe\",\"calls\",\"game\",\"sakes\",\"trout\",\"particular\",\"gingerbread\",\"housekeeper\",\"grieved\",\"fluttered\",\"dame\",\"employments\",\"october\",\"disdained\",\"vapours\",\"security\",\"malc\",\"javelin\",\"blew\",\"gaze\",\"robbed\",\"detected\",\"revived\",\"ribbon\",\"considerate\",\"comming\",\"redemption\",\"seal\",\"joyfully\",\"expired\",\"story\",\"creating\",\"amber\",\"method\",\"goe\",\"deep\",\"treating\",\"centre\",\"nourished\",\"notice\",\"fathoms\",\"uzzi\",\"devise\",\"transgress\",\"seed\",\"debate\",\"charmed\",\"pitiable\",\"slouched\",\"guns\",\"intending\",\"ruin\",\"parish\",\"blushed\",\"advisable\",\"piedro\",\"stillness\",\"hiram\",\"accused\",\"gives\",\"startling\",\"are\",\"unpunished\",\"granted\",\"lenox\",\"moss\",\"vesture\",\"dedicate\",\"schoolboy\",\"hour\",\"32\",\"awkwardness\",\"vain\",\"ankles\",\"sighed\",\"champagne\",\"baked\",\"sawest\",\"ranged\",\"returns\",\"desirable\",\"directions\",\"judgement\",\"rebuke\",\"result\",\"crying\",\"hushai\",\"affectionately\",\"envious\",\"tube\",\"26\",\"obligation\",\"false\",\"ecstatic\",\"gave\",\"commission\",\"tomorrow\",\"deal\",\"slumbering\",\"cheer\",\"suckling\",\"judges\",\"coupling\",\"either\",\"continually\",\"rational\",\"brows\",\"kicked\",\"relied\",\"until\",\"reigns\",\"skull\",\"gardener\",\"screwed\",\"104\",\"o_clock\",\"matters\",\"resort\",\"sail\",\"thither\",\"orderly\",\"herd\",\"tavern\",\"screw\",\"vegetables\",\"murmuring\",\"bank\",\"aside\",\"confessed\",\"tears\",\"tells\",\"fan\",\"threatening\",\"beginning\",\"allusions\",\"shew\",\"determined\",\"kindness\",\"cole\",\"acknowledged\",\"very\",\"metal\",\"david\",\"miracles\",\"ice\",\"smell\",\"plant\",\"afar_off\",\"attached\",\"footing\",\"fishers\",\"teeth\",\"sliding\",\"but\",\"stir\",\"turnbull\",\"aft\",\"wisdom\",\"decision\",\"afraid\",\"burden\",\"testify\",\"gift\",\"down\",\"engravings\",\"zebah\",\"hundreds\",\"elders\",\"gideon\",\"intently\",\"lawn\",\"doeth\",\"consecrated\",\"moral\",\"footprint\",\"plot\",\"proudly\",\"invitation\",\"load\",\"hidden\",\"cleansed\",\"vanities\",\"visitor\",\"thus\",\"deceitfully\",\"integrity\",\"serve\",\"rain\",\"eagles\",\"grinding\",\"controversy\",\"accept\",\"guilty\",\"guest\",\"allowed\",\"pitiful\",\"underneath\",\"cream\",\"foreheads\",\"partners\",\"cover\",\"passionately\",\"pitched\",\"spouts\",\"hamor\",\"archer\",\"hail\",\"interruption\",\"substantial\",\"pick\",\"stay\",\"jupiter\",\"gratifying\",\"pistol\",\"87\",\"interest\",\"goods\",\"davis\",\"cleaveth\",\"begged\",\"comfort\",\"shifted\",\"atheist_\",\"th\",\"divisions\",\"manservant\",\"cleanse\",\"courses\",\"labours\",\"seat\",\"stricken\",\"obliging\",\"army\",\"appease\",\"renewed\",\"disturb\",\"achish\",\"sincere\",\"rabbah\",\"bomb\",\"amminadab\",\"performed\",\"beside\",\"folio\",\"individual\",\"chaos\",\"pardoned\",\"icy\",\"squall\",\"hadad\",\"withall\",\"baths\",\"of\",\"cannibal\",\"brandon\",\"146\",\"zichri\",\"tiny\",\"clear\",\"chauffeur\",\"discoveries\",\"contrast\",\"awe\",\"spin\",\"sisera\",\"fantastic\",\"nimble\",\"sowed\",\"banks\",\"tents\",\"vulgar\",\"masks\",\"diligently\",\"summit\",\"unwillingness\",\"superiority\",\"murderers\",\"lesser\",\"benches\",\"barzillai\",\"contemptuously\",\"samaria\",\"spread\",\"wonderfully\",\"pressing\",\"footman\",\"told\",\"clearly\",\"puzzle\",\"mortification\",\"reckoned\",\"truth\",\"convenient\",\"direction\",\"builders\",\"sensation\",\"hanun\",\"discord\",\"divination\",\"unanimous\",\"generally\",\"invisible\",\"says\",\"measure\",\"workman\",\"access\",\"approve\",\"landlord\",\"wither\",\"litter\",\"sweare\",\"plantation\",\"shoals\",\"bringing\",\"swiftness\",\"rapt\",\"although\",\"parting\",\"middle\",\"reubenites\",\"histories\",\"tones\",\"assumed\",\"appointment\",\"cain\",\"touched\",\"imperial\",\"orchards\",\"suspended\",\"61\",\"marvelled\",\"realised\",\"envelop\",\"conceit\",\"tries\",\"assyrian\",\"sweeter\",\"constable\",\"call\",\"aid\",\"pomegranates\",\"shadow\",\"meddle\",\"iii\",\"burying\",\"remember\",\"seeth\",\"108\",\"suppressed\",\"slumber\",\"peg\",\"its\",\"assented\",\"naomi\",\"blossom\",\"meshach\",\"bent\",\"contains\",\"shoemaker\",\"charming\",\"publius\",\"exhortation\",\"eh\",\"library\",\"eyebrows\",\"baal\",\"mail\",\"observe\",\"aye\",\"magnitude\",\"drive\",\"closer\",\"hammock\",\"his\",\"forged\",\"glimpse\",\"formerly\",\"sleeves\",\"hartfield\",\"bulk\",\"furnish\",\"chamber\",\"enraged\",\"moustache\",\"engage\",\"match\",\"inspector\",\"loveth\",\"furnished\",\"clothe\",\"curiosity\",\"houses\",\"reade\",\"croft\",\"spreading\",\"crops\",\"homeward\",\"want\",\"beare\",\"nothing\",\"heauens\",\"used\",\"gent\",\"attractive\",\"chambers\",\"psalteries\",\"promise\",\"quest\",\"itself\",\"cutting\",\"sight\",\"scrape\",\"passed\",\"bani\",\"invitations\",\"inn\",\"pendragon\",\"removal\",\"baptism\",\"oblong\",\"tackle\",\"irish\",\"attribute\",\"beares\",\"strangest\",\"queen\",\"hoof\",\"respectable\",\"meadow\",\"recollections\",\"hark\",\"exquisite\",\"raised\",\"gathering\",\"breeding\",\"scheme\",\"rubbed\",\"possession\",\"fools\",\"hereditary\",\"rejoicing\",\"vote\",\"exclaiming\",\"concerned\",\"ashamed\",\"rounding\",\"wrists\",\"comprehend\",\"rod\",\"token\",\"satisfactory\",\"aware\",\"selah\",\"keeping\",\"horizontal\",\"bru\",\"19\",\"genial\",\"wept\",\"it\",\"know\",\"smaller\",\"medicine\",\"wrongs\",\"cottage\",\"sheets\",\"their\",\"win\",\"hey\",\"dip\",\"introduction\",\"hoist\",\"adopted\",\"hanged\",\"vigorous\",\"decree\",\"pitiless\",\"top\",\"merry\",\"unlikely\",\"biggest\",\"state\",\"perils\",\"shore\",\"steal\",\"saving\",\"corpses\",\"persuade\",\"instruction\",\"ninety\",\"contracted\",\"occupation\",\"pins\",\"face\",\"tennessee\",\"delicious\",\"stony\",\"drawing\",\"orphans\",\"reconcile\",\"musgroves\",\"gird\",\"hearing\",\"ringing\",\"horrid\",\"organs\",\"10\",\"shortened\",\"silenced\",\"114\",\"defeated\",\"husky\",\"nantucket\",\"lad\",\"fit\",\"avenge\",\"buoy\",\"vexation\",\"loose\",\"prosperous\",\"love\",\"habitation\",\"bought\",\"assurances\",\"lachish\",\"leaf\",\"rory\",\"row\",\"addressing\",\"prisoners\",\"leper\",\"towing\",\"_not_\",\"inquire\",\"languages\",\"comprehending\",\"demanding\",\"barak\",\"searching\",\"somehow\",\"prophet\",\"rebellious\",\"sends\",\"shillings\",\"commonest\",\"46\",\"gomorrah\",\"cut\",\"119\",\"tear\",\"maxim\",\"harpooneers\",\"dig\",\"purchase\",\"utter\",\"some\",\"beguiled\",\"plates\",\"emerald\",\"ruth\",\"resources\",\"wandered\",\"lounging\",\"quietness\",\"choosing\",\"seventh\",\"discharge\",\"fairy\",\"firm\",\"hezekiah\",\"ordinary\",\"grammar\",\"preserve\",\"fir\",\"scattered\",\"hermon\",\"thundering\",\"hinted\",\"vast\",\"visible\",\"abijah\",\"overheard\",\"life\",\"beelzebub\",\"concubine\",\"96\",\"cyrus\",\"distemper\",\"stopping\",\"front\",\"sixpence\",\"diffused\",\"northward\",\"puff\",\"captured\",\"jubile\",\"agreed\",\"steward\",\"like\",\"charity\",\"century\",\"return\",\"infirmity\",\"alarming\",\"counted\",\"jay\",\"softened\",\"torments\",\"conversation\",\"smart\",\"ambassador\",\"christians\",\"glorious\",\"starved\",\"marks\",\"son\",\"australia\",\"knees\",\"attending\",\"ithamar\",\"sirs\",\"politics\",\"suspect\",\"clock\",\"mourned\",\"minutes\",\"gloves\",\"50\",\"heave\",\"cell\",\"ornan\",\"relation\",\"speaker\",\"owe\",\"damage\",\"putting\",\"impertinent\",\"sprang\",\"readers\",\"bribe\",\"estate\",\"obscured\",\"enjoyments\",\"birthday\",\"killing\",\"drove\",\"ebook\",\"contradict\",\"tedious\",\"cavalry\",\"similar\",\"grandmama\",\"tolerable\",\"liveth\",\"occasion\",\"daughter\",\"wars\",\"recently\",\"cursed\",\"sleet\",\"hue\",\"sense\",\"markets\",\"mocked\",\"zeruiah\",\"elegant\",\"unable\",\"!\\\"\",\"28\",\"daybreak\",\"lonesome\",\"leapt\",\"unfit\",\"rapture\",\"anybody\",\"cousin\",\"insult\",\"damascus\",\"faithfully\",\"blameless\",\"hanging\",\"stuffed\",\"stopped\",\"darkness\",\"staircase\",\"flows\",\"afflictions\",\"fiend\",\"elegance\",\"bury\",\"strength\",\"tale\",\"tuesday\",\"products\",\"deere\",\"comes\",\"moderate\",\"flora\",\"mammy\",\"divide\",\"famine\",\"alacrity\",\"burglar\",\"custom\",\"horror\",\"excitement\",\"francisco\",\"apologies\",\"direful\",\"buckler\",\"yacht\",\"seizing\",\"camel\",\"sicke\",\"hastening\",\"struck\",\"dam\",\"lieth\",\"peeped\",\"crowd\",\"dwelt\",\"blacke\",\"ware\",\"ephraim\",\"aram\",\"surgeon\",\"planet\",\"about\",\"lodge\",\"proposals\",\"boasted\",\"trivial\",\"melodious\",\"honourable\",\"peddler\",\"gilt\",\"pekah\",\"shape\",\"rimmon\",\"finery\"],\"x\":{\"__ndarray__\":\"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\",\"dtype\":\"float32\",\"shape\":[5000]},\"y\":{\"__ndarray__\":\"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\",\"dtype\":\"float32\",\"shape\":[5000]}},\"selected\":{\"id\":\"1045\",\"type\":\"Selection\"},\"selection_policy\":{\"id\":\"1044\",\"type\":\"UnionRenderers\"}},\"id\":\"1033\",\"type\":\"ColumnDataSource\"}],\"root_ids\":[\"1001\"]},\"title\":\"Bokeh Application\",\"version\":\"1.4.0\"}};\n",
              "  var render_items = [{\"docid\":\"8b2edbee-01a6-4f5a-b556-c3ad4f5ba1e3\",\"roots\":{\"1001\":\"57f29562-e50e-4b86-add2-58e3044fa217\"}}];\n",
              "  root.Bokeh.embed.embed_items_notebook(docs_json, render_items);\n",
              "\n",
              "  }\n",
              "  if (root.Bokeh !== undefined) {\n",
              "    embed_document(root);\n",
              "  } else {\n",
              "    var attempts = 0;\n",
              "    var timer = setInterval(function(root) {\n",
              "      if (root.Bokeh !== undefined) {\n",
              "        clearInterval(timer);\n",
              "        embed_document(root);\n",
              "      } else {\n",
              "        attempts++;\n",
              "        if (attempts > 100) {\n",
              "          clearInterval(timer);\n",
              "          console.log(\"Bokeh: ERROR: Unable to run BokehJS code because BokehJS library is missing\");\n",
              "        }\n",
              "      }\n",
              "    }, 10, root)\n",
              "  }\n",
              "})(window);"
            ],
            "application/vnd.bokehjs_exec.v0+json": ""
          },
          "metadata": {
            "tags": [],
            "application/vnd.bokehjs_exec.v0+json": {
              "id": "1001"
            }
          }
        }
      ]
    },
    {
      "cell_type": "code",
      "metadata": {
        "id": "24kVEd8ySZYx",
        "colab_type": "code",
        "colab": {}
      },
      "source": [
        "# NLP Classificatons"
      ],
      "execution_count": 0,
      "outputs": []
    },
    {
      "cell_type": "markdown",
      "metadata": {
        "id": "xViCxiLpTVyR",
        "colab_type": "text"
      },
      "source": [
        "Load sentiment classifier.\n",
        "\n"
      ]
    },
    {
      "cell_type": "code",
      "metadata": {
        "id": "3HinwjoFTIQ-",
        "colab_type": "code",
        "colab": {
          "base_uri": "https://localhost:8080/",
          "height": 35
        },
        "outputId": "1bff1567-1fef-4c49-8f80-0b954d978d6c"
      },
      "source": [
        "import keras\n",
        "from keras.datasets import imdb # new!\n",
        "from keras.preprocessing.sequence import pad_sequences # new!\n",
        "from keras.models import Sequential\n",
        "from keras.layers import Dense, Flatten, Dropout\n",
        "from keras.layers import Embedding # new!\n",
        "from keras.callbacks import ModelCheckpoint # new!\n",
        "import os # new!\n",
        "from sklearn.metrics import roc_auc_score, roc_curve # new! import pandas as pd\n",
        "import matplotlib.pyplot as plt # new!\n",
        "%matplotlib inline"
      ],
      "execution_count": 92,
      "outputs": [
        {
          "output_type": "stream",
          "text": [
            "Using TensorFlow backend.\n"
          ],
          "name": "stderr"
        }
      ]
    },
    {
      "cell_type": "code",
      "metadata": {
        "id": "5a1AFtYuTeVZ",
        "colab_type": "code",
        "colab": {}
      },
      "source": [
        "# Parameters for the classifier\n",
        "output_dir = 'model_output/dense'\n",
        "\n",
        "# training \n",
        "epoch = 14 \n",
        "batch_size = 128 \n",
        "\n",
        "# Vector-space embedding \n",
        "n_dim = 64 \n",
        "n_unique_words = 5000  #5000 most popular words across the review. \n",
        "n_words_to_skip = 50  # instead of creating a stopword, skip the top 50 most frequent words. \n",
        "max_review_length = 100  # Review length of 100 words \n",
        "pad_type = trunc_type = 'pre'  #padding a word. Later we add details about it & trunc remove the word pad.\n",
        "\n",
        "\n",
        "# NN archictecture \n",
        "n_dense = 64 \n",
        "dropout = 0.5 "
      ],
      "execution_count": 0,
      "outputs": []
    },
    {
      "cell_type": "code",
      "metadata": {
        "id": "r_yRzIAbT7tr",
        "colab_type": "code",
        "colab": {
          "base_uri": "https://localhost:8080/",
          "height": 53
        },
        "outputId": "cacc3569-ce4a-4f18-f9b0-845decaecf3d"
      },
      "source": [
        " # Load the IMDB film review data \n",
        " (x_train, y_train), (x_valid, y_valid) = imdb.load_data(num_words=n_unique_words, \n",
        "                                                         skip_top=n_words_to_skip)"
      ],
      "execution_count": 94,
      "outputs": [
        {
          "output_type": "stream",
          "text": [
            "Downloading data from https://s3.amazonaws.com/text-datasets/imdb.npz\n",
            "17465344/17464789 [==============================] - 0s 0us/step\n"
          ],
          "name": "stdout"
        }
      ]
    },
    {
      "cell_type": "code",
      "metadata": {
        "id": "qvbWh1kZU3Uc",
        "colab_type": "code",
        "colab": {}
      },
      "source": [
        "## Examining the data"
      ],
      "execution_count": 0,
      "outputs": []
    },
    {
      "cell_type": "code",
      "metadata": {
        "id": "HX0xfhSCVAX2",
        "colab_type": "code",
        "colab": {
          "base_uri": "https://localhost:8080/",
          "height": 125
        },
        "outputId": "3d55024b-d92d-48d3-8bc1-9d591f001089"
      },
      "source": [
        "for  x in x_train[:6]: print(len(x))"
      ],
      "execution_count": 98,
      "outputs": [
        {
          "output_type": "stream",
          "text": [
            "218\n",
            "189\n",
            "141\n",
            "550\n",
            "147\n",
            "43\n"
          ],
          "name": "stdout"
        }
      ]
    },
    {
      "cell_type": "code",
      "metadata": {
        "id": "vrtAggfcVext",
        "colab_type": "code",
        "colab": {}
      },
      "source": [
        "word_index = keras.datasets.imdb.get_word_index()"
      ],
      "execution_count": 0,
      "outputs": []
    },
    {
      "cell_type": "code",
      "metadata": {
        "id": "jzPzxbmKVjF9",
        "colab_type": "code",
        "colab": {}
      },
      "source": [
        "# These 0, 1,2, are conventional index in NLP for PAD, START & UNK(unknow token)\n",
        "word_index = {k:(v+3) for k,v in word_index.items()}\n",
        "word_index['PAD'] = 0\n",
        "word_index['START'] = 1   \n",
        "word_index['UNK'] =2 \n",
        "index_word = {v:k for k,v in word_index.items()}"
      ],
      "execution_count": 0,
      "outputs": []
    },
    {
      "cell_type": "code",
      "metadata": {
        "id": "Hi2GV19WWKne",
        "colab_type": "code",
        "colab": {
          "base_uri": "https://localhost:8080/",
          "height": 55
        },
        "outputId": "e4ae3e83-a821-4e7a-82c8-6401d5d0d4c6"
      },
      "source": [
        "# Print review as character string \n",
        "#index_word[2]\n",
        "' '.join(index_word[id] for id in x_train[10])"
      ],
      "execution_count": 125,
      "outputs": [
        {
          "output_type": "execute_result",
          "data": {
            "text/plain": [
              "\"START french horror cinema has seen something of a UNK over the last couple of years with great films such as inside and UNK romance UNK on to the scene UNK UNK the UNK just slightly but stands head and UNK over most modern horror titles and is surely one of the best french horror films ever made UNK was obviously shot on a low budget but this is made up for in far more ways than one by the originality of the film and this in turn is UNK by the excellent writing and acting that UNK the film is a winner the plot focuses on two main ideas prison and black magic the central character is a man named UNK sent to prison for UNK he is put in a cell with three others the UNK insane UNK body building UNK UNK and his retarded boyfriend UNK after a short while in the cell together they UNK upon a hiding place in the wall that contains an old UNK after UNK part of it they soon realise its magical powers and realise they may be able to use it to break through the prison walls br br black magic is a very interesting topic and i'm actually quite surprised that there aren't more films based on it as there's so much scope for things to do with it it's fair to say that UNK makes the best of it's UNK as despite it's UNK the film never actually feels UNK and manages to flow well throughout director eric UNK provides a great atmosphere for the film the fact that most of it takes place inside the central prison cell UNK that the film feels very UNK and this immensely UNK the central idea of the prisoners wanting to use magic to break out of the cell it's very easy to get behind them it's often said that the unknown is the thing that really UNK people and this film proves that as the director UNK that we can never really be sure of exactly what is round the corner and this helps to UNK that UNK actually does manage to be quite frightening the film is memorable for a lot of reasons outside the central plot the characters are all very interesting in their own way and the fact that the book itself almost takes on its own character is very well done anyone worried that the film won't deliver by the end won't be disappointed either as the ending both makes sense and manages to be quite horrifying overall UNK is a truly great horror film and one of the best of the decade highly recommended viewing\""
            ]
          },
          "metadata": {
            "tags": []
          },
          "execution_count": 125
        }
      ]
    },
    {
      "cell_type": "code",
      "metadata": {
        "id": "lvtgUg9MXiBj",
        "colab_type": "code",
        "colab": {}
      },
      "source": [
        "(all_x_train,_),(all_x_valid,_) = imdb.load_data()\n"
      ],
      "execution_count": 0,
      "outputs": []
    },
    {
      "cell_type": "code",
      "metadata": {
        "id": "LwBes2U2X61c",
        "colab_type": "code",
        "colab": {
          "base_uri": "https://localhost:8080/",
          "height": 35
        },
        "outputId": "0df0282b-8356-47f5-c12c-2fc5eb3b0401"
      },
      "source": [
        "## Standardizing the length of the reviews\n",
        "\"\"\"\n",
        "Pad the documents and text in a single line for all reviews to match the lenght of input.\n",
        "\"\"\""
      ],
      "execution_count": 128,
      "outputs": [
        {
          "output_type": "execute_result",
          "data": {
            "text/plain": [
              "'\\nPad the documents and text in a single line for all reviews to match the lenght of input.\\n'"
            ]
          },
          "metadata": {
            "tags": []
          },
          "execution_count": 128
        }
      ]
    },
    {
      "cell_type": "code",
      "metadata": {
        "id": "e2SeLzryYAjk",
        "colab_type": "code",
        "colab": {}
      },
      "source": [
        "x_train = pad_sequences(x_train, maxlen=max_review_length,\n",
        "                        padding=pad_type, truncating=trunc_type, value=0)\n",
        "x_valid = pad_sequences(x_valid, maxlen=max_review_length,\n",
        "                        padding=pad_type, truncating=trunc_type, value=0)"
      ],
      "execution_count": 0,
      "outputs": []
    },
    {
      "cell_type": "code",
      "metadata": {
        "id": "nVBtPPdtYUe6",
        "colab_type": "code",
        "colab": {
          "base_uri": "https://localhost:8080/",
          "height": 145
        },
        "outputId": "c85783a3-8a9e-4f0d-a4bd-de857ff36be2"
      },
      "source": [
        " [x.shape for x in x_train[0:6]] # check the padding match \n",
        " [' '.join(index_word[id] for id in tt ) for tt in x_train[:6]]"
      ],
      "execution_count": 138,
      "outputs": [
        {
          "output_type": "execute_result",
          "data": {
            "text/plain": [
              "[\"cry at a film it must have been good and this definitely was also UNK to the two little UNK that played the UNK of norman and paul they were just brilliant children are often left out of the UNK list i think because the stars that play them all grown up are such a big UNK for the whole film but these children are amazing and should be UNK for what they have done don't you think the whole story was so lovely because it was true and was someone's life after all that was UNK with us all\",\n",
              " \"funny in equal UNK the hair is big lots of UNK UNK men wear those cut UNK UNK that show off their UNK UNK that men actually wore them and the music is just UNK trash that plays over and over again in almost every scene there is trashy music UNK and UNK taking away bodies and the UNK still doesn't close for UNK all UNK aside this is a truly bad film whose only charm is to look back on the disaster that was the 80's and have a good old laugh at how bad everything was back then\",\n",
              " \"touching the floor at how bad it really was the rest of the time everyone else in the theatre just started talking to each other leaving or generally crying into their popcorn that they actually paid money they had UNK working to watch this UNK excuse for a film it must have looked like a great idea on paper but on film it looks like no one in the film has a clue what is going on crap acting crap costumes i can't get across how UNK this is to watch save yourself an hour a bit of your life\",\n",
              " \"like UNK i got slightly annoyed with the UNK of hanging stories on more stories but also like UNK i UNK this once i saw the UNK picture ' forget the box office UNK of UNK and its like you might even UNK the UNK famous UNK of the UNK man to see a film that is true to UNK this one is probably unique if you maybe UNK on it deeply enough you might even re UNK the power of storytelling and the age old question of whether there are some UNK that cannot be told but only experienced\",\n",
              " \"i was still suffering worst plot worst script worst movie i have ever seen i wanted to hit my head up against a wall for an hour then i'd stop and you know why because it felt damn good upon UNK my head in i stuck that damn movie in the UNK and watched it burn and that felt better than anything else i've ever done it took american psycho army of darkness and kill bill just to get over that crap i hate you sandler for actually going through with this and UNK a whole day of my life\",\n",
              " \"PAD PAD PAD PAD PAD PAD PAD PAD PAD PAD PAD PAD PAD PAD PAD PAD PAD PAD PAD PAD PAD PAD PAD PAD PAD PAD PAD PAD PAD PAD PAD PAD PAD PAD PAD PAD PAD PAD PAD PAD PAD PAD PAD PAD PAD PAD PAD PAD PAD PAD PAD PAD PAD PAD PAD PAD PAD START begins better than it ends funny that the russian UNK crew UNK all other actors it's like those scenes where documentary shots br br spoiler part the message UNK was contrary to the whole story it just does not UNK br br\"]"
            ]
          },
          "metadata": {
            "tags": []
          },
          "execution_count": 138
        }
      ]
    },
    {
      "cell_type": "code",
      "metadata": {
        "id": "UWeyJK3hZGiQ",
        "colab_type": "code",
        "colab": {}
      },
      "source": [
        "## Dense Network"
      ],
      "execution_count": 0,
      "outputs": []
    },
    {
      "cell_type": "code",
      "metadata": {
        "id": "13EARV1DZJM9",
        "colab_type": "code",
        "colab": {}
      },
      "source": [
        "model = Sequential()\n",
        "model.add(Embedding(n_unique_words, n_dim,\n",
        "                    input_length=max_review_length)) # Create w2v from corpus of imdb\n",
        "model.add(Flatten())\n",
        "model.add(Dense(n_dense, activation='relu'))\n",
        "model.add(Dropout(dropout))\n",
        "model.add(Dense(1, activation='sigmoid'))"
      ],
      "execution_count": 0,
      "outputs": []
    },
    {
      "cell_type": "code",
      "metadata": {
        "id": "_19cB4i5Zle8",
        "colab_type": "code",
        "colab": {
          "base_uri": "https://localhost:8080/",
          "height": 341
        },
        "outputId": "76df6508-484a-4209-cff4-3057a1dedbca"
      },
      "source": [
        "model.summary()"
      ],
      "execution_count": 141,
      "outputs": [
        {
          "output_type": "stream",
          "text": [
            "Model: \"sequential_1\"\n",
            "_________________________________________________________________\n",
            "Layer (type)                 Output Shape              Param #   \n",
            "=================================================================\n",
            "embedding_1 (Embedding)      (None, 100, 64)           320000    \n",
            "_________________________________________________________________\n",
            "flatten_1 (Flatten)          (None, 6400)              0         \n",
            "_________________________________________________________________\n",
            "dense_1 (Dense)              (None, 64)                409664    \n",
            "_________________________________________________________________\n",
            "dropout_1 (Dropout)          (None, 64)                0         \n",
            "_________________________________________________________________\n",
            "dense_2 (Dense)              (None, 1)                 65        \n",
            "=================================================================\n",
            "Total params: 729,729\n",
            "Trainable params: 729,729\n",
            "Non-trainable params: 0\n",
            "_________________________________________________________________\n"
          ],
          "name": "stdout"
        }
      ]
    },
    {
      "cell_type": "code",
      "metadata": {
        "id": "NncWUGjUYt0s",
        "colab_type": "code",
        "colab": {}
      },
      "source": [
        "model.compile(loss='binary_crossentropy', optimizer='adam', metrics=['accuracy'])"
      ],
      "execution_count": 0,
      "outputs": []
    },
    {
      "cell_type": "code",
      "metadata": {
        "id": "VqQt8JqEaCji",
        "colab_type": "code",
        "colab": {}
      },
      "source": [
        "modelcheckpoint = ModelCheckpoint(filepath=output_dir+\"/weights.{epoch:02d}.hdf5\")\n",
        "if not os.path.exists(output_dir):\n",
        "  os.makedirs(output_dir)\n"
      ],
      "execution_count": 0,
      "outputs": []
    },
    {
      "cell_type": "code",
      "metadata": {
        "id": "BvyXQ6ucaWGT",
        "colab_type": "code",
        "colab": {
          "base_uri": "https://localhost:8080/",
          "height": 593
        },
        "outputId": "5f0cfcea-a98d-428b-d76d-68e902aef202"
      },
      "source": [
        "# fit the model. \n",
        "model.fit(x_train, y_train, batch_size=batch_size, epochs=epoch, verbose=1,\n",
        "          validation_data=(x_valid, y_valid), callbacks=[modelcheckpoint])"
      ],
      "execution_count": 145,
      "outputs": [
        {
          "output_type": "stream",
          "text": [
            "/usr/local/lib/python3.6/dist-packages/tensorflow/python/framework/indexed_slices.py:434: UserWarning: Converting sparse IndexedSlices to a dense Tensor of unknown shape. This may consume a large amount of memory.\n",
            "  \"Converting sparse IndexedSlices to a dense Tensor of unknown shape. \"\n"
          ],
          "name": "stderr"
        },
        {
          "output_type": "stream",
          "text": [
            "Train on 25000 samples, validate on 25000 samples\n",
            "Epoch 1/14\n",
            "25000/25000 [==============================] - 5s 188us/step - loss: 0.5038 - accuracy: 0.7332 - val_loss: 0.3409 - val_accuracy: 0.8486\n",
            "Epoch 2/14\n",
            "25000/25000 [==============================] - 4s 169us/step - loss: 0.2381 - accuracy: 0.9082 - val_loss: 0.3608 - val_accuracy: 0.8454\n",
            "Epoch 3/14\n",
            "25000/25000 [==============================] - 4s 174us/step - loss: 0.0815 - accuracy: 0.9781 - val_loss: 0.4594 - val_accuracy: 0.8310\n",
            "Epoch 4/14\n",
            "25000/25000 [==============================] - 4s 170us/step - loss: 0.0186 - accuracy: 0.9975 - val_loss: 0.5406 - val_accuracy: 0.8363\n",
            "Epoch 5/14\n",
            "25000/25000 [==============================] - 4s 172us/step - loss: 0.0051 - accuracy: 0.9999 - val_loss: 0.5986 - val_accuracy: 0.8370\n",
            "Epoch 6/14\n",
            "25000/25000 [==============================] - 4s 171us/step - loss: 0.0025 - accuracy: 1.0000 - val_loss: 0.6374 - val_accuracy: 0.8364\n",
            "Epoch 7/14\n",
            "25000/25000 [==============================] - 4s 174us/step - loss: 0.0016 - accuracy: 1.0000 - val_loss: 0.6701 - val_accuracy: 0.8376\n",
            "Epoch 8/14\n",
            "25000/25000 [==============================] - 4s 173us/step - loss: 0.0011 - accuracy: 1.0000 - val_loss: 0.6978 - val_accuracy: 0.8376\n",
            "Epoch 9/14\n",
            "25000/25000 [==============================] - 4s 176us/step - loss: 7.5656e-04 - accuracy: 1.0000 - val_loss: 0.7229 - val_accuracy: 0.8384\n",
            "Epoch 10/14\n",
            "25000/25000 [==============================] - 4s 173us/step - loss: 6.1794e-04 - accuracy: 1.0000 - val_loss: 0.7446 - val_accuracy: 0.8385\n",
            "Epoch 11/14\n",
            "25000/25000 [==============================] - 4s 172us/step - loss: 4.6524e-04 - accuracy: 1.0000 - val_loss: 0.7639 - val_accuracy: 0.8384\n",
            "Epoch 12/14\n",
            "25000/25000 [==============================] - 4s 174us/step - loss: 3.8128e-04 - accuracy: 1.0000 - val_loss: 0.7871 - val_accuracy: 0.8377\n",
            "Epoch 13/14\n",
            "25000/25000 [==============================] - 4s 173us/step - loss: 3.3112e-04 - accuracy: 1.0000 - val_loss: 0.8006 - val_accuracy: 0.8387\n",
            "Epoch 14/14\n",
            "25000/25000 [==============================] - 4s 172us/step - loss: 2.6059e-04 - accuracy: 1.0000 - val_loss: 0.8167 - val_accuracy: 0.8386\n"
          ],
          "name": "stdout"
        },
        {
          "output_type": "execute_result",
          "data": {
            "text/plain": [
              "<keras.callbacks.callbacks.History at 0x7fcac9abeb70>"
            ]
          },
          "metadata": {
            "tags": []
          },
          "execution_count": 145
        }
      ]
    },
    {
      "cell_type": "code",
      "metadata": {
        "id": "RJ3PAQLGayQO",
        "colab_type": "code",
        "colab": {}
      },
      "source": [
        "# Loading the parameters \n",
        "model.load_weights(output_dir + \"/weights.02.hdf5\")"
      ],
      "execution_count": 0,
      "outputs": []
    },
    {
      "cell_type": "code",
      "metadata": {
        "id": "wFjELrsEbGlj",
        "colab_type": "code",
        "colab": {}
      },
      "source": [
        "y_hat = model.predict_proba(x_valid)"
      ],
      "execution_count": 0,
      "outputs": []
    },
    {
      "cell_type": "code",
      "metadata": {
        "id": "VLpAF-FmbMaD",
        "colab_type": "code",
        "colab": {
          "base_uri": "https://localhost:8080/",
          "height": 35
        },
        "outputId": "15977fa1-e243-4b37-e8e6-016a71c668df"
      },
      "source": [
        ""
      ],
      "execution_count": 155,
      "outputs": [
        {
          "output_type": "execute_result",
          "data": {
            "text/plain": [
              "0"
            ]
          },
          "metadata": {
            "tags": []
          },
          "execution_count": 155
        }
      ]
    },
    {
      "cell_type": "code",
      "metadata": {
        "id": "cOegrUYQbX6T",
        "colab_type": "code",
        "colab": {
          "base_uri": "https://localhost:8080/",
          "height": 55
        },
        "outputId": "f0dd4e5a-a52d-4768-86de-168e7595d200"
      },
      "source": [
        "' '.join(index_word[id] for id in all_x_valid[0])\n"
      ],
      "execution_count": 152,
      "outputs": [
        {
          "output_type": "execute_result",
          "data": {
            "text/plain": [
              "\"START please give this one a miss br br kristy swanson and the rest of the cast rendered terrible performances the show is flat flat flat br br i don't know how michael madison could have allowed this one on his plate he almost seemed to know this wasn't going to work out and his performance was quite lacklustre so all you madison fans give this a miss\""
            ]
          },
          "metadata": {
            "tags": []
          },
          "execution_count": 152
        }
      ]
    },
    {
      "cell_type": "code",
      "metadata": {
        "id": "sSSia4t-bb8i",
        "colab_type": "code",
        "colab": {
          "base_uri": "https://localhost:8080/",
          "height": 265
        },
        "outputId": "61cfe259-5ec1-429b-8a4a-f91d3a2cef09"
      },
      "source": [
        "\n",
        "# Plotting histogram of validation da yhat values. \n",
        "plt.hist(y_hat)\n",
        "_ = plt.axvline(x=0.5, color='red')  # assignment to _= prevents from object creation. "
      ],
      "execution_count": 161,
      "outputs": [
        {
          "output_type": "display_data",
          "data": {
            "image/png": "[encoded data removed]",
            "text/plain": [
              "<Figure size 432x288 with 1 Axes>"
            ]
          },
          "metadata": {
            "tags": [],
            "needs_background": "light"
          }
        }
      ]
    },
    {
      "cell_type": "code",
      "metadata": {
        "id": "LKG33JsFcM8L",
        "colab_type": "code",
        "colab": {}
      },
      "source": [
        "# The plot shows the model has strong opinion on the sentinment as either negative or postive \n",
        "# the plot is skewed toward both ends of the histogram."
      ],
      "execution_count": 0,
      "outputs": []
    },
    {
      "cell_type": "code",
      "metadata": {
        "id": "6oPhZ0SvcawT",
        "colab_type": "code",
        "colab": {
          "base_uri": "https://localhost:8080/",
          "height": 35
        },
        "outputId": "817e2a53-2690-4e7a-853c-53a7c9a4223e"
      },
      "source": [
        "## Calculate AUc \n",
        "pct_auc = roc_auc_score(y_valid, y_hat)*100.0 \n",
        "\"{:0.2f}\".format(pct_auc)  # just formatting. "
      ],
      "execution_count": 166,
      "outputs": [
        {
          "output_type": "execute_result",
          "data": {
            "text/plain": [
              "'92.46'"
            ]
          },
          "metadata": {
            "tags": []
          },
          "execution_count": 166
        }
      ]
    },
    {
      "cell_type": "code",
      "metadata": {
        "id": "iQj7bG_Nc2sD",
        "colab_type": "code",
        "colab": {}
      },
      "source": [
        "# Checking the wrong decision, false alarms and missed alarms. \n",
        "# just append the datafram and check the mismatch parts. "
      ],
      "execution_count": 0,
      "outputs": []
    },
    {
      "cell_type": "code",
      "metadata": {
        "id": "xavV51RPdMzS",
        "colab_type": "code",
        "colab": {
          "base_uri": "https://localhost:8080/",
          "height": 35
        },
        "outputId": "ddb749af-32cf-4ab2-d35b-bcbfc5c1ad94"
      },
      "source": [
        "x_train.shape "
      ],
      "execution_count": 176,
      "outputs": [
        {
          "output_type": "execute_result",
          "data": {
            "text/plain": [
              "(25000, 100)"
            ]
          },
          "metadata": {
            "tags": []
          },
          "execution_count": 176
        }
      ]
    },
    {
      "cell_type": "markdown",
      "metadata": {
        "id": "p3JhiM4UdSak",
        "colab_type": "text"
      },
      "source": [
        "Convolutional Networks\n"
      ]
    },
    {
      "cell_type": "code",
      "metadata": {
        "id": "vMzabFtldXqI",
        "colab_type": "code",
        "colab": {}
      },
      "source": [
        "from keras.layers import Conv1D, GlobalMaxPool1D, SpatialDropout1D"
      ],
      "execution_count": 0,
      "outputs": []
    },
    {
      "cell_type": "code",
      "metadata": {
        "id": "UrCNxPaEdgrS",
        "colab_type": "code",
        "colab": {}
      },
      "source": [
        "# output directory name:\n",
        "output_dir = 'model_output/conv'\n",
        " \n",
        "# training:\n",
        "epochs = 4\n",
        "batch_size = 128\n",
        " \n",
        "# vector-space embedding:\n",
        "n_dim = 64\n",
        "n_unique_words = 5000 \n",
        "max_review_length = 400 \n",
        "pad_type = trunc_type = 'pre' \n",
        "drop_embed = 0.2 # new!\n",
        " \n",
        "# convolutional layer architecture: \n",
        "n_conv = 256 # filters, a.k.a. kernels \n",
        "k_conv = 3 # kernel length\n",
        " \n",
        "# dense layer architecture:\n",
        "n_dense = 256\n",
        "dropout = 0.2"
      ],
      "execution_count": 0,
      "outputs": []
    },
    {
      "cell_type": "code",
      "metadata": {
        "id": "cfM8wAfwdliC",
        "colab_type": "code",
        "colab": {}
      },
      "source": [
        "model = Sequential()\n",
        "# vector embedding \n",
        "model.add(Embedding(n_unique_words, n_dim, input_length=max_review_length))\n",
        "model.add(SpatialDropout1D(drop_embed))\n",
        "\n",
        "# conv layer\n",
        "model.add(Conv1D(n_conv, k_conv, activation='relu'))\n",
        "model.add(GlobalMaxPool1D())\n",
        "# dense layer \n",
        "model.add(Dense(n_dense, activation='relu'))\n",
        "model.add(Dropout(dropout))\n",
        "\n",
        "#output layer \n",
        "model.add(Dense(1, activation='sigmoid'))\n"
      ],
      "execution_count": 0,
      "outputs": []
    },
    {
      "cell_type": "code",
      "metadata": {
        "id": "tLX9HTrseVVo",
        "colab_type": "code",
        "colab": {
          "base_uri": "https://localhost:8080/",
          "height": 413
        },
        "outputId": "f93fbe2f-1bd8-4892-b5c9-47f7e792795e"
      },
      "source": [
        "model.summary()"
      ],
      "execution_count": 180,
      "outputs": [
        {
          "output_type": "stream",
          "text": [
            "Model: \"sequential_3\"\n",
            "_________________________________________________________________\n",
            "Layer (type)                 Output Shape              Param #   \n",
            "=================================================================\n",
            "embedding_3 (Embedding)      (None, 400, 64)           320000    \n",
            "_________________________________________________________________\n",
            "spatial_dropout1d_2 (Spatial (None, 400, 64)           0         \n",
            "_________________________________________________________________\n",
            "conv1d_2 (Conv1D)            (None, 398, 256)          49408     \n",
            "_________________________________________________________________\n",
            "global_max_pooling1d_2 (Glob (None, 256)               0         \n",
            "_________________________________________________________________\n",
            "dense_5 (Dense)              (None, 256)               65792     \n",
            "_________________________________________________________________\n",
            "dropout_3 (Dropout)          (None, 256)               0         \n",
            "_________________________________________________________________\n",
            "dense_6 (Dense)              (None, 1)                 257       \n",
            "=================================================================\n",
            "Total params: 435,457\n",
            "Trainable params: 435,457\n",
            "Non-trainable params: 0\n",
            "_________________________________________________________________\n"
          ],
          "name": "stdout"
        }
      ]
    },
    {
      "cell_type": "code",
      "metadata": {
        "id": "AC75yOModROy",
        "colab_type": "code",
        "colab": {}
      },
      "source": [
        "model.compile(loss='binary_crossentropy', optimizer='adam', metrics=['accuracy'])\n"
      ],
      "execution_count": 0,
      "outputs": []
    },
    {
      "cell_type": "code",
      "metadata": {
        "id": "09nLlaXZe1OZ",
        "colab_type": "code",
        "colab": {
          "base_uri": "https://localhost:8080/",
          "height": 593
        },
        "outputId": "944cf562-514e-4bb4-f3ce-9d1b8579f713"
      },
      "source": [
        "model.fit(x_train, y_train, batch_size=batch_size, epochs=epoch, verbose=1,\n",
        "          validation_data=(x_valid, y_valid), callbacks=[modelcheckpoint])"
      ],
      "execution_count": 182,
      "outputs": [
        {
          "output_type": "stream",
          "text": [
            "/usr/local/lib/python3.6/dist-packages/tensorflow/python/framework/indexed_slices.py:434: UserWarning: Converting sparse IndexedSlices to a dense Tensor of unknown shape. This may consume a large amount of memory.\n",
            "  \"Converting sparse IndexedSlices to a dense Tensor of unknown shape. \"\n"
          ],
          "name": "stderr"
        },
        {
          "output_type": "stream",
          "text": [
            "Train on 25000 samples, validate on 25000 samples\n",
            "Epoch 1/14\n",
            "25000/25000 [==============================] - 98s 4ms/step - loss: 0.5292 - accuracy: 0.7090 - val_loss: 0.3659 - val_accuracy: 0.8377\n",
            "Epoch 2/14\n",
            "25000/25000 [==============================] - 98s 4ms/step - loss: 0.3052 - accuracy: 0.8702 - val_loss: 0.3209 - val_accuracy: 0.8568\n",
            "Epoch 3/14\n",
            "25000/25000 [==============================] - 98s 4ms/step - loss: 0.2229 - accuracy: 0.9125 - val_loss: 0.3302 - val_accuracy: 0.8585\n",
            "Epoch 4/14\n",
            "25000/25000 [==============================] - 97s 4ms/step - loss: 0.1598 - accuracy: 0.9424 - val_loss: 0.3696 - val_accuracy: 0.8537\n",
            "Epoch 5/14\n",
            "25000/25000 [==============================] - 101s 4ms/step - loss: 0.1018 - accuracy: 0.9660 - val_loss: 0.4508 - val_accuracy: 0.8471\n",
            "Epoch 6/14\n",
            "25000/25000 [==============================] - 97s 4ms/step - loss: 0.0616 - accuracy: 0.9801 - val_loss: 0.5036 - val_accuracy: 0.8496\n",
            "Epoch 7/14\n",
            "25000/25000 [==============================] - 97s 4ms/step - loss: 0.0371 - accuracy: 0.9888 - val_loss: 0.5964 - val_accuracy: 0.8430\n",
            "Epoch 8/14\n",
            "25000/25000 [==============================] - 97s 4ms/step - loss: 0.0294 - accuracy: 0.9906 - val_loss: 0.6378 - val_accuracy: 0.8470\n",
            "Epoch 9/14\n",
            "25000/25000 [==============================] - 97s 4ms/step - loss: 0.0227 - accuracy: 0.9919 - val_loss: 0.7100 - val_accuracy: 0.8422\n",
            "Epoch 10/14\n",
            "25000/25000 [==============================] - 97s 4ms/step - loss: 0.0179 - accuracy: 0.9940 - val_loss: 0.7600 - val_accuracy: 0.8440\n",
            "Epoch 11/14\n",
            "25000/25000 [==============================] - 99s 4ms/step - loss: 0.0157 - accuracy: 0.9941 - val_loss: 0.7935 - val_accuracy: 0.8424\n",
            "Epoch 12/14\n",
            "25000/25000 [==============================] - 99s 4ms/step - loss: 0.0169 - accuracy: 0.9940 - val_loss: 0.8051 - val_accuracy: 0.8437\n",
            "Epoch 13/14\n",
            "25000/25000 [==============================] - 97s 4ms/step - loss: 0.0185 - accuracy: 0.9933 - val_loss: 0.8125 - val_accuracy: 0.8411\n",
            "Epoch 14/14\n",
            "25000/25000 [==============================] - 97s 4ms/step - loss: 0.0178 - accuracy: 0.9933 - val_loss: 0.8602 - val_accuracy: 0.8416\n"
          ],
          "name": "stdout"
        },
        {
          "output_type": "execute_result",
          "data": {
            "text/plain": [
              "<keras.callbacks.callbacks.History at 0x7fcad06f24e0>"
            ]
          },
          "metadata": {
            "tags": []
          },
          "execution_count": 182
        }
      ]
    },
    {
      "cell_type": "code",
      "metadata": {
        "id": "Yo-apEJffv1y",
        "colab_type": "code",
        "colab": {
          "base_uri": "https://localhost:8080/",
          "height": 35
        },
        "outputId": "297636f9-609c-4f98-f13c-6349155fda43"
      },
      "source": [
        "y_hat = model.predict_proba(x_valid)\n",
        "pct_auc = roc_auc_score(y_valid, y_hat)*100.0 \n",
        "\"{:0.2f}\".format(pct_auc)  # just formatting. "
      ],
      "execution_count": 183,
      "outputs": [
        {
          "output_type": "execute_result",
          "data": {
            "text/plain": [
              "'92.25'"
            ]
          },
          "metadata": {
            "tags": []
          },
          "execution_count": 183
        }
      ]
    },
    {
      "cell_type": "code",
      "metadata": {
        "id": "DOtClUhTf2dQ",
        "colab_type": "code",
        "colab": {
          "base_uri": "https://localhost:8080/",
          "height": 322
        },
        "outputId": "adaad81c-22f1-4851-ffa0-86dd451287f3"
      },
      "source": [
        "model.load_weights('model_output/dense' + \"/weights.03.hdf5\")"
      ],
      "execution_count": 203,
      "outputs": [
        {
          "output_type": "error",
          "ename": "ValueError",
          "evalue": "ignored",
          "traceback": [
            "\u001b[0;31m---------------------------------------------------------------------------\u001b[0m",
            "\u001b[0;31mValueError\u001b[0m                                Traceback (most recent call last)",
            "\u001b[0;32m<ipython-input-203-ce45e6debfd9>\u001b[0m in \u001b[0;36m<module>\u001b[0;34m()\u001b[0m\n\u001b[0;32m----> 1\u001b[0;31m \u001b[0mmodel\u001b[0m\u001b[0;34m.\u001b[0m\u001b[0mload_weights\u001b[0m\u001b[0;34m(\u001b[0m\u001b[0;34m'model_output/dense'\u001b[0m \u001b[0;34m+\u001b[0m \u001b[0;34m\"/weights.03.hdf5\"\u001b[0m\u001b[0;34m)\u001b[0m\u001b[0;34m\u001b[0m\u001b[0;34m\u001b[0m\u001b[0m\n\u001b[0m",
            "\u001b[0;32m/usr/local/lib/python3.6/dist-packages/keras/engine/saving.py\u001b[0m in \u001b[0;36mload_wrapper\u001b[0;34m(*args, **kwargs)\u001b[0m\n\u001b[1;32m    490\u001b[0m                 \u001b[0mos\u001b[0m\u001b[0;34m.\u001b[0m\u001b[0mremove\u001b[0m\u001b[0;34m(\u001b[0m\u001b[0mtmp_filepath\u001b[0m\u001b[0;34m)\u001b[0m\u001b[0;34m\u001b[0m\u001b[0;34m\u001b[0m\u001b[0m\n\u001b[1;32m    491\u001b[0m             \u001b[0;32mreturn\u001b[0m \u001b[0mres\u001b[0m\u001b[0;34m\u001b[0m\u001b[0;34m\u001b[0m\u001b[0m\n\u001b[0;32m--> 492\u001b[0;31m         \u001b[0;32mreturn\u001b[0m \u001b[0mload_function\u001b[0m\u001b[0;34m(\u001b[0m\u001b[0;34m*\u001b[0m\u001b[0margs\u001b[0m\u001b[0;34m,\u001b[0m \u001b[0;34m**\u001b[0m\u001b[0mkwargs\u001b[0m\u001b[0;34m)\u001b[0m\u001b[0;34m\u001b[0m\u001b[0;34m\u001b[0m\u001b[0m\n\u001b[0m\u001b[1;32m    493\u001b[0m \u001b[0;34m\u001b[0m\u001b[0m\n\u001b[1;32m    494\u001b[0m     \u001b[0;32mreturn\u001b[0m \u001b[0mload_wrapper\u001b[0m\u001b[0;34m\u001b[0m\u001b[0;34m\u001b[0m\u001b[0m\n",
            "\u001b[0;32m/usr/local/lib/python3.6/dist-packages/keras/engine/network.py\u001b[0m in \u001b[0;36mload_weights\u001b[0;34m(self, filepath, by_name, skip_mismatch, reshape)\u001b[0m\n\u001b[1;32m   1228\u001b[0m             \u001b[0;32melse\u001b[0m\u001b[0;34m:\u001b[0m\u001b[0;34m\u001b[0m\u001b[0;34m\u001b[0m\u001b[0m\n\u001b[1;32m   1229\u001b[0m                 saving.load_weights_from_hdf5_group(\n\u001b[0;32m-> 1230\u001b[0;31m                     f, self.layers, reshape=reshape)\n\u001b[0m\u001b[1;32m   1231\u001b[0m             \u001b[0;32mif\u001b[0m \u001b[0mhasattr\u001b[0m\u001b[0;34m(\u001b[0m\u001b[0mf\u001b[0m\u001b[0;34m,\u001b[0m \u001b[0;34m'close'\u001b[0m\u001b[0;34m)\u001b[0m\u001b[0;34m:\u001b[0m\u001b[0;34m\u001b[0m\u001b[0;34m\u001b[0m\u001b[0m\n\u001b[1;32m   1232\u001b[0m                 \u001b[0mf\u001b[0m\u001b[0;34m.\u001b[0m\u001b[0mclose\u001b[0m\u001b[0;34m(\u001b[0m\u001b[0;34m)\u001b[0m\u001b[0;34m\u001b[0m\u001b[0;34m\u001b[0m\u001b[0m\n",
            "\u001b[0;32m/usr/local/lib/python3.6/dist-packages/keras/engine/saving.py\u001b[0m in \u001b[0;36mload_weights_from_hdf5_group\u001b[0;34m(f, layers, reshape)\u001b[0m\n\u001b[1;32m   1207\u001b[0m                          \u001b[0;34m'containing '\u001b[0m \u001b[0;34m+\u001b[0m \u001b[0mstr\u001b[0m\u001b[0;34m(\u001b[0m\u001b[0mlen\u001b[0m\u001b[0;34m(\u001b[0m\u001b[0mlayer_names\u001b[0m\u001b[0;34m)\u001b[0m\u001b[0;34m)\u001b[0m \u001b[0;34m+\u001b[0m\u001b[0;34m\u001b[0m\u001b[0;34m\u001b[0m\u001b[0m\n\u001b[1;32m   1208\u001b[0m                          \u001b[0;34m' layers into a model with '\u001b[0m \u001b[0;34m+\u001b[0m\u001b[0;34m\u001b[0m\u001b[0;34m\u001b[0m\u001b[0m\n\u001b[0;32m-> 1209\u001b[0;31m                          str(len(filtered_layers)) + ' layers.')\n\u001b[0m\u001b[1;32m   1210\u001b[0m \u001b[0;34m\u001b[0m\u001b[0m\n\u001b[1;32m   1211\u001b[0m     \u001b[0;31m# We batch weight value assignments in a single backend call\u001b[0m\u001b[0;34m\u001b[0m\u001b[0;34m\u001b[0m\u001b[0;34m\u001b[0m\u001b[0m\n",
            "\u001b[0;31mValueError\u001b[0m: You are trying to load a weight file containing 4 layers into a model with 7 layers."
          ]
        }
      ]
    },
    {
      "cell_type": "code",
      "metadata": {
        "id": "0yjISiXclohP",
        "colab_type": "code",
        "colab": {}
      },
      "source": [
        "# TODO:\n",
        "# Evaluate the models against RNN, LSTM, GRU and biLSTM and stacked Convnet"
      ],
      "execution_count": 0,
      "outputs": []
    },
    {
      "cell_type": "code",
      "metadata": {
        "id": "mnUNVrYAmIN8",
        "colab_type": "code",
        "colab": {}
      },
      "source": [
        "# Non-sequential archictecture. \n",
        "# output directory name:\n",
        "output_dir = 'model_output/multiconv'\n",
        " \n",
        "# training:\n",
        "epochs = 4\n",
        "batch_size = 128\n",
        " \n",
        "# vector-space embedding:\n",
        "n_dim = 64\n",
        "n_unique_words = 5000\n",
        "max_review_length = 400\n",
        "pad_type = trunc_type = 'pre'\n",
        "drop_embed = 0.2\n",
        " \n",
        "# convolutional layer architecture:\n",
        "n_conv_1 = n_conv_2 = n_conv_3 = 256\n",
        "k_conv_1 = 3\n",
        "k_conv_2 = 2\n",
        "k_conv_3 = 4\n",
        " \n",
        "# dense layer architecture:\n",
        "n_dense = 256\n",
        "dropout = 0.2"
      ],
      "execution_count": 0,
      "outputs": []
    },
    {
      "cell_type": "code",
      "metadata": {
        "id": "M2957Xi-mVmg",
        "colab_type": "code",
        "colab": {}
      },
      "source": [
        "from keras.models import Model \n",
        "from keras import Input\n",
        "from keras.layers import concatenate, GlobalMaxPooling1D"
      ],
      "execution_count": 0,
      "outputs": []
    },
    {
      "cell_type": "code",
      "metadata": {
        "id": "EZu1GbVjme3o",
        "colab_type": "code",
        "colab": {}
      },
      "source": [
        "# input layer:\n",
        "input_layer = Input(shape=(max_review_length,),\n",
        "                           dtype='int16', name='input')\n",
        "# embedding:\n",
        "embedding_layer = Embedding(n_unique_words, n_dim,\n",
        "                            name='embedding')(input_layer)\n",
        "drop_embed_layer = SpatialDropout1D(drop_embed,\n",
        "                                    name='drop_embed')(embedding_layer)"
      ],
      "execution_count": 0,
      "outputs": []
    },
    {
      "cell_type": "code",
      "metadata": {
        "id": "plcBycB8m-Kw",
        "colab_type": "code",
        "colab": {}
      },
      "source": [
        "# three parallel convolutional streams:\n",
        "conv_1 = Conv1D(n_conv_1, k_conv_1,\n",
        "                activation='relu', name='conv_1')(drop_embed_layer)\n",
        "maxp_1 = GlobalMaxPooling1D(name='maxp_1')(conv_1)\n",
        " \n",
        "conv_2 = Conv1D(n_conv_2, k_conv_2,\n",
        "                activation='relu', name='conv_2')(drop_embed_layer)\n",
        "        \n",
        "maxp_2 = GlobalMaxPooling1D(name='maxp_2')(conv_2)\n",
        " \n",
        "conv_3 = Conv1D(n_conv_3, k_conv_3,\n",
        "                activation='relu', name='conv_3')(drop_embed_layer)\n",
        " \n",
        "maxp_3 = GlobalMaxPooling1D(name='maxp_3')(conv_3)"
      ],
      "execution_count": 0,
      "outputs": []
    },
    {
      "cell_type": "code",
      "metadata": {
        "id": "aoEmqyZrnB0A",
        "colab_type": "code",
        "colab": {}
      },
      "source": [
        "# concatenate the activations from the three streams:\n",
        "concat = concatenate([maxp_1, maxp_2, maxp_3])\n",
        " \n",
        "# dense hidden layers:\n",
        "dense_layer = Dense(n_dense,\n",
        "                    activation='relu', name='dense')(concat)\n",
        "        \n",
        "drop_dense_layer = Dropout(dropout, name='drop_dense')(dense_layer)\n",
        "dense_2 = Dense(int(n_dense/4),\n",
        "                activation='relu', name='dense_2')(drop_dense_layer)\n",
        "        \n",
        "dropout_2 = Dropout(dropout, name='drop_dense_2')(dense_2)\n",
        " \n",
        "# sigmoid output layer:\n",
        "predictions = Dense(1, activation='sigmoid', name='output')(dropout_2) \n",
        " \n",
        "# create model:\n",
        "model = Model(input_layer, predictions)"
      ],
      "execution_count": 0,
      "outputs": []
    },
    {
      "cell_type": "code",
      "metadata": {
        "id": "qG2jWpjknNIq",
        "colab_type": "code",
        "colab": {}
      },
      "source": [
        "model.compile(loss='binary_crossentropy', optimizer='adam', metrics=['accuracy'])"
      ],
      "execution_count": 0,
      "outputs": []
    },
    {
      "cell_type": "code",
      "metadata": {
        "id": "okySWs3NnVTY",
        "colab_type": "code",
        "colab": {
          "base_uri": "https://localhost:8080/",
          "height": 737
        },
        "outputId": "159dfe04-8cf3-4475-8e68-5ce9fbe6dd62"
      },
      "source": [
        "model.summary()"
      ],
      "execution_count": 202,
      "outputs": [
        {
          "output_type": "stream",
          "text": [
            "Model: \"model_1\"\n",
            "__________________________________________________________________________________________________\n",
            "Layer (type)                    Output Shape         Param #     Connected to                     \n",
            "==================================================================================================\n",
            "input (InputLayer)              (None, 400)          0                                            \n",
            "__________________________________________________________________________________________________\n",
            "embedding (Embedding)           (None, 400, 64)      320000      input[0][0]                      \n",
            "__________________________________________________________________________________________________\n",
            "drop_embed (SpatialDropout1D)   (None, 400, 64)      0           embedding[0][0]                  \n",
            "__________________________________________________________________________________________________\n",
            "conv_1 (Conv1D)                 (None, 398, 256)     49408       drop_embed[0][0]                 \n",
            "__________________________________________________________________________________________________\n",
            "conv_2 (Conv1D)                 (None, 399, 256)     33024       drop_embed[0][0]                 \n",
            "__________________________________________________________________________________________________\n",
            "conv_3 (Conv1D)                 (None, 397, 256)     65792       drop_embed[0][0]                 \n",
            "__________________________________________________________________________________________________\n",
            "maxp_1 (GlobalMaxPooling1D)     (None, 256)          0           conv_1[0][0]                     \n",
            "__________________________________________________________________________________________________\n",
            "maxp_2 (GlobalMaxPooling1D)     (None, 256)          0           conv_2[0][0]                     \n",
            "__________________________________________________________________________________________________\n",
            "maxp_3 (GlobalMaxPooling1D)     (None, 256)          0           conv_3[0][0]                     \n",
            "__________________________________________________________________________________________________\n",
            "concatenate_1 (Concatenate)     (None, 768)          0           maxp_1[0][0]                     \n",
            "                                                                 maxp_2[0][0]                     \n",
            "                                                                 maxp_3[0][0]                     \n",
            "__________________________________________________________________________________________________\n",
            "dense (Dense)                   (None, 256)          196864      concatenate_1[0][0]              \n",
            "__________________________________________________________________________________________________\n",
            "drop_dense (Dropout)            (None, 256)          0           dense[0][0]                      \n",
            "__________________________________________________________________________________________________\n",
            "dense_2 (Dense)                 (None, 64)           16448       drop_dense[0][0]                 \n",
            "__________________________________________________________________________________________________\n",
            "drop_dense_2 (Dropout)          (None, 64)           0           dense_2[0][0]                    \n",
            "__________________________________________________________________________________________________\n",
            "output (Dense)                  (None, 1)            65          drop_dense_2[0][0]               \n",
            "==================================================================================================\n",
            "Total params: 681,601\n",
            "Trainable params: 681,601\n",
            "Non-trainable params: 0\n",
            "__________________________________________________________________________________________________\n"
          ],
          "name": "stdout"
        }
      ]
    },
    {
      "cell_type": "code",
      "metadata": {
        "id": "Kzf2x_2fnZjo",
        "colab_type": "code",
        "colab": {
          "base_uri": "https://localhost:8080/",
          "height": 557
        },
        "outputId": "fac7d00b-d073-4b78-faa4-ef42cc63a051"
      },
      "source": [
        "model.fit(x_train, y_train, batch_size=batch_size, epochs=epoch, verbose=1,\n",
        "          validation_data=(x_valid, y_valid), callbacks=[modelcheckpoint])"
      ],
      "execution_count": 207,
      "outputs": [
        {
          "output_type": "stream",
          "text": [
            "Train on 25000 samples, validate on 25000 samples\n",
            "Epoch 1/14\n",
            "25000/25000 [==============================] - 278s 11ms/step - loss: 0.5537 - accuracy: 0.6782 - val_loss: 0.3639 - val_accuracy: 0.8394\n",
            "Epoch 2/14\n",
            "25000/25000 [==============================] - 277s 11ms/step - loss: 0.3131 - accuracy: 0.8680 - val_loss: 0.3310 - val_accuracy: 0.8552\n",
            "Epoch 3/14\n",
            "25000/25000 [==============================] - 277s 11ms/step - loss: 0.2355 - accuracy: 0.9075 - val_loss: 0.3991 - val_accuracy: 0.8429\n",
            "Epoch 4/14\n",
            "25000/25000 [==============================] - 276s 11ms/step - loss: 0.1698 - accuracy: 0.9368 - val_loss: 0.3508 - val_accuracy: 0.8561\n",
            "Epoch 5/14\n",
            "25000/25000 [==============================] - 278s 11ms/step - loss: 0.1138 - accuracy: 0.9585 - val_loss: 0.4341 - val_accuracy: 0.8502\n",
            "Epoch 6/14\n",
            "25000/25000 [==============================] - 278s 11ms/step - loss: 0.0869 - accuracy: 0.9689 - val_loss: 0.4950 - val_accuracy: 0.8509\n",
            "Epoch 7/14\n",
            "25000/25000 [==============================] - 279s 11ms/step - loss: 0.0512 - accuracy: 0.9824 - val_loss: 0.5050 - val_accuracy: 0.8510\n",
            "Epoch 8/14\n",
            "25000/25000 [==============================] - 282s 11ms/step - loss: 0.0337 - accuracy: 0.9892 - val_loss: 0.5908 - val_accuracy: 0.8530\n",
            "Epoch 9/14\n",
            "25000/25000 [==============================] - 278s 11ms/step - loss: 0.0397 - accuracy: 0.9858 - val_loss: 0.6195 - val_accuracy: 0.8484\n",
            "Epoch 10/14\n",
            "25000/25000 [==============================] - 280s 11ms/step - loss: 0.0316 - accuracy: 0.9887 - val_loss: 0.6353 - val_accuracy: 0.8490\n",
            "Epoch 11/14\n",
            "25000/25000 [==============================] - 282s 11ms/step - loss: 0.0259 - accuracy: 0.9907 - val_loss: 0.6549 - val_accuracy: 0.8484\n",
            "Epoch 12/14\n",
            "25000/25000 [==============================] - 279s 11ms/step - loss: 0.0213 - accuracy: 0.9925 - val_loss: 0.8181 - val_accuracy: 0.8392\n",
            "Epoch 13/14\n",
            "25000/25000 [==============================] - 283s 11ms/step - loss: 0.0247 - accuracy: 0.9916 - val_loss: 0.6880 - val_accuracy: 0.8490\n",
            "Epoch 14/14\n",
            "25000/25000 [==============================] - 279s 11ms/step - loss: 0.0150 - accuracy: 0.9952 - val_loss: 0.7167 - val_accuracy: 0.8482\n"
          ],
          "name": "stdout"
        },
        {
          "output_type": "execute_result",
          "data": {
            "text/plain": [
              "<keras.callbacks.callbacks.History at 0x7fcace100be0>"
            ]
          },
          "metadata": {
            "tags": []
          },
          "execution_count": 207
        }
      ]
    },
    {
      "cell_type": "code",
      "metadata": {
        "id": "3-w8jA9GnzgX",
        "colab_type": "code",
        "colab": {}
      },
      "source": [
        "modelcheckpoint = ModelCheckpoint(filepath=output_dir+\"/weights.{epoch:02d}.hdf5\")\n",
        "if not os.path.exists(output_dir):\n",
        "  os.makedirs(output_dir)"
      ],
      "execution_count": 0,
      "outputs": []
    },
    {
      "cell_type": "code",
      "metadata": {
        "id": "R9FhX6I34zZm",
        "colab_type": "code",
        "colab": {
          "base_uri": "https://localhost:8080/",
          "height": 143
        },
        "outputId": "33ee005f-d7b3-40f1-b445-f3ea55e5985b"
      },
      "source": [
        "model.predict(x_valid)"
      ],
      "execution_count": 211,
      "outputs": [
        {
          "output_type": "execute_result",
          "data": {
            "text/plain": [
              "array([[2.0575932e-05],\n",
              "       [9.9973130e-01],\n",
              "       [9.9986631e-01],\n",
              "       ...,\n",
              "       [3.4660101e-04],\n",
              "       [5.0992697e-02],\n",
              "       [4.3948889e-03]], dtype=float32)"
            ]
          },
          "metadata": {
            "tags": []
          },
          "execution_count": 211
        }
      ]
    },
    {
      "cell_type": "code",
      "metadata": {
        "id": "gMq0Ic2yn8Rm",
        "colab_type": "code",
        "colab": {
          "base_uri": "https://localhost:8080/",
          "height": 35
        },
        "outputId": "caa02f94-7419-45d3-8b4b-3577b6c68ed8"
      },
      "source": [
        "y_hat = model.predict(x_valid)\n",
        "pct_auc = roc_auc_score(y_valid, y_hat)*100.0 \n",
        "\"{:0.2f}\".format(pct_auc)  # just formatting. "
      ],
      "execution_count": 212,
      "outputs": [
        {
          "output_type": "execute_result",
          "data": {
            "text/plain": [
              "'92.90'"
            ]
          },
          "metadata": {
            "tags": []
          },
          "execution_count": 212
        }
      ]
    },
    {
      "cell_type": "code",
      "metadata": {
        "id": "RuqeGcKp_8nZ",
        "colab_type": "code",
        "colab": {}
      },
      "source": [
        " Basicallly re-implement all these models using pytorch under current models. "
      ],
      "execution_count": 0,
      "outputs": []
    },
    {
      "cell_type": "markdown",
      "metadata": {
        "id": "9DlIzu2nnBQl",
        "colab_type": "text"
      },
      "source": [
        ""
      ]
    }
  ]
}